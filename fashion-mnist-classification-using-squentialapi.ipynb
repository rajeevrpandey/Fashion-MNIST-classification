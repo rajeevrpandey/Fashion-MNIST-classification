{
 "cells": [
  {
   "cell_type": "code",
   "execution_count": 1,
   "id": "51450b78",
   "metadata": {
    "_cell_guid": "b1076dfc-b9ad-4769-8c92-a6c4dae69d19",
    "_uuid": "8f2839f25d086af736a60e9eeb907d3b93b6e0e5",
    "execution": {
     "iopub.execute_input": "2024-06-08T07:04:53.961169Z",
     "iopub.status.busy": "2024-06-08T07:04:53.960771Z",
     "iopub.status.idle": "2024-06-08T07:04:54.802267Z",
     "shell.execute_reply": "2024-06-08T07:04:54.801367Z"
    },
    "papermill": {
     "duration": 0.854876,
     "end_time": "2024-06-08T07:04:54.804857",
     "exception": false,
     "start_time": "2024-06-08T07:04:53.949981",
     "status": "completed"
    },
    "tags": []
   },
   "outputs": [],
   "source": [
    "# This Python 3 environment comes with many helpful analytics libraries installed\n",
    "# It is defined by the kaggle/python Docker image: https://github.com/kaggle/docker-python\n",
    "# For example, here's several helpful packages to load\n",
    "\n",
    "import numpy as np # linear algebra\n",
    "import pandas as pd # data processing, CSV file I/O (e.g. pd.read_csv)\n",
    "\n",
    "# Input data files are available in the read-only \"../input/\" directory\n",
    "# For example, running this (by clicking run or pressing Shift+Enter) will list all files under the input directory\n",
    "\n",
    "import os\n",
    "for dirname, _, filenames in os.walk('/kaggle/input'):\n",
    "    for filename in filenames:\n",
    "        print(os.path.join(dirname, filename))\n",
    "\n",
    "# You can write up to 20GB to the current directory (/kaggle/working/) that gets preserved as output when you create a version using \"Save & Run All\" \n",
    "# You can also write temporary files to /kaggle/temp/, but they won't be saved outside of the current session"
   ]
  },
  {
   "cell_type": "code",
   "execution_count": 2,
   "id": "e7be5443",
   "metadata": {
    "execution": {
     "iopub.execute_input": "2024-06-08T07:04:54.826203Z",
     "iopub.status.busy": "2024-06-08T07:04:54.824986Z",
     "iopub.status.idle": "2024-06-08T07:05:08.325654Z",
     "shell.execute_reply": "2024-06-08T07:05:08.324583Z"
    },
    "papermill": {
     "duration": 13.513361,
     "end_time": "2024-06-08T07:05:08.328050",
     "exception": false,
     "start_time": "2024-06-08T07:04:54.814689",
     "status": "completed"
    },
    "tags": []
   },
   "outputs": [
    {
     "name": "stderr",
     "output_type": "stream",
     "text": [
      "2024-06-08 07:04:56.767959: E external/local_xla/xla/stream_executor/cuda/cuda_dnn.cc:9261] Unable to register cuDNN factory: Attempting to register factory for plugin cuDNN when one has already been registered\n",
      "2024-06-08 07:04:56.768083: E external/local_xla/xla/stream_executor/cuda/cuda_fft.cc:607] Unable to register cuFFT factory: Attempting to register factory for plugin cuFFT when one has already been registered\n",
      "2024-06-08 07:04:56.909700: E external/local_xla/xla/stream_executor/cuda/cuda_blas.cc:1515] Unable to register cuBLAS factory: Attempting to register factory for plugin cuBLAS when one has already been registered\n"
     ]
    },
    {
     "name": "stdout",
     "output_type": "stream",
     "text": [
      "Downloading data from https://storage.googleapis.com/tensorflow/tf-keras-datasets/train-labels-idx1-ubyte.gz\n",
      "\u001b[1m29515/29515\u001b[0m \u001b[32m━━━━━━━━━━━━━━━━━━━━\u001b[0m\u001b[37m\u001b[0m \u001b[1m0s\u001b[0m 0us/step\n",
      "Downloading data from https://storage.googleapis.com/tensorflow/tf-keras-datasets/train-images-idx3-ubyte.gz\n",
      "\u001b[1m26421880/26421880\u001b[0m \u001b[32m━━━━━━━━━━━━━━━━━━━━\u001b[0m\u001b[37m\u001b[0m \u001b[1m0s\u001b[0m 0us/step\n",
      "Downloading data from https://storage.googleapis.com/tensorflow/tf-keras-datasets/t10k-labels-idx1-ubyte.gz\n",
      "\u001b[1m5148/5148\u001b[0m \u001b[32m━━━━━━━━━━━━━━━━━━━━\u001b[0m\u001b[37m\u001b[0m \u001b[1m0s\u001b[0m 1us/step\n",
      "Downloading data from https://storage.googleapis.com/tensorflow/tf-keras-datasets/t10k-images-idx3-ubyte.gz\n",
      "\u001b[1m4422102/4422102\u001b[0m \u001b[32m━━━━━━━━━━━━━━━━━━━━\u001b[0m\u001b[37m\u001b[0m \u001b[1m0s\u001b[0m 0us/step\n"
     ]
    },
    {
     "data": {
      "text/plain": [
       "tuple"
      ]
     },
     "execution_count": 2,
     "metadata": {},
     "output_type": "execute_result"
    }
   ],
   "source": [
    "import tensorflow as tf\n",
    "fashion_mnist = tf.keras.datasets.fashion_mnist.load_data()\n",
    "type(fashion_mnist)"
   ]
  },
  {
   "cell_type": "code",
   "execution_count": 3,
   "id": "a912daa7",
   "metadata": {
    "execution": {
     "iopub.execute_input": "2024-06-08T07:05:08.350225Z",
     "iopub.status.busy": "2024-06-08T07:05:08.349609Z",
     "iopub.status.idle": "2024-06-08T07:05:08.355412Z",
     "shell.execute_reply": "2024-06-08T07:05:08.354443Z"
    },
    "papermill": {
     "duration": 0.019354,
     "end_time": "2024-06-08T07:05:08.357648",
     "exception": false,
     "start_time": "2024-06-08T07:05:08.338294",
     "status": "completed"
    },
    "tags": []
   },
   "outputs": [],
   "source": [
    "(X_train_full, y_train_full), (X_test, y_test) = fashion_mnist\n",
    "X_valid, y_valid = X_train_full[-5000:], y_train_full[-5000:]\n",
    "X_train, y_train = X_train_full[:-5000], y_train_full[:-5000]"
   ]
  },
  {
   "cell_type": "code",
   "execution_count": 4,
   "id": "94104fd6",
   "metadata": {
    "execution": {
     "iopub.execute_input": "2024-06-08T07:05:08.379208Z",
     "iopub.status.busy": "2024-06-08T07:05:08.378889Z",
     "iopub.status.idle": "2024-06-08T07:05:08.384968Z",
     "shell.execute_reply": "2024-06-08T07:05:08.384093Z"
    },
    "papermill": {
     "duration": 0.019342,
     "end_time": "2024-06-08T07:05:08.387115",
     "exception": false,
     "start_time": "2024-06-08T07:05:08.367773",
     "status": "completed"
    },
    "tags": []
   },
   "outputs": [
    {
     "data": {
      "text/plain": [
       "(55000, 28, 28)"
      ]
     },
     "execution_count": 4,
     "metadata": {},
     "output_type": "execute_result"
    }
   ],
   "source": [
    "X_train.shape"
   ]
  },
  {
   "cell_type": "code",
   "execution_count": 5,
   "id": "6158d8b5",
   "metadata": {
    "execution": {
     "iopub.execute_input": "2024-06-08T07:05:08.409254Z",
     "iopub.status.busy": "2024-06-08T07:05:08.408911Z",
     "iopub.status.idle": "2024-06-08T07:05:08.415210Z",
     "shell.execute_reply": "2024-06-08T07:05:08.414217Z"
    },
    "papermill": {
     "duration": 0.020001,
     "end_time": "2024-06-08T07:05:08.417537",
     "exception": false,
     "start_time": "2024-06-08T07:05:08.397536",
     "status": "completed"
    },
    "tags": []
   },
   "outputs": [
    {
     "data": {
      "text/plain": [
       "dtype('uint8')"
      ]
     },
     "execution_count": 5,
     "metadata": {},
     "output_type": "execute_result"
    }
   ],
   "source": [
    "X_train.dtype"
   ]
  },
  {
   "cell_type": "code",
   "execution_count": 6,
   "id": "ad9d2131",
   "metadata": {
    "execution": {
     "iopub.execute_input": "2024-06-08T07:05:08.439885Z",
     "iopub.status.busy": "2024-06-08T07:05:08.439521Z",
     "iopub.status.idle": "2024-06-08T07:05:08.447197Z",
     "shell.execute_reply": "2024-06-08T07:05:08.446255Z"
    },
    "papermill": {
     "duration": 0.021483,
     "end_time": "2024-06-08T07:05:08.449484",
     "exception": false,
     "start_time": "2024-06-08T07:05:08.428001",
     "status": "completed"
    },
    "tags": []
   },
   "outputs": [
    {
     "data": {
      "text/plain": [
       "array([0, 1, 2, 3, 4, 5, 6, 7, 8, 9], dtype=uint8)"
      ]
     },
     "execution_count": 6,
     "metadata": {},
     "output_type": "execute_result"
    }
   ],
   "source": [
    "np.unique(y_train)"
   ]
  },
  {
   "cell_type": "code",
   "execution_count": 7,
   "id": "707396f3",
   "metadata": {
    "execution": {
     "iopub.execute_input": "2024-06-08T07:05:08.471958Z",
     "iopub.status.busy": "2024-06-08T07:05:08.471580Z",
     "iopub.status.idle": "2024-06-08T07:05:08.478197Z",
     "shell.execute_reply": "2024-06-08T07:05:08.477179Z"
    },
    "papermill": {
     "duration": 0.020801,
     "end_time": "2024-06-08T07:05:08.480564",
     "exception": false,
     "start_time": "2024-06-08T07:05:08.459763",
     "status": "completed"
    },
    "tags": []
   },
   "outputs": [
    {
     "data": {
      "text/plain": [
       "9"
      ]
     },
     "execution_count": 7,
     "metadata": {},
     "output_type": "execute_result"
    }
   ],
   "source": [
    "y_train[0]"
   ]
  },
  {
   "cell_type": "code",
   "execution_count": 8,
   "id": "4f087cf8",
   "metadata": {
    "execution": {
     "iopub.execute_input": "2024-06-08T07:05:08.504129Z",
     "iopub.status.busy": "2024-06-08T07:05:08.503756Z",
     "iopub.status.idle": "2024-06-08T07:05:08.700858Z",
     "shell.execute_reply": "2024-06-08T07:05:08.699899Z"
    },
    "papermill": {
     "duration": 0.21215,
     "end_time": "2024-06-08T07:05:08.703788",
     "exception": false,
     "start_time": "2024-06-08T07:05:08.491638",
     "status": "completed"
    },
    "tags": []
   },
   "outputs": [],
   "source": [
    "# Let's scale the pixel intensities down to the 0-1 range and convert them to floats, by dividing by 255:\n",
    "\n",
    "X_train, X_valid, X_test = X_train / 255., X_valid / 255., X_test / 255."
   ]
  },
  {
   "cell_type": "code",
   "execution_count": 9,
   "id": "9d4e33f5",
   "metadata": {
    "execution": {
     "iopub.execute_input": "2024-06-08T07:05:08.727687Z",
     "iopub.status.busy": "2024-06-08T07:05:08.727273Z",
     "iopub.status.idle": "2024-06-08T07:05:08.733224Z",
     "shell.execute_reply": "2024-06-08T07:05:08.731985Z"
    },
    "papermill": {
     "duration": 0.020792,
     "end_time": "2024-06-08T07:05:08.735912",
     "exception": false,
     "start_time": "2024-06-08T07:05:08.715120",
     "status": "completed"
    },
    "tags": []
   },
   "outputs": [],
   "source": [
    "#Here are the corresponding class names:\n",
    "\n",
    "class_names = [\"T-shirt/top\", \"Trouser\", \"Pullover\", \"Dress\", \"Coat\",\n",
    "               \"Sandal\", \"Shirt\", \"Sneaker\", \"Bag\", \"Ankle boot\"]"
   ]
  },
  {
   "cell_type": "code",
   "execution_count": 10,
   "id": "d7ec4725",
   "metadata": {
    "execution": {
     "iopub.execute_input": "2024-06-08T07:05:08.761248Z",
     "iopub.status.busy": "2024-06-08T07:05:08.760862Z",
     "iopub.status.idle": "2024-06-08T07:05:08.854664Z",
     "shell.execute_reply": "2024-06-08T07:05:08.853560Z"
    },
    "papermill": {
     "duration": 0.109789,
     "end_time": "2024-06-08T07:05:08.857472",
     "exception": false,
     "start_time": "2024-06-08T07:05:08.747683",
     "status": "completed"
    },
    "tags": []
   },
   "outputs": [],
   "source": [
    "# Creating the model using the sequential API\n",
    "\n",
    "tf.random.set_seed(42)\n",
    "model = tf.keras.Sequential() # using sequential model\n",
    "model.add(tf.keras.layers.Input(shape = [28, 28])) # adding input layer specifying input size\n",
    "model.add(tf.keras.layers.Flatten()) # it will convert the input into 1d array\n",
    "model.add(tf.keras.layers.Dense(300, activation=\"relu\"))\n",
    "model.add(tf.keras.layers.Dense(100, activation=\"relu\"))\n",
    "model.add(tf.keras.layers.Dense(10, activation=\"softmax\"))"
   ]
  },
  {
   "cell_type": "code",
   "execution_count": 11,
   "id": "f90baa0f",
   "metadata": {
    "execution": {
     "iopub.execute_input": "2024-06-08T07:05:08.881395Z",
     "iopub.status.busy": "2024-06-08T07:05:08.880992Z",
     "iopub.status.idle": "2024-06-08T07:05:08.903314Z",
     "shell.execute_reply": "2024-06-08T07:05:08.902333Z"
    },
    "papermill": {
     "duration": 0.036968,
     "end_time": "2024-06-08T07:05:08.905685",
     "exception": false,
     "start_time": "2024-06-08T07:05:08.868717",
     "status": "completed"
    },
    "tags": []
   },
   "outputs": [
    {
     "data": {
      "text/html": [
       "<pre style=\"white-space:pre;overflow-x:auto;line-height:normal;font-family:Menlo,'DejaVu Sans Mono',consolas,'Courier New',monospace\"><span style=\"font-weight: bold\">Model: \"sequential\"</span>\n",
       "</pre>\n"
      ],
      "text/plain": [
       "\u001b[1mModel: \"sequential\"\u001b[0m\n"
      ]
     },
     "metadata": {},
     "output_type": "display_data"
    },
    {
     "data": {
      "text/html": [
       "<pre style=\"white-space:pre;overflow-x:auto;line-height:normal;font-family:Menlo,'DejaVu Sans Mono',consolas,'Courier New',monospace\">┏━━━━━━━━━━━━━━━━━━━━━━━━━━━━━━━━━┳━━━━━━━━━━━━━━━━━━━━━━━━┳━━━━━━━━━━━━━━━┓\n",
       "┃<span style=\"font-weight: bold\"> Layer (type)                    </span>┃<span style=\"font-weight: bold\"> Output Shape           </span>┃<span style=\"font-weight: bold\">       Param # </span>┃\n",
       "┡━━━━━━━━━━━━━━━━━━━━━━━━━━━━━━━━━╇━━━━━━━━━━━━━━━━━━━━━━━━╇━━━━━━━━━━━━━━━┩\n",
       "│ flatten (<span style=\"color: #0087ff; text-decoration-color: #0087ff\">Flatten</span>)               │ (<span style=\"color: #00d7ff; text-decoration-color: #00d7ff\">None</span>, <span style=\"color: #00af00; text-decoration-color: #00af00\">784</span>)            │             <span style=\"color: #00af00; text-decoration-color: #00af00\">0</span> │\n",
       "├─────────────────────────────────┼────────────────────────┼───────────────┤\n",
       "│ dense (<span style=\"color: #0087ff; text-decoration-color: #0087ff\">Dense</span>)                   │ (<span style=\"color: #00d7ff; text-decoration-color: #00d7ff\">None</span>, <span style=\"color: #00af00; text-decoration-color: #00af00\">300</span>)            │       <span style=\"color: #00af00; text-decoration-color: #00af00\">235,500</span> │\n",
       "├─────────────────────────────────┼────────────────────────┼───────────────┤\n",
       "│ dense_1 (<span style=\"color: #0087ff; text-decoration-color: #0087ff\">Dense</span>)                 │ (<span style=\"color: #00d7ff; text-decoration-color: #00d7ff\">None</span>, <span style=\"color: #00af00; text-decoration-color: #00af00\">100</span>)            │        <span style=\"color: #00af00; text-decoration-color: #00af00\">30,100</span> │\n",
       "├─────────────────────────────────┼────────────────────────┼───────────────┤\n",
       "│ dense_2 (<span style=\"color: #0087ff; text-decoration-color: #0087ff\">Dense</span>)                 │ (<span style=\"color: #00d7ff; text-decoration-color: #00d7ff\">None</span>, <span style=\"color: #00af00; text-decoration-color: #00af00\">10</span>)             │         <span style=\"color: #00af00; text-decoration-color: #00af00\">1,010</span> │\n",
       "└─────────────────────────────────┴────────────────────────┴───────────────┘\n",
       "</pre>\n"
      ],
      "text/plain": [
       "┏━━━━━━━━━━━━━━━━━━━━━━━━━━━━━━━━━┳━━━━━━━━━━━━━━━━━━━━━━━━┳━━━━━━━━━━━━━━━┓\n",
       "┃\u001b[1m \u001b[0m\u001b[1mLayer (type)                   \u001b[0m\u001b[1m \u001b[0m┃\u001b[1m \u001b[0m\u001b[1mOutput Shape          \u001b[0m\u001b[1m \u001b[0m┃\u001b[1m \u001b[0m\u001b[1m      Param #\u001b[0m\u001b[1m \u001b[0m┃\n",
       "┡━━━━━━━━━━━━━━━━━━━━━━━━━━━━━━━━━╇━━━━━━━━━━━━━━━━━━━━━━━━╇━━━━━━━━━━━━━━━┩\n",
       "│ flatten (\u001b[38;5;33mFlatten\u001b[0m)               │ (\u001b[38;5;45mNone\u001b[0m, \u001b[38;5;34m784\u001b[0m)            │             \u001b[38;5;34m0\u001b[0m │\n",
       "├─────────────────────────────────┼────────────────────────┼───────────────┤\n",
       "│ dense (\u001b[38;5;33mDense\u001b[0m)                   │ (\u001b[38;5;45mNone\u001b[0m, \u001b[38;5;34m300\u001b[0m)            │       \u001b[38;5;34m235,500\u001b[0m │\n",
       "├─────────────────────────────────┼────────────────────────┼───────────────┤\n",
       "│ dense_1 (\u001b[38;5;33mDense\u001b[0m)                 │ (\u001b[38;5;45mNone\u001b[0m, \u001b[38;5;34m100\u001b[0m)            │        \u001b[38;5;34m30,100\u001b[0m │\n",
       "├─────────────────────────────────┼────────────────────────┼───────────────┤\n",
       "│ dense_2 (\u001b[38;5;33mDense\u001b[0m)                 │ (\u001b[38;5;45mNone\u001b[0m, \u001b[38;5;34m10\u001b[0m)             │         \u001b[38;5;34m1,010\u001b[0m │\n",
       "└─────────────────────────────────┴────────────────────────┴───────────────┘\n"
      ]
     },
     "metadata": {},
     "output_type": "display_data"
    },
    {
     "data": {
      "text/html": [
       "<pre style=\"white-space:pre;overflow-x:auto;line-height:normal;font-family:Menlo,'DejaVu Sans Mono',consolas,'Courier New',monospace\"><span style=\"font-weight: bold\"> Total params: </span><span style=\"color: #00af00; text-decoration-color: #00af00\">266,610</span> (1.02 MB)\n",
       "</pre>\n"
      ],
      "text/plain": [
       "\u001b[1m Total params: \u001b[0m\u001b[38;5;34m266,610\u001b[0m (1.02 MB)\n"
      ]
     },
     "metadata": {},
     "output_type": "display_data"
    },
    {
     "data": {
      "text/html": [
       "<pre style=\"white-space:pre;overflow-x:auto;line-height:normal;font-family:Menlo,'DejaVu Sans Mono',consolas,'Courier New',monospace\"><span style=\"font-weight: bold\"> Trainable params: </span><span style=\"color: #00af00; text-decoration-color: #00af00\">266,610</span> (1.02 MB)\n",
       "</pre>\n"
      ],
      "text/plain": [
       "\u001b[1m Trainable params: \u001b[0m\u001b[38;5;34m266,610\u001b[0m (1.02 MB)\n"
      ]
     },
     "metadata": {},
     "output_type": "display_data"
    },
    {
     "data": {
      "text/html": [
       "<pre style=\"white-space:pre;overflow-x:auto;line-height:normal;font-family:Menlo,'DejaVu Sans Mono',consolas,'Courier New',monospace\"><span style=\"font-weight: bold\"> Non-trainable params: </span><span style=\"color: #00af00; text-decoration-color: #00af00\">0</span> (0.00 B)\n",
       "</pre>\n"
      ],
      "text/plain": [
       "\u001b[1m Non-trainable params: \u001b[0m\u001b[38;5;34m0\u001b[0m (0.00 B)\n"
      ]
     },
     "metadata": {},
     "output_type": "display_data"
    }
   ],
   "source": [
    "model.summary()"
   ]
  },
  {
   "cell_type": "code",
   "execution_count": 12,
   "id": "a80abd57",
   "metadata": {
    "execution": {
     "iopub.execute_input": "2024-06-08T07:05:08.931166Z",
     "iopub.status.busy": "2024-06-08T07:05:08.930786Z",
     "iopub.status.idle": "2024-06-08T07:05:08.937271Z",
     "shell.execute_reply": "2024-06-08T07:05:08.936286Z"
    },
    "papermill": {
     "duration": 0.021927,
     "end_time": "2024-06-08T07:05:08.939704",
     "exception": false,
     "start_time": "2024-06-08T07:05:08.917777",
     "status": "completed"
    },
    "tags": []
   },
   "outputs": [
    {
     "data": {
      "text/plain": [
       "[<Flatten name=flatten, built=True>,\n",
       " <Dense name=dense, built=True>,\n",
       " <Dense name=dense_1, built=True>,\n",
       " <Dense name=dense_2, built=True>]"
      ]
     },
     "execution_count": 12,
     "metadata": {},
     "output_type": "execute_result"
    }
   ],
   "source": [
    "model.layers"
   ]
  },
  {
   "cell_type": "code",
   "execution_count": 13,
   "id": "c2b849cb",
   "metadata": {
    "execution": {
     "iopub.execute_input": "2024-06-08T07:05:08.965542Z",
     "iopub.status.busy": "2024-06-08T07:05:08.965136Z",
     "iopub.status.idle": "2024-06-08T07:05:08.972265Z",
     "shell.execute_reply": "2024-06-08T07:05:08.971219Z"
    },
    "papermill": {
     "duration": 0.022725,
     "end_time": "2024-06-08T07:05:08.974431",
     "exception": false,
     "start_time": "2024-06-08T07:05:08.951706",
     "status": "completed"
    },
    "tags": []
   },
   "outputs": [
    {
     "data": {
      "text/plain": [
       "'dense'"
      ]
     },
     "execution_count": 13,
     "metadata": {},
     "output_type": "execute_result"
    }
   ],
   "source": [
    "hidden1 = model.get_layer(\"dense\")\n",
    "hidden1.name"
   ]
  },
  {
   "cell_type": "code",
   "execution_count": 14,
   "id": "14247a28",
   "metadata": {
    "execution": {
     "iopub.execute_input": "2024-06-08T07:05:09.000447Z",
     "iopub.status.busy": "2024-06-08T07:05:09.000055Z",
     "iopub.status.idle": "2024-06-08T07:05:09.012932Z",
     "shell.execute_reply": "2024-06-08T07:05:09.011678Z"
    },
    "papermill": {
     "duration": 0.028859,
     "end_time": "2024-06-08T07:05:09.015260",
     "exception": false,
     "start_time": "2024-06-08T07:05:08.986401",
     "status": "completed"
    },
    "tags": []
   },
   "outputs": [
    {
     "data": {
      "text/plain": [
       "array([[-0.04814877, -0.01269333, -0.06128072, ...,  0.02393993,\n",
       "        -0.06089283, -0.07218519],\n",
       "       [-0.07048298, -0.02016038, -0.01478473, ..., -0.06492938,\n",
       "         0.05195962, -0.00677153],\n",
       "       [-0.02000001,  0.01065145, -0.02763265, ...,  0.02606725,\n",
       "        -0.06934488, -0.06588648],\n",
       "       ...,\n",
       "       [ 0.01287452, -0.01307184, -0.03754048, ..., -0.04801914,\n",
       "         0.04269511,  0.05886292],\n",
       "       [ 0.07132719,  0.06642702,  0.02796815, ..., -0.04721448,\n",
       "         0.0592458 , -0.03688076],\n",
       "       [-0.03901679, -0.03084911, -0.00892194, ...,  0.02704095,\n",
       "         0.03142665,  0.00290485]], dtype=float32)"
      ]
     },
     "execution_count": 14,
     "metadata": {},
     "output_type": "execute_result"
    }
   ],
   "source": [
    "weights, biases = hidden1.get_weights()\n",
    "weights"
   ]
  },
  {
   "cell_type": "code",
   "execution_count": 15,
   "id": "26b158dc",
   "metadata": {
    "execution": {
     "iopub.execute_input": "2024-06-08T07:05:09.042184Z",
     "iopub.status.busy": "2024-06-08T07:05:09.041810Z",
     "iopub.status.idle": "2024-06-08T07:05:09.051132Z",
     "shell.execute_reply": "2024-06-08T07:05:09.050205Z"
    },
    "papermill": {
     "duration": 0.025481,
     "end_time": "2024-06-08T07:05:09.053430",
     "exception": false,
     "start_time": "2024-06-08T07:05:09.027949",
     "status": "completed"
    },
    "tags": []
   },
   "outputs": [
    {
     "data": {
      "text/plain": [
       "array([0., 0., 0., 0., 0., 0., 0., 0., 0., 0., 0., 0., 0., 0., 0., 0., 0.,\n",
       "       0., 0., 0., 0., 0., 0., 0., 0., 0., 0., 0., 0., 0., 0., 0., 0., 0.,\n",
       "       0., 0., 0., 0., 0., 0., 0., 0., 0., 0., 0., 0., 0., 0., 0., 0., 0.,\n",
       "       0., 0., 0., 0., 0., 0., 0., 0., 0., 0., 0., 0., 0., 0., 0., 0., 0.,\n",
       "       0., 0., 0., 0., 0., 0., 0., 0., 0., 0., 0., 0., 0., 0., 0., 0., 0.,\n",
       "       0., 0., 0., 0., 0., 0., 0., 0., 0., 0., 0., 0., 0., 0., 0., 0., 0.,\n",
       "       0., 0., 0., 0., 0., 0., 0., 0., 0., 0., 0., 0., 0., 0., 0., 0., 0.,\n",
       "       0., 0., 0., 0., 0., 0., 0., 0., 0., 0., 0., 0., 0., 0., 0., 0., 0.,\n",
       "       0., 0., 0., 0., 0., 0., 0., 0., 0., 0., 0., 0., 0., 0., 0., 0., 0.,\n",
       "       0., 0., 0., 0., 0., 0., 0., 0., 0., 0., 0., 0., 0., 0., 0., 0., 0.,\n",
       "       0., 0., 0., 0., 0., 0., 0., 0., 0., 0., 0., 0., 0., 0., 0., 0., 0.,\n",
       "       0., 0., 0., 0., 0., 0., 0., 0., 0., 0., 0., 0., 0., 0., 0., 0., 0.,\n",
       "       0., 0., 0., 0., 0., 0., 0., 0., 0., 0., 0., 0., 0., 0., 0., 0., 0.,\n",
       "       0., 0., 0., 0., 0., 0., 0., 0., 0., 0., 0., 0., 0., 0., 0., 0., 0.,\n",
       "       0., 0., 0., 0., 0., 0., 0., 0., 0., 0., 0., 0., 0., 0., 0., 0., 0.,\n",
       "       0., 0., 0., 0., 0., 0., 0., 0., 0., 0., 0., 0., 0., 0., 0., 0., 0.,\n",
       "       0., 0., 0., 0., 0., 0., 0., 0., 0., 0., 0., 0., 0., 0., 0., 0., 0.,\n",
       "       0., 0., 0., 0., 0., 0., 0., 0., 0., 0., 0.], dtype=float32)"
      ]
     },
     "execution_count": 15,
     "metadata": {},
     "output_type": "execute_result"
    }
   ],
   "source": [
    "biases"
   ]
  },
  {
   "cell_type": "code",
   "execution_count": 16,
   "id": "68aa4634",
   "metadata": {
    "execution": {
     "iopub.execute_input": "2024-06-08T07:05:09.080322Z",
     "iopub.status.busy": "2024-06-08T07:05:09.079925Z",
     "iopub.status.idle": "2024-06-08T07:05:09.086575Z",
     "shell.execute_reply": "2024-06-08T07:05:09.085578Z"
    },
    "papermill": {
     "duration": 0.02293,
     "end_time": "2024-06-08T07:05:09.088966",
     "exception": false,
     "start_time": "2024-06-08T07:05:09.066036",
     "status": "completed"
    },
    "tags": []
   },
   "outputs": [
    {
     "data": {
      "text/plain": [
       "(784, 300)"
      ]
     },
     "execution_count": 16,
     "metadata": {},
     "output_type": "execute_result"
    }
   ],
   "source": [
    "weights.shape"
   ]
  },
  {
   "cell_type": "code",
   "execution_count": 17,
   "id": "9d722242",
   "metadata": {
    "execution": {
     "iopub.execute_input": "2024-06-08T07:05:09.115720Z",
     "iopub.status.busy": "2024-06-08T07:05:09.115299Z",
     "iopub.status.idle": "2024-06-08T07:05:09.121841Z",
     "shell.execute_reply": "2024-06-08T07:05:09.120781Z"
    },
    "papermill": {
     "duration": 0.022551,
     "end_time": "2024-06-08T07:05:09.124023",
     "exception": false,
     "start_time": "2024-06-08T07:05:09.101472",
     "status": "completed"
    },
    "tags": []
   },
   "outputs": [
    {
     "data": {
      "text/plain": [
       "(300,)"
      ]
     },
     "execution_count": 17,
     "metadata": {},
     "output_type": "execute_result"
    }
   ],
   "source": [
    "biases.shape"
   ]
  },
  {
   "cell_type": "code",
   "execution_count": 18,
   "id": "115ffd7b",
   "metadata": {
    "execution": {
     "iopub.execute_input": "2024-06-08T07:05:09.151415Z",
     "iopub.status.busy": "2024-06-08T07:05:09.151049Z",
     "iopub.status.idle": "2024-06-08T07:05:09.155509Z",
     "shell.execute_reply": "2024-06-08T07:05:09.154564Z"
    },
    "papermill": {
     "duration": 0.020773,
     "end_time": "2024-06-08T07:05:09.157663",
     "exception": false,
     "start_time": "2024-06-08T07:05:09.136890",
     "status": "completed"
    },
    "tags": []
   },
   "outputs": [],
   "source": [
    "# we can also set the parameters of any layer using set_weights()"
   ]
  },
  {
   "cell_type": "code",
   "execution_count": 19,
   "id": "d7b4d329",
   "metadata": {
    "execution": {
     "iopub.execute_input": "2024-06-08T07:05:09.184769Z",
     "iopub.status.busy": "2024-06-08T07:05:09.184170Z",
     "iopub.status.idle": "2024-06-08T07:05:09.199427Z",
     "shell.execute_reply": "2024-06-08T07:05:09.198330Z"
    },
    "papermill": {
     "duration": 0.031306,
     "end_time": "2024-06-08T07:05:09.201710",
     "exception": false,
     "start_time": "2024-06-08T07:05:09.170404",
     "status": "completed"
    },
    "tags": []
   },
   "outputs": [],
   "source": [
    "# compiling the model by specifying the loss function and optimizer\n",
    "\n",
    "model.compile(loss=\"sparse_categorical_crossentropy\", # used when sparse labels and classes are exclusive\n",
    "             optimizer=\"sgd\", # stocastic GD, i.e., backpropagation is being used for training with default learning rate of 0.01\n",
    "             metrics=[\"accuracy\"])\n",
    "# we can also specify any extra metrics to compute during training and evaluation\n",
    "\n",
    "\n"
   ]
  },
  {
   "cell_type": "code",
   "execution_count": 20,
   "id": "05510209",
   "metadata": {
    "execution": {
     "iopub.execute_input": "2024-06-08T07:05:09.228533Z",
     "iopub.status.busy": "2024-06-08T07:05:09.228167Z",
     "iopub.status.idle": "2024-06-08T07:07:30.007431Z",
     "shell.execute_reply": "2024-06-08T07:07:30.006399Z"
    },
    "papermill": {
     "duration": 140.79558,
     "end_time": "2024-06-08T07:07:30.010232",
     "exception": false,
     "start_time": "2024-06-08T07:05:09.214652",
     "status": "completed"
    },
    "tags": []
   },
   "outputs": [
    {
     "name": "stdout",
     "output_type": "stream",
     "text": [
      "Epoch 1/30\n",
      "\u001b[1m1719/1719\u001b[0m \u001b[32m━━━━━━━━━━━━━━━━━━━━\u001b[0m\u001b[37m\u001b[0m \u001b[1m5s\u001b[0m 3ms/step - accuracy: 0.6980 - loss: 0.9682 - val_accuracy: 0.8274 - val_loss: 0.5025\n",
      "Epoch 2/30\n",
      "\u001b[1m1719/1719\u001b[0m \u001b[32m━━━━━━━━━━━━━━━━━━━━\u001b[0m\u001b[37m\u001b[0m \u001b[1m4s\u001b[0m 3ms/step - accuracy: 0.8283 - loss: 0.5009 - val_accuracy: 0.8448 - val_loss: 0.4502\n",
      "Epoch 3/30\n",
      "\u001b[1m1719/1719\u001b[0m \u001b[32m━━━━━━━━━━━━━━━━━━━━\u001b[0m\u001b[37m\u001b[0m \u001b[1m4s\u001b[0m 3ms/step - accuracy: 0.8450 - loss: 0.4485 - val_accuracy: 0.8468 - val_loss: 0.4271\n",
      "Epoch 4/30\n",
      "\u001b[1m1719/1719\u001b[0m \u001b[32m━━━━━━━━━━━━━━━━━━━━\u001b[0m\u001b[37m\u001b[0m \u001b[1m4s\u001b[0m 3ms/step - accuracy: 0.8555 - loss: 0.4185 - val_accuracy: 0.8560 - val_loss: 0.4079\n",
      "Epoch 5/30\n",
      "\u001b[1m1719/1719\u001b[0m \u001b[32m━━━━━━━━━━━━━━━━━━━━\u001b[0m\u001b[37m\u001b[0m \u001b[1m5s\u001b[0m 3ms/step - accuracy: 0.8617 - loss: 0.3967 - val_accuracy: 0.8598 - val_loss: 0.3961\n",
      "Epoch 6/30\n",
      "\u001b[1m1719/1719\u001b[0m \u001b[32m━━━━━━━━━━━━━━━━━━━━\u001b[0m\u001b[37m\u001b[0m \u001b[1m5s\u001b[0m 3ms/step - accuracy: 0.8665 - loss: 0.3796 - val_accuracy: 0.8632 - val_loss: 0.3861\n",
      "Epoch 7/30\n",
      "\u001b[1m1719/1719\u001b[0m \u001b[32m━━━━━━━━━━━━━━━━━━━━\u001b[0m\u001b[37m\u001b[0m \u001b[1m5s\u001b[0m 3ms/step - accuracy: 0.8708 - loss: 0.3652 - val_accuracy: 0.8648 - val_loss: 0.3794\n",
      "Epoch 8/30\n",
      "\u001b[1m1719/1719\u001b[0m \u001b[32m━━━━━━━━━━━━━━━━━━━━\u001b[0m\u001b[37m\u001b[0m \u001b[1m5s\u001b[0m 3ms/step - accuracy: 0.8751 - loss: 0.3528 - val_accuracy: 0.8662 - val_loss: 0.3734\n",
      "Epoch 9/30\n",
      "\u001b[1m1719/1719\u001b[0m \u001b[32m━━━━━━━━━━━━━━━━━━━━\u001b[0m\u001b[37m\u001b[0m \u001b[1m5s\u001b[0m 3ms/step - accuracy: 0.8785 - loss: 0.3420 - val_accuracy: 0.8690 - val_loss: 0.3686\n",
      "Epoch 10/30\n",
      "\u001b[1m1719/1719\u001b[0m \u001b[32m━━━━━━━━━━━━━━━━━━━━\u001b[0m\u001b[37m\u001b[0m \u001b[1m4s\u001b[0m 3ms/step - accuracy: 0.8813 - loss: 0.3323 - val_accuracy: 0.8696 - val_loss: 0.3645\n",
      "Epoch 11/30\n",
      "\u001b[1m1719/1719\u001b[0m \u001b[32m━━━━━━━━━━━━━━━━━━━━\u001b[0m\u001b[37m\u001b[0m \u001b[1m5s\u001b[0m 3ms/step - accuracy: 0.8843 - loss: 0.3235 - val_accuracy: 0.8700 - val_loss: 0.3619\n",
      "Epoch 12/30\n",
      "\u001b[1m1719/1719\u001b[0m \u001b[32m━━━━━━━━━━━━━━━━━━━━\u001b[0m\u001b[37m\u001b[0m \u001b[1m5s\u001b[0m 3ms/step - accuracy: 0.8869 - loss: 0.3154 - val_accuracy: 0.8716 - val_loss: 0.3581\n",
      "Epoch 13/30\n",
      "\u001b[1m1719/1719\u001b[0m \u001b[32m━━━━━━━━━━━━━━━━━━━━\u001b[0m\u001b[37m\u001b[0m \u001b[1m5s\u001b[0m 3ms/step - accuracy: 0.8908 - loss: 0.3078 - val_accuracy: 0.8712 - val_loss: 0.3543\n",
      "Epoch 14/30\n",
      "\u001b[1m1719/1719\u001b[0m \u001b[32m━━━━━━━━━━━━━━━━━━━━\u001b[0m\u001b[37m\u001b[0m \u001b[1m5s\u001b[0m 3ms/step - accuracy: 0.8928 - loss: 0.3006 - val_accuracy: 0.8708 - val_loss: 0.3519\n",
      "Epoch 15/30\n",
      "\u001b[1m1719/1719\u001b[0m \u001b[32m━━━━━━━━━━━━━━━━━━━━\u001b[0m\u001b[37m\u001b[0m \u001b[1m5s\u001b[0m 3ms/step - accuracy: 0.8955 - loss: 0.2938 - val_accuracy: 0.8728 - val_loss: 0.3502\n",
      "Epoch 16/30\n",
      "\u001b[1m1719/1719\u001b[0m \u001b[32m━━━━━━━━━━━━━━━━━━━━\u001b[0m\u001b[37m\u001b[0m \u001b[1m5s\u001b[0m 3ms/step - accuracy: 0.8983 - loss: 0.2874 - val_accuracy: 0.8732 - val_loss: 0.3501\n",
      "Epoch 17/30\n",
      "\u001b[1m1719/1719\u001b[0m \u001b[32m━━━━━━━━━━━━━━━━━━━━\u001b[0m\u001b[37m\u001b[0m \u001b[1m5s\u001b[0m 3ms/step - accuracy: 0.9002 - loss: 0.2815 - val_accuracy: 0.8750 - val_loss: 0.3483\n",
      "Epoch 18/30\n",
      "\u001b[1m1719/1719\u001b[0m \u001b[32m━━━━━━━━━━━━━━━━━━━━\u001b[0m\u001b[37m\u001b[0m \u001b[1m5s\u001b[0m 3ms/step - accuracy: 0.9023 - loss: 0.2758 - val_accuracy: 0.8740 - val_loss: 0.3474\n",
      "Epoch 19/30\n",
      "\u001b[1m1719/1719\u001b[0m \u001b[32m━━━━━━━━━━━━━━━━━━━━\u001b[0m\u001b[37m\u001b[0m \u001b[1m5s\u001b[0m 3ms/step - accuracy: 0.9041 - loss: 0.2702 - val_accuracy: 0.8726 - val_loss: 0.3485\n",
      "Epoch 20/30\n",
      "\u001b[1m1719/1719\u001b[0m \u001b[32m━━━━━━━━━━━━━━━━━━━━\u001b[0m\u001b[37m\u001b[0m \u001b[1m5s\u001b[0m 3ms/step - accuracy: 0.9061 - loss: 0.2649 - val_accuracy: 0.8728 - val_loss: 0.3474\n",
      "Epoch 21/30\n",
      "\u001b[1m1719/1719\u001b[0m \u001b[32m━━━━━━━━━━━━━━━━━━━━\u001b[0m\u001b[37m\u001b[0m \u001b[1m5s\u001b[0m 3ms/step - accuracy: 0.9081 - loss: 0.2598 - val_accuracy: 0.8732 - val_loss: 0.3472\n",
      "Epoch 22/30\n",
      "\u001b[1m1719/1719\u001b[0m \u001b[32m━━━━━━━━━━━━━━━━━━━━\u001b[0m\u001b[37m\u001b[0m \u001b[1m5s\u001b[0m 3ms/step - accuracy: 0.9095 - loss: 0.2551 - val_accuracy: 0.8740 - val_loss: 0.3464\n",
      "Epoch 23/30\n",
      "\u001b[1m1719/1719\u001b[0m \u001b[32m━━━━━━━━━━━━━━━━━━━━\u001b[0m\u001b[37m\u001b[0m \u001b[1m5s\u001b[0m 3ms/step - accuracy: 0.9116 - loss: 0.2504 - val_accuracy: 0.8732 - val_loss: 0.3464\n",
      "Epoch 24/30\n",
      "\u001b[1m1719/1719\u001b[0m \u001b[32m━━━━━━━━━━━━━━━━━━━━\u001b[0m\u001b[37m\u001b[0m \u001b[1m5s\u001b[0m 3ms/step - accuracy: 0.9129 - loss: 0.2458 - val_accuracy: 0.8750 - val_loss: 0.3462\n",
      "Epoch 25/30\n",
      "\u001b[1m1719/1719\u001b[0m \u001b[32m━━━━━━━━━━━━━━━━━━━━\u001b[0m\u001b[37m\u001b[0m \u001b[1m5s\u001b[0m 3ms/step - accuracy: 0.9156 - loss: 0.2412 - val_accuracy: 0.8750 - val_loss: 0.3449\n",
      "Epoch 26/30\n",
      "\u001b[1m1719/1719\u001b[0m \u001b[32m━━━━━━━━━━━━━━━━━━━━\u001b[0m\u001b[37m\u001b[0m \u001b[1m5s\u001b[0m 3ms/step - accuracy: 0.9170 - loss: 0.2366 - val_accuracy: 0.8744 - val_loss: 0.3457\n",
      "Epoch 27/30\n",
      "\u001b[1m1719/1719\u001b[0m \u001b[32m━━━━━━━━━━━━━━━━━━━━\u001b[0m\u001b[37m\u001b[0m \u001b[1m5s\u001b[0m 3ms/step - accuracy: 0.9187 - loss: 0.2325 - val_accuracy: 0.8756 - val_loss: 0.3460\n",
      "Epoch 28/30\n",
      "\u001b[1m1719/1719\u001b[0m \u001b[32m━━━━━━━━━━━━━━━━━━━━\u001b[0m\u001b[37m\u001b[0m \u001b[1m5s\u001b[0m 3ms/step - accuracy: 0.9200 - loss: 0.2284 - val_accuracy: 0.8748 - val_loss: 0.3442\n",
      "Epoch 29/30\n",
      "\u001b[1m1719/1719\u001b[0m \u001b[32m━━━━━━━━━━━━━━━━━━━━\u001b[0m\u001b[37m\u001b[0m \u001b[1m5s\u001b[0m 3ms/step - accuracy: 0.9216 - loss: 0.2243 - val_accuracy: 0.8756 - val_loss: 0.3452\n",
      "Epoch 30/30\n",
      "\u001b[1m1719/1719\u001b[0m \u001b[32m━━━━━━━━━━━━━━━━━━━━\u001b[0m\u001b[37m\u001b[0m \u001b[1m5s\u001b[0m 3ms/step - accuracy: 0.9227 - loss: 0.2202 - val_accuracy: 0.8750 - val_loss: 0.3452\n"
     ]
    }
   ],
   "source": [
    "# training and evaluating the model\n",
    "\n",
    "history = model.fit(X_train, y_train, epochs=30,\n",
    "                   validation_data=(X_valid, y_valid))"
   ]
  },
  {
   "cell_type": "code",
   "execution_count": 21,
   "id": "dae2790d",
   "metadata": {
    "execution": {
     "iopub.execute_input": "2024-06-08T07:07:30.538034Z",
     "iopub.status.busy": "2024-06-08T07:07:30.537621Z",
     "iopub.status.idle": "2024-06-08T07:07:30.898559Z",
     "shell.execute_reply": "2024-06-08T07:07:30.897462Z"
    },
    "papermill": {
     "duration": 0.628761,
     "end_time": "2024-06-08T07:07:30.900937",
     "exception": false,
     "start_time": "2024-06-08T07:07:30.272176",
     "status": "completed"
    },
    "tags": []
   },
   "outputs": [
    {
     "data": {
      "image/png": "[encoded data removed]",
      "text/plain": [
       "<Figure size 800x500 with 1 Axes>"
      ]
     },
     "metadata": {},
     "output_type": "display_data"
    }
   ],
   "source": [
    "import matplotlib.pyplot as plt\n",
    "import pandas as pd\n",
    "pd.DataFrame(history.history).plot(\n",
    "    figsize=(8, 5), xlim=[0, 29], ylim=[0, 1], grid=True, xlabel=\"Epoch\",\n",
    "    style=[\"r--\", \"r--.\", \"b-\", \"b-*\"])\n",
    "plt.show()"
   ]
  },
  {
   "cell_type": "code",
   "execution_count": 22,
   "id": "4dbcd082",
   "metadata": {
    "execution": {
     "iopub.execute_input": "2024-06-08T07:07:31.425915Z",
     "iopub.status.busy": "2024-06-08T07:07:31.425525Z",
     "iopub.status.idle": "2024-06-08T07:07:32.089757Z",
     "shell.execute_reply": "2024-06-08T07:07:32.088679Z"
    },
    "papermill": {
     "duration": 0.930744,
     "end_time": "2024-06-08T07:07:32.092218",
     "exception": false,
     "start_time": "2024-06-08T07:07:31.161474",
     "status": "completed"
    },
    "tags": []
   },
   "outputs": [
    {
     "name": "stdout",
     "output_type": "stream",
     "text": [
      "\u001b[1m313/313\u001b[0m \u001b[32m━━━━━━━━━━━━━━━━━━━━\u001b[0m\u001b[37m\u001b[0m \u001b[1m1s\u001b[0m 2ms/step - accuracy: 0.8766 - loss: 0.3639\n"
     ]
    },
    {
     "data": {
      "text/plain": [
       "[0.3637468218803406, 0.8758000135421753]"
      ]
     },
     "execution_count": 22,
     "metadata": {},
     "output_type": "execute_result"
    }
   ],
   "source": [
    "model.evaluate(X_test, y_test)"
   ]
  },
  {
   "cell_type": "code",
   "execution_count": 23,
   "id": "d9e98ac4",
   "metadata": {
    "execution": {
     "iopub.execute_input": "2024-06-08T07:07:32.628332Z",
     "iopub.status.busy": "2024-06-08T07:07:32.627867Z",
     "iopub.status.idle": "2024-06-08T07:07:32.750560Z",
     "shell.execute_reply": "2024-06-08T07:07:32.749503Z"
    },
    "papermill": {
     "duration": 0.395704,
     "end_time": "2024-06-08T07:07:32.752942",
     "exception": false,
     "start_time": "2024-06-08T07:07:32.357238",
     "status": "completed"
    },
    "tags": []
   },
   "outputs": [
    {
     "name": "stdout",
     "output_type": "stream",
     "text": [
      "\u001b[1m1/1\u001b[0m \u001b[32m━━━━━━━━━━━━━━━━━━━━\u001b[0m\u001b[37m\u001b[0m \u001b[1m0s\u001b[0m 61ms/step\n"
     ]
    },
    {
     "data": {
      "text/plain": [
       "array([[0.  , 0.  , 0.  , 0.  , 0.  , 0.21, 0.  , 0.02, 0.  , 0.77],\n",
       "       [0.  , 0.  , 1.  , 0.  , 0.  , 0.  , 0.  , 0.  , 0.  , 0.  ],\n",
       "       [0.  , 1.  , 0.  , 0.  , 0.  , 0.  , 0.  , 0.  , 0.  , 0.  ]],\n",
       "      dtype=float32)"
      ]
     },
     "execution_count": 23,
     "metadata": {},
     "output_type": "execute_result"
    }
   ],
   "source": [
    "# Using the model to make predictions\n",
    "\n",
    "X_new = X_test[:3] # first 3 instances of test set\n",
    "y_proba = model.predict(X_new) # for each instance, it gives one probability per class\n",
    "y_proba.round(2) "
   ]
  },
  {
   "cell_type": "code",
   "execution_count": 24,
   "id": "072fb83a",
   "metadata": {
    "execution": {
     "iopub.execute_input": "2024-06-08T07:07:33.288028Z",
     "iopub.status.busy": "2024-06-08T07:07:33.287605Z",
     "iopub.status.idle": "2024-06-08T07:07:33.294819Z",
     "shell.execute_reply": "2024-06-08T07:07:33.293812Z"
    },
    "papermill": {
     "duration": 0.275886,
     "end_time": "2024-06-08T07:07:33.297478",
     "exception": false,
     "start_time": "2024-06-08T07:07:33.021592",
     "status": "completed"
    },
    "tags": []
   },
   "outputs": [
    {
     "data": {
      "text/plain": [
       "array([9, 2, 1])"
      ]
     },
     "execution_count": 24,
     "metadata": {},
     "output_type": "execute_result"
    }
   ],
   "source": [
    "y_pred = y_proba.argmax(axis=-1) # argmax will give the class with highest probability for each instance\n",
    "y_pred"
   ]
  },
  {
   "cell_type": "code",
   "execution_count": 25,
   "id": "8951dba5",
   "metadata": {
    "execution": {
     "iopub.execute_input": "2024-06-08T07:07:33.830428Z",
     "iopub.status.busy": "2024-06-08T07:07:33.830001Z",
     "iopub.status.idle": "2024-06-08T07:07:33.837730Z",
     "shell.execute_reply": "2024-06-08T07:07:33.836572Z"
    },
    "papermill": {
     "duration": 0.276527,
     "end_time": "2024-06-08T07:07:33.840214",
     "exception": false,
     "start_time": "2024-06-08T07:07:33.563687",
     "status": "completed"
    },
    "tags": []
   },
   "outputs": [
    {
     "data": {
      "text/plain": [
       "array(['Ankle boot', 'Pullover', 'Trouser'], dtype='<U11')"
      ]
     },
     "execution_count": 25,
     "metadata": {},
     "output_type": "execute_result"
    }
   ],
   "source": [
    "np.array(class_names)[y_pred] # corresponding class names"
   ]
  },
  {
   "cell_type": "code",
   "execution_count": 26,
   "id": "e64486e0",
   "metadata": {
    "execution": {
     "iopub.execute_input": "2024-06-08T07:07:34.376575Z",
     "iopub.status.busy": "2024-06-08T07:07:34.376142Z",
     "iopub.status.idle": "2024-06-08T07:07:34.383146Z",
     "shell.execute_reply": "2024-06-08T07:07:34.382153Z"
    },
    "papermill": {
     "duration": 0.277935,
     "end_time": "2024-06-08T07:07:34.385266",
     "exception": false,
     "start_time": "2024-06-08T07:07:34.107331",
     "status": "completed"
    },
    "tags": []
   },
   "outputs": [
    {
     "data": {
      "text/plain": [
       "array([9, 2, 1], dtype=uint8)"
      ]
     },
     "execution_count": 26,
     "metadata": {},
     "output_type": "execute_result"
    }
   ],
   "source": [
    "y_new = y_test[:3]\n",
    "y_new # actual classes"
   ]
  },
  {
   "cell_type": "code",
   "execution_count": 27,
   "id": "ad5017bd",
   "metadata": {
    "execution": {
     "iopub.execute_input": "2024-06-08T07:07:34.982581Z",
     "iopub.status.busy": "2024-06-08T07:07:34.982129Z",
     "iopub.status.idle": "2024-06-08T07:07:34.986991Z",
     "shell.execute_reply": "2024-06-08T07:07:34.985977Z"
    },
    "papermill": {
     "duration": 0.273601,
     "end_time": "2024-06-08T07:07:34.989439",
     "exception": false,
     "start_time": "2024-06-08T07:07:34.715838",
     "status": "completed"
    },
    "tags": []
   },
   "outputs": [],
   "source": [
    "# it is making correct prediction for all the 3 instances selected"
   ]
  }
 ],
 "metadata": {
  "kaggle": {
   "accelerator": "none",
   "dataSources": [],
   "dockerImageVersionId": 30732,
   "isGpuEnabled": false,
   "isInternetEnabled": true,
   "language": "python",
   "sourceType": "notebook"
  },
  "kernelspec": {
   "display_name": "Python 3",
   "language": "python",
   "name": "python3"
  },
  "language_info": {
   "codemirror_mode": {
    "name": "ipython",
    "version": 3
   },
   "file_extension": ".py",
   "mimetype": "text/x-python",
   "name": "python",
   "nbconvert_exporter": "python",
   "pygments_lexer": "ipython3",
   "version": "3.10.13"
  },
  "papermill": {
   "default_parameters": {},
   "duration": 165.683453,
   "end_time": "2024-06-08T07:07:36.780239",
   "environment_variables": {},
   "exception": null,
   "input_path": "__notebook__.ipynb",
   "output_path": "__notebook__.ipynb",
   "parameters": {},
   "start_time": "2024-06-08T07:04:51.096786",
   "version": "2.5.0"
  }
 },
 "nbformat": 4,
 "nbformat_minor": 5
}
