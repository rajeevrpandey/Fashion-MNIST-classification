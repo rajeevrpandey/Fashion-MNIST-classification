{
 "cells": [
  {
   "cell_type": "code",
   "execution_count": 1,
   "id": "56abc69b",
   "metadata": {
    "_cell_guid": "b1076dfc-b9ad-4769-8c92-a6c4dae69d19",
    "_uuid": "8f2839f25d086af736a60e9eeb907d3b93b6e0e5",
    "execution": {
     "iopub.execute_input": "2024-06-14T12:56:01.377476Z",
     "iopub.status.busy": "2024-06-14T12:56:01.377037Z",
     "iopub.status.idle": "2024-06-14T12:56:02.672507Z",
     "shell.execute_reply": "2024-06-14T12:56:02.670958Z"
    },
    "papermill": {
     "duration": 1.310912,
     "end_time": "2024-06-14T12:56:02.675554",
     "exception": false,
     "start_time": "2024-06-14T12:56:01.364642",
     "status": "completed"
    },
    "tags": []
   },
   "outputs": [],
   "source": [
    "# This Python 3 environment comes with many helpful analytics libraries installed\n",
    "# It is defined by the kaggle/python Docker image: https://github.com/kaggle/docker-python\n",
    "# For example, here's several helpful packages to load\n",
    "\n",
    "import numpy as np # linear algebra\n",
    "import pandas as pd # data processing, CSV file I/O (e.g. pd.read_csv)\n",
    "\n",
    "# Input data files are available in the read-only \"../input/\" directory\n",
    "# For example, running this (by clicking run or pressing Shift+Enter) will list all files under the input directory\n",
    "\n",
    "import os\n",
    "for dirname, _, filenames in os.walk('/kaggle/input'):\n",
    "    for filename in filenames:\n",
    "        print(os.path.join(dirname, filename))\n",
    "\n",
    "# You can write up to 20GB to the current directory (/kaggle/working/) that gets preserved as output when you create a version using \"Save & Run All\" \n",
    "# You can also write temporary files to /kaggle/temp/, but they won't be saved outside of the current session"
   ]
  },
  {
   "cell_type": "code",
   "execution_count": 2,
   "id": "91cdc996",
   "metadata": {
    "execution": {
     "iopub.execute_input": "2024-06-14T12:56:02.698408Z",
     "iopub.status.busy": "2024-06-14T12:56:02.697853Z",
     "iopub.status.idle": "2024-06-14T12:56:24.399463Z",
     "shell.execute_reply": "2024-06-14T12:56:24.398276Z"
    },
    "papermill": {
     "duration": 21.715844,
     "end_time": "2024-06-14T12:56:24.401969",
     "exception": false,
     "start_time": "2024-06-14T12:56:02.686125",
     "status": "completed"
    },
    "tags": []
   },
   "outputs": [
    {
     "name": "stderr",
     "output_type": "stream",
     "text": [
      "2024-06-14 12:56:05.772424: E external/local_xla/xla/stream_executor/cuda/cuda_dnn.cc:9261] Unable to register cuDNN factory: Attempting to register factory for plugin cuDNN when one has already been registered\n",
      "2024-06-14 12:56:05.772580: E external/local_xla/xla/stream_executor/cuda/cuda_fft.cc:607] Unable to register cuFFT factory: Attempting to register factory for plugin cuFFT when one has already been registered\n",
      "2024-06-14 12:56:06.055698: E external/local_xla/xla/stream_executor/cuda/cuda_blas.cc:1515] Unable to register cuBLAS factory: Attempting to register factory for plugin cuBLAS when one has already been registered\n"
     ]
    },
    {
     "name": "stdout",
     "output_type": "stream",
     "text": [
      "Downloading data from https://storage.googleapis.com/tensorflow/tf-keras-datasets/train-labels-idx1-ubyte.gz\n",
      "\u001b[1m29515/29515\u001b[0m \u001b[32m━━━━━━━━━━━━━━━━━━━━\u001b[0m\u001b[37m\u001b[0m \u001b[1m0s\u001b[0m 0us/step\n",
      "Downloading data from https://storage.googleapis.com/tensorflow/tf-keras-datasets/train-images-idx3-ubyte.gz\n",
      "\u001b[1m26421880/26421880\u001b[0m \u001b[32m━━━━━━━━━━━━━━━━━━━━\u001b[0m\u001b[37m\u001b[0m \u001b[1m1s\u001b[0m 0us/step\n",
      "Downloading data from https://storage.googleapis.com/tensorflow/tf-keras-datasets/t10k-labels-idx1-ubyte.gz\n",
      "\u001b[1m5148/5148\u001b[0m \u001b[32m━━━━━━━━━━━━━━━━━━━━\u001b[0m\u001b[37m\u001b[0m \u001b[1m0s\u001b[0m 1us/step\n",
      "Downloading data from https://storage.googleapis.com/tensorflow/tf-keras-datasets/t10k-images-idx3-ubyte.gz\n",
      "\u001b[1m4422102/4422102\u001b[0m \u001b[32m━━━━━━━━━━━━━━━━━━━━\u001b[0m\u001b[37m\u001b[0m \u001b[1m1s\u001b[0m 0us/step\n"
     ]
    },
    {
     "data": {
      "text/plain": [
       "tuple"
      ]
     },
     "execution_count": 2,
     "metadata": {},
     "output_type": "execute_result"
    }
   ],
   "source": [
    "import tensorflow as tf\n",
    "fashion_mnist = tf.keras.datasets.fashion_mnist.load_data()\n",
    "type(fashion_mnist)"
   ]
  },
  {
   "cell_type": "code",
   "execution_count": 3,
   "id": "3c642551",
   "metadata": {
    "execution": {
     "iopub.execute_input": "2024-06-14T12:56:24.433432Z",
     "iopub.status.busy": "2024-06-14T12:56:24.432755Z",
     "iopub.status.idle": "2024-06-14T12:56:24.439788Z",
     "shell.execute_reply": "2024-06-14T12:56:24.438375Z"
    },
    "papermill": {
     "duration": 0.02561,
     "end_time": "2024-06-14T12:56:24.442312",
     "exception": false,
     "start_time": "2024-06-14T12:56:24.416702",
     "status": "completed"
    },
    "tags": []
   },
   "outputs": [],
   "source": [
    "(X_train_full, y_train_full), (X_test, y_test) = fashion_mnist\n",
    "X_valid, y_valid = X_train_full[-5000:], y_train_full[-5000:]\n",
    "X_train, y_train = X_train_full[:-5000], y_train_full[:-5000]"
   ]
  },
  {
   "cell_type": "code",
   "execution_count": 4,
   "id": "86ec9de7",
   "metadata": {
    "execution": {
     "iopub.execute_input": "2024-06-14T12:56:24.473212Z",
     "iopub.status.busy": "2024-06-14T12:56:24.472827Z",
     "iopub.status.idle": "2024-06-14T12:56:24.480639Z",
     "shell.execute_reply": "2024-06-14T12:56:24.479541Z"
    },
    "papermill": {
     "duration": 0.026199,
     "end_time": "2024-06-14T12:56:24.483077",
     "exception": false,
     "start_time": "2024-06-14T12:56:24.456878",
     "status": "completed"
    },
    "tags": []
   },
   "outputs": [
    {
     "data": {
      "text/plain": [
       "(55000, 28, 28)"
      ]
     },
     "execution_count": 4,
     "metadata": {},
     "output_type": "execute_result"
    }
   ],
   "source": [
    "X_train.shape"
   ]
  },
  {
   "cell_type": "code",
   "execution_count": 5,
   "id": "a160dd76",
   "metadata": {
    "execution": {
     "iopub.execute_input": "2024-06-14T12:56:24.514451Z",
     "iopub.status.busy": "2024-06-14T12:56:24.514060Z",
     "iopub.status.idle": "2024-06-14T12:56:24.522179Z",
     "shell.execute_reply": "2024-06-14T12:56:24.520949Z"
    },
    "papermill": {
     "duration": 0.026924,
     "end_time": "2024-06-14T12:56:24.524834",
     "exception": false,
     "start_time": "2024-06-14T12:56:24.497910",
     "status": "completed"
    },
    "tags": []
   },
   "outputs": [
    {
     "data": {
      "text/plain": [
       "dtype('uint8')"
      ]
     },
     "execution_count": 5,
     "metadata": {},
     "output_type": "execute_result"
    }
   ],
   "source": [
    "X_train.dtype"
   ]
  },
  {
   "cell_type": "code",
   "execution_count": 6,
   "id": "18a40625",
   "metadata": {
    "execution": {
     "iopub.execute_input": "2024-06-14T12:56:24.558904Z",
     "iopub.status.busy": "2024-06-14T12:56:24.558459Z",
     "iopub.status.idle": "2024-06-14T12:56:24.567744Z",
     "shell.execute_reply": "2024-06-14T12:56:24.566465Z"
    },
    "papermill": {
     "duration": 0.03081,
     "end_time": "2024-06-14T12:56:24.570505",
     "exception": false,
     "start_time": "2024-06-14T12:56:24.539695",
     "status": "completed"
    },
    "tags": []
   },
   "outputs": [
    {
     "data": {
      "text/plain": [
       "array([0, 1, 2, 3, 4, 5, 6, 7, 8, 9], dtype=uint8)"
      ]
     },
     "execution_count": 6,
     "metadata": {},
     "output_type": "execute_result"
    }
   ],
   "source": [
    "np.unique(y_train)"
   ]
  },
  {
   "cell_type": "code",
   "execution_count": 7,
   "id": "e487bb46",
   "metadata": {
    "execution": {
     "iopub.execute_input": "2024-06-14T12:56:24.604283Z",
     "iopub.status.busy": "2024-06-14T12:56:24.603893Z",
     "iopub.status.idle": "2024-06-14T12:56:24.611360Z",
     "shell.execute_reply": "2024-06-14T12:56:24.610158Z"
    },
    "papermill": {
     "duration": 0.027783,
     "end_time": "2024-06-14T12:56:24.613914",
     "exception": false,
     "start_time": "2024-06-14T12:56:24.586131",
     "status": "completed"
    },
    "tags": []
   },
   "outputs": [
    {
     "data": {
      "text/plain": [
       "9"
      ]
     },
     "execution_count": 7,
     "metadata": {},
     "output_type": "execute_result"
    }
   ],
   "source": [
    "y_train[0]"
   ]
  },
  {
   "cell_type": "code",
   "execution_count": 8,
   "id": "95d5e041",
   "metadata": {
    "execution": {
     "iopub.execute_input": "2024-06-14T12:56:24.647528Z",
     "iopub.status.busy": "2024-06-14T12:56:24.647086Z",
     "iopub.status.idle": "2024-06-14T12:56:24.852076Z",
     "shell.execute_reply": "2024-06-14T12:56:24.850803Z"
    },
    "papermill": {
     "duration": 0.225884,
     "end_time": "2024-06-14T12:56:24.855100",
     "exception": false,
     "start_time": "2024-06-14T12:56:24.629216",
     "status": "completed"
    },
    "tags": []
   },
   "outputs": [],
   "source": [
    "# Let's scale the pixel intensities down to the 0-1 range and convert them to floats, by dividing by 255:\n",
    "\n",
    "X_train, X_valid, X_test = X_train / 255., X_valid / 255., X_test / 255."
   ]
  },
  {
   "cell_type": "code",
   "execution_count": 9,
   "id": "fab34b62",
   "metadata": {
    "execution": {
     "iopub.execute_input": "2024-06-14T12:56:24.887405Z",
     "iopub.status.busy": "2024-06-14T12:56:24.886985Z",
     "iopub.status.idle": "2024-06-14T12:56:24.892861Z",
     "shell.execute_reply": "2024-06-14T12:56:24.891497Z"
    },
    "papermill": {
     "duration": 0.024762,
     "end_time": "2024-06-14T12:56:24.895291",
     "exception": false,
     "start_time": "2024-06-14T12:56:24.870529",
     "status": "completed"
    },
    "tags": []
   },
   "outputs": [],
   "source": [
    "#Here are the corresponding class names:\n",
    "\n",
    "class_names = [\"T-shirt/top\", \"Trouser\", \"Pullover\", \"Dress\", \"Coat\",\n",
    "               \"Sandal\", \"Shirt\", \"Sneaker\", \"Bag\", \"Ankle boot\"]"
   ]
  },
  {
   "cell_type": "code",
   "execution_count": 10,
   "id": "6c85f526",
   "metadata": {
    "execution": {
     "iopub.execute_input": "2024-06-14T12:56:24.928356Z",
     "iopub.status.busy": "2024-06-14T12:56:24.927881Z",
     "iopub.status.idle": "2024-06-14T12:56:25.039898Z",
     "shell.execute_reply": "2024-06-14T12:56:25.038537Z"
    },
    "papermill": {
     "duration": 0.131811,
     "end_time": "2024-06-14T12:56:25.042850",
     "exception": false,
     "start_time": "2024-06-14T12:56:24.911039",
     "status": "completed"
    },
    "tags": []
   },
   "outputs": [],
   "source": [
    "# Creating the model using the sequential API\n",
    "\n",
    "tf.random.set_seed(42)\n",
    "model = tf.keras.Sequential() # using sequential model\n",
    "model.add(tf.keras.layers.Input(shape = [28, 28])) # adding input layer specifying input size\n",
    "model.add(tf.keras.layers.Flatten()) # it will convert the input into 1d array\n",
    "model.add(tf.keras.layers.Dense(300, activation=\"relu\"))\n",
    "model.add(tf.keras.layers.Dense(100, activation=\"relu\"))\n",
    "model.add(tf.keras.layers.Dense(10, activation=\"softmax\"))"
   ]
  },
  {
   "cell_type": "code",
   "execution_count": 11,
   "id": "af4dda9b",
   "metadata": {
    "execution": {
     "iopub.execute_input": "2024-06-14T12:56:25.075558Z",
     "iopub.status.busy": "2024-06-14T12:56:25.075075Z",
     "iopub.status.idle": "2024-06-14T12:56:25.101784Z",
     "shell.execute_reply": "2024-06-14T12:56:25.100631Z"
    },
    "papermill": {
     "duration": 0.04577,
     "end_time": "2024-06-14T12:56:25.104216",
     "exception": false,
     "start_time": "2024-06-14T12:56:25.058446",
     "status": "completed"
    },
    "tags": []
   },
   "outputs": [
    {
     "data": {
      "text/html": [
       "<pre style=\"white-space:pre;overflow-x:auto;line-height:normal;font-family:Menlo,'DejaVu Sans Mono',consolas,'Courier New',monospace\"><span style=\"font-weight: bold\">Model: \"sequential\"</span>\n",
       "</pre>\n"
      ],
      "text/plain": [
       "\u001b[1mModel: \"sequential\"\u001b[0m\n"
      ]
     },
     "metadata": {},
     "output_type": "display_data"
    },
    {
     "data": {
      "text/html": [
       "<pre style=\"white-space:pre;overflow-x:auto;line-height:normal;font-family:Menlo,'DejaVu Sans Mono',consolas,'Courier New',monospace\">┏━━━━━━━━━━━━━━━━━━━━━━━━━━━━━━━━━┳━━━━━━━━━━━━━━━━━━━━━━━━┳━━━━━━━━━━━━━━━┓\n",
       "┃<span style=\"font-weight: bold\"> Layer (type)                    </span>┃<span style=\"font-weight: bold\"> Output Shape           </span>┃<span style=\"font-weight: bold\">       Param # </span>┃\n",
       "┡━━━━━━━━━━━━━━━━━━━━━━━━━━━━━━━━━╇━━━━━━━━━━━━━━━━━━━━━━━━╇━━━━━━━━━━━━━━━┩\n",
       "│ flatten (<span style=\"color: #0087ff; text-decoration-color: #0087ff\">Flatten</span>)               │ (<span style=\"color: #00d7ff; text-decoration-color: #00d7ff\">None</span>, <span style=\"color: #00af00; text-decoration-color: #00af00\">784</span>)            │             <span style=\"color: #00af00; text-decoration-color: #00af00\">0</span> │\n",
       "├─────────────────────────────────┼────────────────────────┼───────────────┤\n",
       "│ dense (<span style=\"color: #0087ff; text-decoration-color: #0087ff\">Dense</span>)                   │ (<span style=\"color: #00d7ff; text-decoration-color: #00d7ff\">None</span>, <span style=\"color: #00af00; text-decoration-color: #00af00\">300</span>)            │       <span style=\"color: #00af00; text-decoration-color: #00af00\">235,500</span> │\n",
       "├─────────────────────────────────┼────────────────────────┼───────────────┤\n",
       "│ dense_1 (<span style=\"color: #0087ff; text-decoration-color: #0087ff\">Dense</span>)                 │ (<span style=\"color: #00d7ff; text-decoration-color: #00d7ff\">None</span>, <span style=\"color: #00af00; text-decoration-color: #00af00\">100</span>)            │        <span style=\"color: #00af00; text-decoration-color: #00af00\">30,100</span> │\n",
       "├─────────────────────────────────┼────────────────────────┼───────────────┤\n",
       "│ dense_2 (<span style=\"color: #0087ff; text-decoration-color: #0087ff\">Dense</span>)                 │ (<span style=\"color: #00d7ff; text-decoration-color: #00d7ff\">None</span>, <span style=\"color: #00af00; text-decoration-color: #00af00\">10</span>)             │         <span style=\"color: #00af00; text-decoration-color: #00af00\">1,010</span> │\n",
       "└─────────────────────────────────┴────────────────────────┴───────────────┘\n",
       "</pre>\n"
      ],
      "text/plain": [
       "┏━━━━━━━━━━━━━━━━━━━━━━━━━━━━━━━━━┳━━━━━━━━━━━━━━━━━━━━━━━━┳━━━━━━━━━━━━━━━┓\n",
       "┃\u001b[1m \u001b[0m\u001b[1mLayer (type)                   \u001b[0m\u001b[1m \u001b[0m┃\u001b[1m \u001b[0m\u001b[1mOutput Shape          \u001b[0m\u001b[1m \u001b[0m┃\u001b[1m \u001b[0m\u001b[1m      Param #\u001b[0m\u001b[1m \u001b[0m┃\n",
       "┡━━━━━━━━━━━━━━━━━━━━━━━━━━━━━━━━━╇━━━━━━━━━━━━━━━━━━━━━━━━╇━━━━━━━━━━━━━━━┩\n",
       "│ flatten (\u001b[38;5;33mFlatten\u001b[0m)               │ (\u001b[38;5;45mNone\u001b[0m, \u001b[38;5;34m784\u001b[0m)            │             \u001b[38;5;34m0\u001b[0m │\n",
       "├─────────────────────────────────┼────────────────────────┼───────────────┤\n",
       "│ dense (\u001b[38;5;33mDense\u001b[0m)                   │ (\u001b[38;5;45mNone\u001b[0m, \u001b[38;5;34m300\u001b[0m)            │       \u001b[38;5;34m235,500\u001b[0m │\n",
       "├─────────────────────────────────┼────────────────────────┼───────────────┤\n",
       "│ dense_1 (\u001b[38;5;33mDense\u001b[0m)                 │ (\u001b[38;5;45mNone\u001b[0m, \u001b[38;5;34m100\u001b[0m)            │        \u001b[38;5;34m30,100\u001b[0m │\n",
       "├─────────────────────────────────┼────────────────────────┼───────────────┤\n",
       "│ dense_2 (\u001b[38;5;33mDense\u001b[0m)                 │ (\u001b[38;5;45mNone\u001b[0m, \u001b[38;5;34m10\u001b[0m)             │         \u001b[38;5;34m1,010\u001b[0m │\n",
       "└─────────────────────────────────┴────────────────────────┴───────────────┘\n"
      ]
     },
     "metadata": {},
     "output_type": "display_data"
    },
    {
     "data": {
      "text/html": [
       "<pre style=\"white-space:pre;overflow-x:auto;line-height:normal;font-family:Menlo,'DejaVu Sans Mono',consolas,'Courier New',monospace\"><span style=\"font-weight: bold\"> Total params: </span><span style=\"color: #00af00; text-decoration-color: #00af00\">266,610</span> (1.02 MB)\n",
       "</pre>\n"
      ],
      "text/plain": [
       "\u001b[1m Total params: \u001b[0m\u001b[38;5;34m266,610\u001b[0m (1.02 MB)\n"
      ]
     },
     "metadata": {},
     "output_type": "display_data"
    },
    {
     "data": {
      "text/html": [
       "<pre style=\"white-space:pre;overflow-x:auto;line-height:normal;font-family:Menlo,'DejaVu Sans Mono',consolas,'Courier New',monospace\"><span style=\"font-weight: bold\"> Trainable params: </span><span style=\"color: #00af00; text-decoration-color: #00af00\">266,610</span> (1.02 MB)\n",
       "</pre>\n"
      ],
      "text/plain": [
       "\u001b[1m Trainable params: \u001b[0m\u001b[38;5;34m266,610\u001b[0m (1.02 MB)\n"
      ]
     },
     "metadata": {},
     "output_type": "display_data"
    },
    {
     "data": {
      "text/html": [
       "<pre style=\"white-space:pre;overflow-x:auto;line-height:normal;font-family:Menlo,'DejaVu Sans Mono',consolas,'Courier New',monospace\"><span style=\"font-weight: bold\"> Non-trainable params: </span><span style=\"color: #00af00; text-decoration-color: #00af00\">0</span> (0.00 B)\n",
       "</pre>\n"
      ],
      "text/plain": [
       "\u001b[1m Non-trainable params: \u001b[0m\u001b[38;5;34m0\u001b[0m (0.00 B)\n"
      ]
     },
     "metadata": {},
     "output_type": "display_data"
    }
   ],
   "source": [
    "model.summary()"
   ]
  },
  {
   "cell_type": "code",
   "execution_count": 12,
   "id": "bf5b9694",
   "metadata": {
    "execution": {
     "iopub.execute_input": "2024-06-14T12:56:25.138871Z",
     "iopub.status.busy": "2024-06-14T12:56:25.137537Z",
     "iopub.status.idle": "2024-06-14T12:56:25.147208Z",
     "shell.execute_reply": "2024-06-14T12:56:25.145443Z"
    },
    "papermill": {
     "duration": 0.029891,
     "end_time": "2024-06-14T12:56:25.150108",
     "exception": false,
     "start_time": "2024-06-14T12:56:25.120217",
     "status": "completed"
    },
    "tags": []
   },
   "outputs": [
    {
     "data": {
      "text/plain": [
       "[<Flatten name=flatten, built=True>,\n",
       " <Dense name=dense, built=True>,\n",
       " <Dense name=dense_1, built=True>,\n",
       " <Dense name=dense_2, built=True>]"
      ]
     },
     "execution_count": 12,
     "metadata": {},
     "output_type": "execute_result"
    }
   ],
   "source": [
    "model.layers"
   ]
  },
  {
   "cell_type": "code",
   "execution_count": 13,
   "id": "c1ddeaab",
   "metadata": {
    "execution": {
     "iopub.execute_input": "2024-06-14T12:56:25.185340Z",
     "iopub.status.busy": "2024-06-14T12:56:25.184912Z",
     "iopub.status.idle": "2024-06-14T12:56:25.193229Z",
     "shell.execute_reply": "2024-06-14T12:56:25.191948Z"
    },
    "papermill": {
     "duration": 0.028821,
     "end_time": "2024-06-14T12:56:25.196249",
     "exception": false,
     "start_time": "2024-06-14T12:56:25.167428",
     "status": "completed"
    },
    "tags": []
   },
   "outputs": [
    {
     "data": {
      "text/plain": [
       "'dense'"
      ]
     },
     "execution_count": 13,
     "metadata": {},
     "output_type": "execute_result"
    }
   ],
   "source": [
    "hidden1 = model.get_layer(\"dense\")\n",
    "hidden1.name"
   ]
  },
  {
   "cell_type": "code",
   "execution_count": 14,
   "id": "f3420312",
   "metadata": {
    "execution": {
     "iopub.execute_input": "2024-06-14T12:56:25.231433Z",
     "iopub.status.busy": "2024-06-14T12:56:25.230980Z",
     "iopub.status.idle": "2024-06-14T12:56:25.245439Z",
     "shell.execute_reply": "2024-06-14T12:56:25.244319Z"
    },
    "papermill": {
     "duration": 0.034737,
     "end_time": "2024-06-14T12:56:25.247960",
     "exception": false,
     "start_time": "2024-06-14T12:56:25.213223",
     "status": "completed"
    },
    "tags": []
   },
   "outputs": [
    {
     "data": {
      "text/plain": [
       "array([[ 0.04482122,  0.02991862,  0.01410333, ...,  0.05995212,\n",
       "         0.02552979,  0.01877293],\n",
       "       [ 0.03114127,  0.02454681, -0.03730799, ..., -0.04891098,\n",
       "        -0.03791938,  0.05725005],\n",
       "       [ 0.05008093, -0.01297703,  0.03483402, ..., -0.06901693,\n",
       "        -0.02890472, -0.00109685],\n",
       "       ...,\n",
       "       [ 0.04031207, -0.00452956,  0.03176405, ...,  0.05989747,\n",
       "        -0.05818626, -0.02016629],\n",
       "       [ 0.04991688, -0.00246755,  0.04066414, ..., -0.07116308,\n",
       "        -0.02499649,  0.01951271],\n",
       "       [-0.0063514 , -0.05188382, -0.00607406, ..., -0.0503144 ,\n",
       "         0.02301297,  0.01287394]], dtype=float32)"
      ]
     },
     "execution_count": 14,
     "metadata": {},
     "output_type": "execute_result"
    }
   ],
   "source": [
    "weights, biases = hidden1.get_weights()\n",
    "weights"
   ]
  },
  {
   "cell_type": "code",
   "execution_count": 15,
   "id": "5f55107f",
   "metadata": {
    "execution": {
     "iopub.execute_input": "2024-06-14T12:56:25.283641Z",
     "iopub.status.busy": "2024-06-14T12:56:25.283195Z",
     "iopub.status.idle": "2024-06-14T12:56:25.294386Z",
     "shell.execute_reply": "2024-06-14T12:56:25.293080Z"
    },
    "papermill": {
     "duration": 0.032159,
     "end_time": "2024-06-14T12:56:25.296959",
     "exception": false,
     "start_time": "2024-06-14T12:56:25.264800",
     "status": "completed"
    },
    "tags": []
   },
   "outputs": [
    {
     "data": {
      "text/plain": [
       "array([0., 0., 0., 0., 0., 0., 0., 0., 0., 0., 0., 0., 0., 0., 0., 0., 0.,\n",
       "       0., 0., 0., 0., 0., 0., 0., 0., 0., 0., 0., 0., 0., 0., 0., 0., 0.,\n",
       "       0., 0., 0., 0., 0., 0., 0., 0., 0., 0., 0., 0., 0., 0., 0., 0., 0.,\n",
       "       0., 0., 0., 0., 0., 0., 0., 0., 0., 0., 0., 0., 0., 0., 0., 0., 0.,\n",
       "       0., 0., 0., 0., 0., 0., 0., 0., 0., 0., 0., 0., 0., 0., 0., 0., 0.,\n",
       "       0., 0., 0., 0., 0., 0., 0., 0., 0., 0., 0., 0., 0., 0., 0., 0., 0.,\n",
       "       0., 0., 0., 0., 0., 0., 0., 0., 0., 0., 0., 0., 0., 0., 0., 0., 0.,\n",
       "       0., 0., 0., 0., 0., 0., 0., 0., 0., 0., 0., 0., 0., 0., 0., 0., 0.,\n",
       "       0., 0., 0., 0., 0., 0., 0., 0., 0., 0., 0., 0., 0., 0., 0., 0., 0.,\n",
       "       0., 0., 0., 0., 0., 0., 0., 0., 0., 0., 0., 0., 0., 0., 0., 0., 0.,\n",
       "       0., 0., 0., 0., 0., 0., 0., 0., 0., 0., 0., 0., 0., 0., 0., 0., 0.,\n",
       "       0., 0., 0., 0., 0., 0., 0., 0., 0., 0., 0., 0., 0., 0., 0., 0., 0.,\n",
       "       0., 0., 0., 0., 0., 0., 0., 0., 0., 0., 0., 0., 0., 0., 0., 0., 0.,\n",
       "       0., 0., 0., 0., 0., 0., 0., 0., 0., 0., 0., 0., 0., 0., 0., 0., 0.,\n",
       "       0., 0., 0., 0., 0., 0., 0., 0., 0., 0., 0., 0., 0., 0., 0., 0., 0.,\n",
       "       0., 0., 0., 0., 0., 0., 0., 0., 0., 0., 0., 0., 0., 0., 0., 0., 0.,\n",
       "       0., 0., 0., 0., 0., 0., 0., 0., 0., 0., 0., 0., 0., 0., 0., 0., 0.,\n",
       "       0., 0., 0., 0., 0., 0., 0., 0., 0., 0., 0.], dtype=float32)"
      ]
     },
     "execution_count": 15,
     "metadata": {},
     "output_type": "execute_result"
    }
   ],
   "source": [
    "biases"
   ]
  },
  {
   "cell_type": "code",
   "execution_count": 16,
   "id": "d53a1e40",
   "metadata": {
    "execution": {
     "iopub.execute_input": "2024-06-14T12:56:25.332521Z",
     "iopub.status.busy": "2024-06-14T12:56:25.332141Z",
     "iopub.status.idle": "2024-06-14T12:56:25.339783Z",
     "shell.execute_reply": "2024-06-14T12:56:25.338582Z"
    },
    "papermill": {
     "duration": 0.028588,
     "end_time": "2024-06-14T12:56:25.342225",
     "exception": false,
     "start_time": "2024-06-14T12:56:25.313637",
     "status": "completed"
    },
    "tags": []
   },
   "outputs": [
    {
     "data": {
      "text/plain": [
       "(784, 300)"
      ]
     },
     "execution_count": 16,
     "metadata": {},
     "output_type": "execute_result"
    }
   ],
   "source": [
    "weights.shape"
   ]
  },
  {
   "cell_type": "code",
   "execution_count": 17,
   "id": "9d72bccd",
   "metadata": {
    "execution": {
     "iopub.execute_input": "2024-06-14T12:56:25.377822Z",
     "iopub.status.busy": "2024-06-14T12:56:25.377387Z",
     "iopub.status.idle": "2024-06-14T12:56:25.385019Z",
     "shell.execute_reply": "2024-06-14T12:56:25.383695Z"
    },
    "papermill": {
     "duration": 0.029201,
     "end_time": "2024-06-14T12:56:25.388204",
     "exception": false,
     "start_time": "2024-06-14T12:56:25.359003",
     "status": "completed"
    },
    "tags": []
   },
   "outputs": [
    {
     "data": {
      "text/plain": [
       "(300,)"
      ]
     },
     "execution_count": 17,
     "metadata": {},
     "output_type": "execute_result"
    }
   ],
   "source": [
    "biases.shape"
   ]
  },
  {
   "cell_type": "code",
   "execution_count": 18,
   "id": "e06d2649",
   "metadata": {
    "execution": {
     "iopub.execute_input": "2024-06-14T12:56:25.424485Z",
     "iopub.status.busy": "2024-06-14T12:56:25.424093Z",
     "iopub.status.idle": "2024-06-14T12:56:25.429359Z",
     "shell.execute_reply": "2024-06-14T12:56:25.428171Z"
    },
    "papermill": {
     "duration": 0.026628,
     "end_time": "2024-06-14T12:56:25.431881",
     "exception": false,
     "start_time": "2024-06-14T12:56:25.405253",
     "status": "completed"
    },
    "tags": []
   },
   "outputs": [],
   "source": [
    "# we can also set the parameters of any layer using set_weights()"
   ]
  },
  {
   "cell_type": "code",
   "execution_count": 19,
   "id": "22f7bc83",
   "metadata": {
    "execution": {
     "iopub.execute_input": "2024-06-14T12:56:25.467768Z",
     "iopub.status.busy": "2024-06-14T12:56:25.467334Z",
     "iopub.status.idle": "2024-06-14T12:56:25.484639Z",
     "shell.execute_reply": "2024-06-14T12:56:25.483543Z"
    },
    "papermill": {
     "duration": 0.038693,
     "end_time": "2024-06-14T12:56:25.487513",
     "exception": false,
     "start_time": "2024-06-14T12:56:25.448820",
     "status": "completed"
    },
    "tags": []
   },
   "outputs": [],
   "source": [
    "# compiling the model by specifying the loss function and optimizer\n",
    "\n",
    "model.compile(loss=\"sparse_categorical_crossentropy\", # used when sparse labels and classes are exclusive\n",
    "             optimizer=\"sgd\", # stocastic GD, i.e., backpropagation is being used for training with default learning rate of 0.01\n",
    "             metrics=[\"accuracy\"])\n",
    "# we can also specify any extra metrics to compute during training and evaluation\n",
    "\n",
    "\n"
   ]
  },
  {
   "cell_type": "code",
   "execution_count": 20,
   "id": "99dd468b",
   "metadata": {
    "execution": {
     "iopub.execute_input": "2024-06-14T12:56:25.523385Z",
     "iopub.status.busy": "2024-06-14T12:56:25.522965Z",
     "iopub.status.idle": "2024-06-14T12:59:44.625482Z",
     "shell.execute_reply": "2024-06-14T12:59:44.623949Z"
    },
    "papermill": {
     "duration": 199.124347,
     "end_time": "2024-06-14T12:59:44.628735",
     "exception": false,
     "start_time": "2024-06-14T12:56:25.504388",
     "status": "completed"
    },
    "tags": []
   },
   "outputs": [
    {
     "name": "stdout",
     "output_type": "stream",
     "text": [
      "Epoch 1/30\n",
      "\u001b[1m1719/1719\u001b[0m \u001b[32m━━━━━━━━━━━━━━━━━━━━\u001b[0m\u001b[37m\u001b[0m \u001b[1m8s\u001b[0m 4ms/step - accuracy: 0.6861 - loss: 0.9897 - val_accuracy: 0.8260 - val_loss: 0.5051\n",
      "Epoch 2/30\n",
      "\u001b[1m1719/1719\u001b[0m \u001b[32m━━━━━━━━━━━━━━━━━━━━\u001b[0m\u001b[37m\u001b[0m \u001b[1m7s\u001b[0m 4ms/step - accuracy: 0.8247 - loss: 0.5078 - val_accuracy: 0.8396 - val_loss: 0.4520\n",
      "Epoch 3/30\n",
      "\u001b[1m1719/1719\u001b[0m \u001b[32m━━━━━━━━━━━━━━━━━━━━\u001b[0m\u001b[37m\u001b[0m \u001b[1m6s\u001b[0m 4ms/step - accuracy: 0.8427 - loss: 0.4536 - val_accuracy: 0.8480 - val_loss: 0.4276\n",
      "Epoch 4/30\n",
      "\u001b[1m1719/1719\u001b[0m \u001b[32m━━━━━━━━━━━━━━━━━━━━\u001b[0m\u001b[37m\u001b[0m \u001b[1m6s\u001b[0m 3ms/step - accuracy: 0.8528 - loss: 0.4227 - val_accuracy: 0.8526 - val_loss: 0.4131\n",
      "Epoch 5/30\n",
      "\u001b[1m1719/1719\u001b[0m \u001b[32m━━━━━━━━━━━━━━━━━━━━\u001b[0m\u001b[37m\u001b[0m \u001b[1m6s\u001b[0m 4ms/step - accuracy: 0.8592 - loss: 0.4009 - val_accuracy: 0.8570 - val_loss: 0.4025\n",
      "Epoch 6/30\n",
      "\u001b[1m1719/1719\u001b[0m \u001b[32m━━━━━━━━━━━━━━━━━━━━\u001b[0m\u001b[37m\u001b[0m \u001b[1m11s\u001b[0m 4ms/step - accuracy: 0.8651 - loss: 0.3837 - val_accuracy: 0.8572 - val_loss: 0.3945\n",
      "Epoch 7/30\n",
      "\u001b[1m1719/1719\u001b[0m \u001b[32m━━━━━━━━━━━━━━━━━━━━\u001b[0m\u001b[37m\u001b[0m \u001b[1m8s\u001b[0m 4ms/step - accuracy: 0.8696 - loss: 0.3691 - val_accuracy: 0.8590 - val_loss: 0.3875\n",
      "Epoch 8/30\n",
      "\u001b[1m1719/1719\u001b[0m \u001b[32m━━━━━━━━━━━━━━━━━━━━\u001b[0m\u001b[37m\u001b[0m \u001b[1m7s\u001b[0m 4ms/step - accuracy: 0.8744 - loss: 0.3562 - val_accuracy: 0.8624 - val_loss: 0.3805\n",
      "Epoch 9/30\n",
      "\u001b[1m1719/1719\u001b[0m \u001b[32m━━━━━━━━━━━━━━━━━━━━\u001b[0m\u001b[37m\u001b[0m \u001b[1m8s\u001b[0m 4ms/step - accuracy: 0.8771 - loss: 0.3450 - val_accuracy: 0.8640 - val_loss: 0.3755\n",
      "Epoch 10/30\n",
      "\u001b[1m1719/1719\u001b[0m \u001b[32m━━━━━━━━━━━━━━━━━━━━\u001b[0m\u001b[37m\u001b[0m \u001b[1m7s\u001b[0m 4ms/step - accuracy: 0.8809 - loss: 0.3346 - val_accuracy: 0.8668 - val_loss: 0.3705\n",
      "Epoch 11/30\n",
      "\u001b[1m1719/1719\u001b[0m \u001b[32m━━━━━━━━━━━━━━━━━━━━\u001b[0m\u001b[37m\u001b[0m \u001b[1m6s\u001b[0m 4ms/step - accuracy: 0.8837 - loss: 0.3254 - val_accuracy: 0.8680 - val_loss: 0.3666\n",
      "Epoch 12/30\n",
      "\u001b[1m1719/1719\u001b[0m \u001b[32m━━━━━━━━━━━━━━━━━━━━\u001b[0m\u001b[37m\u001b[0m \u001b[1m6s\u001b[0m 4ms/step - accuracy: 0.8862 - loss: 0.3169 - val_accuracy: 0.8692 - val_loss: 0.3632\n",
      "Epoch 13/30\n",
      "\u001b[1m1719/1719\u001b[0m \u001b[32m━━━━━━━━━━━━━━━━━━━━\u001b[0m\u001b[37m\u001b[0m \u001b[1m6s\u001b[0m 4ms/step - accuracy: 0.8884 - loss: 0.3089 - val_accuracy: 0.8690 - val_loss: 0.3611\n",
      "Epoch 14/30\n",
      "\u001b[1m1719/1719\u001b[0m \u001b[32m━━━━━━━━━━━━━━━━━━━━\u001b[0m\u001b[37m\u001b[0m \u001b[1m7s\u001b[0m 4ms/step - accuracy: 0.8918 - loss: 0.3016 - val_accuracy: 0.8708 - val_loss: 0.3587\n",
      "Epoch 15/30\n",
      "\u001b[1m1719/1719\u001b[0m \u001b[32m━━━━━━━━━━━━━━━━━━━━\u001b[0m\u001b[37m\u001b[0m \u001b[1m7s\u001b[0m 4ms/step - accuracy: 0.8940 - loss: 0.2948 - val_accuracy: 0.8710 - val_loss: 0.3565\n",
      "Epoch 16/30\n",
      "\u001b[1m1719/1719\u001b[0m \u001b[32m━━━━━━━━━━━━━━━━━━━━\u001b[0m\u001b[37m\u001b[0m \u001b[1m7s\u001b[0m 4ms/step - accuracy: 0.8957 - loss: 0.2883 - val_accuracy: 0.8712 - val_loss: 0.3550\n",
      "Epoch 17/30\n",
      "\u001b[1m1719/1719\u001b[0m \u001b[32m━━━━━━━━━━━━━━━━━━━━\u001b[0m\u001b[37m\u001b[0m \u001b[1m6s\u001b[0m 4ms/step - accuracy: 0.8990 - loss: 0.2823 - val_accuracy: 0.8720 - val_loss: 0.3521\n",
      "Epoch 18/30\n",
      "\u001b[1m1719/1719\u001b[0m \u001b[32m━━━━━━━━━━━━━━━━━━━━\u001b[0m\u001b[37m\u001b[0m \u001b[1m6s\u001b[0m 4ms/step - accuracy: 0.9009 - loss: 0.2765 - val_accuracy: 0.8736 - val_loss: 0.3519\n",
      "Epoch 19/30\n",
      "\u001b[1m1719/1719\u001b[0m \u001b[32m━━━━━━━━━━━━━━━━━━━━\u001b[0m\u001b[37m\u001b[0m \u001b[1m7s\u001b[0m 4ms/step - accuracy: 0.9020 - loss: 0.2710 - val_accuracy: 0.8742 - val_loss: 0.3494\n",
      "Epoch 20/30\n",
      "\u001b[1m1719/1719\u001b[0m \u001b[32m━━━━━━━━━━━━━━━━━━━━\u001b[0m\u001b[37m\u001b[0m \u001b[1m6s\u001b[0m 4ms/step - accuracy: 0.9041 - loss: 0.2656 - val_accuracy: 0.8740 - val_loss: 0.3500\n",
      "Epoch 21/30\n",
      "\u001b[1m1719/1719\u001b[0m \u001b[32m━━━━━━━━━━━━━━━━━━━━\u001b[0m\u001b[37m\u001b[0m \u001b[1m6s\u001b[0m 3ms/step - accuracy: 0.9072 - loss: 0.2608 - val_accuracy: 0.8738 - val_loss: 0.3499\n",
      "Epoch 22/30\n",
      "\u001b[1m1719/1719\u001b[0m \u001b[32m━━━━━━━━━━━━━━━━━━━━\u001b[0m\u001b[37m\u001b[0m \u001b[1m6s\u001b[0m 3ms/step - accuracy: 0.9091 - loss: 0.2558 - val_accuracy: 0.8750 - val_loss: 0.3491\n",
      "Epoch 23/30\n",
      "\u001b[1m1719/1719\u001b[0m \u001b[32m━━━━━━━━━━━━━━━━━━━━\u001b[0m\u001b[37m\u001b[0m \u001b[1m6s\u001b[0m 4ms/step - accuracy: 0.9110 - loss: 0.2512 - val_accuracy: 0.8744 - val_loss: 0.3498\n",
      "Epoch 24/30\n",
      "\u001b[1m1719/1719\u001b[0m \u001b[32m━━━━━━━━━━━━━━━━━━━━\u001b[0m\u001b[37m\u001b[0m \u001b[1m7s\u001b[0m 4ms/step - accuracy: 0.9126 - loss: 0.2467 - val_accuracy: 0.8756 - val_loss: 0.3476\n",
      "Epoch 25/30\n",
      "\u001b[1m1719/1719\u001b[0m \u001b[32m━━━━━━━━━━━━━━━━━━━━\u001b[0m\u001b[37m\u001b[0m \u001b[1m6s\u001b[0m 4ms/step - accuracy: 0.9139 - loss: 0.2422 - val_accuracy: 0.8770 - val_loss: 0.3475\n",
      "Epoch 26/30\n",
      "\u001b[1m1719/1719\u001b[0m \u001b[32m━━━━━━━━━━━━━━━━━━━━\u001b[0m\u001b[37m\u001b[0m \u001b[1m6s\u001b[0m 4ms/step - accuracy: 0.9163 - loss: 0.2381 - val_accuracy: 0.8772 - val_loss: 0.3468\n",
      "Epoch 27/30\n",
      "\u001b[1m1719/1719\u001b[0m \u001b[32m━━━━━━━━━━━━━━━━━━━━\u001b[0m\u001b[37m\u001b[0m \u001b[1m6s\u001b[0m 4ms/step - accuracy: 0.9175 - loss: 0.2336 - val_accuracy: 0.8780 - val_loss: 0.3481\n",
      "Epoch 28/30\n",
      "\u001b[1m1719/1719\u001b[0m \u001b[32m━━━━━━━━━━━━━━━━━━━━\u001b[0m\u001b[37m\u001b[0m \u001b[1m6s\u001b[0m 3ms/step - accuracy: 0.9195 - loss: 0.2297 - val_accuracy: 0.8794 - val_loss: 0.3493\n",
      "Epoch 29/30\n",
      "\u001b[1m1719/1719\u001b[0m \u001b[32m━━━━━━━━━━━━━━━━━━━━\u001b[0m\u001b[37m\u001b[0m \u001b[1m6s\u001b[0m 4ms/step - accuracy: 0.9210 - loss: 0.2256 - val_accuracy: 0.8786 - val_loss: 0.3476\n",
      "Epoch 30/30\n",
      "\u001b[1m1719/1719\u001b[0m \u001b[32m━━━━━━━━━━━━━━━━━━━━\u001b[0m\u001b[37m\u001b[0m \u001b[1m6s\u001b[0m 3ms/step - accuracy: 0.9225 - loss: 0.2217 - val_accuracy: 0.8776 - val_loss: 0.3498\n"
     ]
    }
   ],
   "source": [
    "# training and evaluating the model\n",
    "\n",
    "history = model.fit(X_train, y_train, epochs=30,\n",
    "                   validation_data=(X_valid, y_valid))"
   ]
  },
  {
   "cell_type": "code",
   "execution_count": 21,
   "id": "9ec21e2a",
   "metadata": {
    "execution": {
     "iopub.execute_input": "2024-06-14T12:59:45.349259Z",
     "iopub.status.busy": "2024-06-14T12:59:45.348788Z",
     "iopub.status.idle": "2024-06-14T12:59:45.737434Z",
     "shell.execute_reply": "2024-06-14T12:59:45.735954Z"
    },
    "papermill": {
     "duration": 0.750802,
     "end_time": "2024-06-14T12:59:45.740227",
     "exception": false,
     "start_time": "2024-06-14T12:59:44.989425",
     "status": "completed"
    },
    "tags": []
   },
   "outputs": [
    {
     "data": {
      "image/png": "[encoded data removed]",
      "text/plain": [
       "<Figure size 800x500 with 1 Axes>"
      ]
     },
     "metadata": {},
     "output_type": "display_data"
    }
   ],
   "source": [
    "import matplotlib.pyplot as plt\n",
    "import pandas as pd\n",
    "pd.DataFrame(history.history).plot(\n",
    "    figsize=(8, 5), xlim=[0, 29], ylim=[0, 1], grid=True, xlabel=\"Epoch\",\n",
    "    style=[\"r--\", \"r--.\", \"b-\", \"b-*\"])\n",
    "plt.show()"
   ]
  },
  {
   "cell_type": "code",
   "execution_count": 22,
   "id": "656dd554",
   "metadata": {
    "execution": {
     "iopub.execute_input": "2024-06-14T12:59:46.472720Z",
     "iopub.status.busy": "2024-06-14T12:59:46.472257Z",
     "iopub.status.idle": "2024-06-14T12:59:47.310400Z",
     "shell.execute_reply": "2024-06-14T12:59:47.308991Z"
    },
    "papermill": {
     "duration": 1.209425,
     "end_time": "2024-06-14T12:59:47.313048",
     "exception": false,
     "start_time": "2024-06-14T12:59:46.103623",
     "status": "completed"
    },
    "tags": []
   },
   "outputs": [
    {
     "name": "stdout",
     "output_type": "stream",
     "text": [
      "\u001b[1m313/313\u001b[0m \u001b[32m━━━━━━━━━━━━━━━━━━━━\u001b[0m\u001b[37m\u001b[0m \u001b[1m1s\u001b[0m 2ms/step - accuracy: 0.8736 - loss: 0.3705\n"
     ]
    },
    {
     "data": {
      "text/plain": [
       "[0.36800050735473633, 0.8723999857902527]"
      ]
     },
     "execution_count": 22,
     "metadata": {},
     "output_type": "execute_result"
    }
   ],
   "source": [
    "model.evaluate(X_test, y_test)"
   ]
  },
  {
   "cell_type": "code",
   "execution_count": 23,
   "id": "4baa0e15",
   "metadata": {
    "execution": {
     "iopub.execute_input": "2024-06-14T12:59:48.114531Z",
     "iopub.status.busy": "2024-06-14T12:59:48.114107Z",
     "iopub.status.idle": "2024-06-14T12:59:48.249272Z",
     "shell.execute_reply": "2024-06-14T12:59:48.248007Z"
    },
    "papermill": {
     "duration": 0.505197,
     "end_time": "2024-06-14T12:59:48.251967",
     "exception": false,
     "start_time": "2024-06-14T12:59:47.746770",
     "status": "completed"
    },
    "tags": []
   },
   "outputs": [
    {
     "name": "stdout",
     "output_type": "stream",
     "text": [
      "\u001b[1m1/1\u001b[0m \u001b[32m━━━━━━━━━━━━━━━━━━━━\u001b[0m\u001b[37m\u001b[0m \u001b[1m0s\u001b[0m 68ms/step\n"
     ]
    },
    {
     "data": {
      "text/plain": [
       "array([[0.  , 0.  , 0.  , 0.  , 0.  , 0.19, 0.  , 0.01, 0.  , 0.8 ],\n",
       "       [0.  , 0.  , 1.  , 0.  , 0.  , 0.  , 0.  , 0.  , 0.  , 0.  ],\n",
       "       [0.  , 1.  , 0.  , 0.  , 0.  , 0.  , 0.  , 0.  , 0.  , 0.  ]],\n",
       "      dtype=float32)"
      ]
     },
     "execution_count": 23,
     "metadata": {},
     "output_type": "execute_result"
    }
   ],
   "source": [
    "# Using the model to make predictions\n",
    "\n",
    "X_new = X_test[:3] # first 3 instances of test set\n",
    "y_proba = model.predict(X_new) # for each instance, it gives one probability per class\n",
    "y_proba.round(2) "
   ]
  },
  {
   "cell_type": "code",
   "execution_count": 24,
   "id": "688ea6fa",
   "metadata": {
    "execution": {
     "iopub.execute_input": "2024-06-14T12:59:48.978195Z",
     "iopub.status.busy": "2024-06-14T12:59:48.977767Z",
     "iopub.status.idle": "2024-06-14T12:59:48.985832Z",
     "shell.execute_reply": "2024-06-14T12:59:48.984526Z"
    },
    "papermill": {
     "duration": 0.37209,
     "end_time": "2024-06-14T12:59:48.988091",
     "exception": false,
     "start_time": "2024-06-14T12:59:48.616001",
     "status": "completed"
    },
    "tags": []
   },
   "outputs": [
    {
     "data": {
      "text/plain": [
       "array([9, 2, 1])"
      ]
     },
     "execution_count": 24,
     "metadata": {},
     "output_type": "execute_result"
    }
   ],
   "source": [
    "y_pred = y_proba.argmax(axis=-1) # argmax will give the class with highest probability for each instance\n",
    "y_pred"
   ]
  },
  {
   "cell_type": "code",
   "execution_count": 25,
   "id": "8b485416",
   "metadata": {
    "execution": {
     "iopub.execute_input": "2024-06-14T12:59:49.719679Z",
     "iopub.status.busy": "2024-06-14T12:59:49.719240Z",
     "iopub.status.idle": "2024-06-14T12:59:49.727129Z",
     "shell.execute_reply": "2024-06-14T12:59:49.725831Z"
    },
    "papermill": {
     "duration": 0.379776,
     "end_time": "2024-06-14T12:59:49.729447",
     "exception": false,
     "start_time": "2024-06-14T12:59:49.349671",
     "status": "completed"
    },
    "tags": []
   },
   "outputs": [
    {
     "data": {
      "text/plain": [
       "array(['Ankle boot', 'Pullover', 'Trouser'], dtype='<U11')"
      ]
     },
     "execution_count": 25,
     "metadata": {},
     "output_type": "execute_result"
    }
   ],
   "source": [
    "np.array(class_names)[y_pred] # corresponding class names"
   ]
  },
  {
   "cell_type": "code",
   "execution_count": 26,
   "id": "a6ff79a4",
   "metadata": {
    "execution": {
     "iopub.execute_input": "2024-06-14T12:59:50.520302Z",
     "iopub.status.busy": "2024-06-14T12:59:50.519860Z",
     "iopub.status.idle": "2024-06-14T12:59:50.527857Z",
     "shell.execute_reply": "2024-06-14T12:59:50.526552Z"
    },
    "papermill": {
     "duration": 0.439315,
     "end_time": "2024-06-14T12:59:50.530353",
     "exception": false,
     "start_time": "2024-06-14T12:59:50.091038",
     "status": "completed"
    },
    "tags": []
   },
   "outputs": [
    {
     "data": {
      "text/plain": [
       "array([9, 2, 1], dtype=uint8)"
      ]
     },
     "execution_count": 26,
     "metadata": {},
     "output_type": "execute_result"
    }
   ],
   "source": [
    "y_new = y_test[:3]\n",
    "y_new # actual classes"
   ]
  },
  {
   "cell_type": "code",
   "execution_count": 27,
   "id": "05a38c02",
   "metadata": {
    "execution": {
     "iopub.execute_input": "2024-06-14T12:59:51.257162Z",
     "iopub.status.busy": "2024-06-14T12:59:51.256447Z",
     "iopub.status.idle": "2024-06-14T12:59:51.261223Z",
     "shell.execute_reply": "2024-06-14T12:59:51.260120Z"
    },
    "papermill": {
     "duration": 0.371624,
     "end_time": "2024-06-14T12:59:51.263680",
     "exception": false,
     "start_time": "2024-06-14T12:59:50.892056",
     "status": "completed"
    },
    "tags": []
   },
   "outputs": [],
   "source": [
    "# it is making correct prediction for all the 3 instances selected"
   ]
  },
  {
   "cell_type": "code",
   "execution_count": 28,
   "id": "142d3a21",
   "metadata": {
    "execution": {
     "iopub.execute_input": "2024-06-14T12:59:51.993473Z",
     "iopub.status.busy": "2024-06-14T12:59:51.993035Z",
     "iopub.status.idle": "2024-06-14T12:59:52.123784Z",
     "shell.execute_reply": "2024-06-14T12:59:52.122514Z"
    },
    "papermill": {
     "duration": 0.496834,
     "end_time": "2024-06-14T12:59:52.126638",
     "exception": false,
     "start_time": "2024-06-14T12:59:51.629804",
     "status": "completed"
    },
    "tags": []
   },
   "outputs": [],
   "source": [
    "# Saving and Restoring a Model\n",
    "import shutil\n",
    "\n",
    "shutil.rmtree(\"my_keras_model.keras\", ignore_errors=True)\n",
    "model.save(\"my_keras_model.keras\")\n",
    "model = tf.keras.models.load_model(\"my_keras_model.keras\")"
   ]
  },
  {
   "cell_type": "code",
   "execution_count": 29,
   "id": "29305a69",
   "metadata": {
    "execution": {
     "iopub.execute_input": "2024-06-14T12:59:52.858951Z",
     "iopub.status.busy": "2024-06-14T12:59:52.858500Z",
     "iopub.status.idle": "2024-06-14T12:59:52.891568Z",
     "shell.execute_reply": "2024-06-14T12:59:52.890277Z"
    },
    "papermill": {
     "duration": 0.404911,
     "end_time": "2024-06-14T12:59:52.894286",
     "exception": false,
     "start_time": "2024-06-14T12:59:52.489375",
     "status": "completed"
    },
    "tags": []
   },
   "outputs": [],
   "source": [
    "model.save_weights(\"my_weights.weights.h5\")\n",
    "model.load_weights(\"my_weights.weights.h5\")"
   ]
  },
  {
   "cell_type": "code",
   "execution_count": 30,
   "id": "85121a9d",
   "metadata": {
    "execution": {
     "iopub.execute_input": "2024-06-14T12:59:53.690392Z",
     "iopub.status.busy": "2024-06-14T12:59:53.689906Z",
     "iopub.status.idle": "2024-06-14T12:59:53.697641Z",
     "shell.execute_reply": "2024-06-14T12:59:53.696195Z"
    },
    "papermill": {
     "duration": 0.44175,
     "end_time": "2024-06-14T12:59:53.699948",
     "exception": false,
     "start_time": "2024-06-14T12:59:53.258198",
     "status": "completed"
    },
    "tags": []
   },
   "outputs": [
    {
     "name": "stdout",
     "output_type": "stream",
     "text": [
      "my_weights.weights.h5\n"
     ]
    }
   ],
   "source": [
    "# show the list of my_weights.* files\n",
    "from pathlib import Path\n",
    "for path in sorted(Path().glob(\"my_weights.*\")):\n",
    "    print(path)"
   ]
  },
  {
   "cell_type": "code",
   "execution_count": null,
   "id": "0ff82f8d",
   "metadata": {
    "papermill": {
     "duration": 0.363355,
     "end_time": "2024-06-14T12:59:54.422632",
     "exception": false,
     "start_time": "2024-06-14T12:59:54.059277",
     "status": "completed"
    },
    "tags": []
   },
   "outputs": [],
   "source": []
  }
 ],
 "metadata": {
  "kaggle": {
   "accelerator": "none",
   "dataSources": [],
   "dockerImageVersionId": 30732,
   "isGpuEnabled": false,
   "isInternetEnabled": true,
   "language": "python",
   "sourceType": "notebook"
  },
  "kernelspec": {
   "display_name": "Python 3",
   "language": "python",
   "name": "python3"
  },
  "language_info": {
   "codemirror_mode": {
    "name": "ipython",
    "version": 3
   },
   "file_extension": ".py",
   "mimetype": "text/x-python",
   "name": "python",
   "nbconvert_exporter": "python",
   "pygments_lexer": "ipython3",
   "version": "3.10.13"
  },
  "papermill": {
   "default_parameters": {},
   "duration": 238.47037,
   "end_time": "2024-06-14T12:59:56.414803",
   "environment_variables": {},
   "exception": null,
   "input_path": "__notebook__.ipynb",
   "output_path": "__notebook__.ipynb",
   "parameters": {},
   "start_time": "2024-06-14T12:55:57.944433",
   "version": "2.5.0"
  }
 },
 "nbformat": 4,
 "nbformat_minor": 5
}
