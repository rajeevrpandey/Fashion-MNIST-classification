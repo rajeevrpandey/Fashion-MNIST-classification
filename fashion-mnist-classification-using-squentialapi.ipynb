{
 "cells": [
  {
   "cell_type": "code",
   "execution_count": 1,
   "id": "6a488b0f",
   "metadata": {
    "_cell_guid": "b1076dfc-b9ad-4769-8c92-a6c4dae69d19",
    "_uuid": "8f2839f25d086af736a60e9eeb907d3b93b6e0e5",
    "execution": {
     "iopub.execute_input": "2024-06-15T05:20:53.201013Z",
     "iopub.status.busy": "2024-06-15T05:20:53.200405Z",
     "iopub.status.idle": "2024-06-15T05:20:53.929405Z",
     "shell.execute_reply": "2024-06-15T05:20:53.928633Z"
    },
    "papermill": {
     "duration": 0.744907,
     "end_time": "2024-06-15T05:20:53.931873",
     "exception": false,
     "start_time": "2024-06-15T05:20:53.186966",
     "status": "completed"
    },
    "tags": []
   },
   "outputs": [],
   "source": [
    "# This Python 3 environment comes with many helpful analytics libraries installed\n",
    "# It is defined by the kaggle/python Docker image: https://github.com/kaggle/docker-python\n",
    "# For example, here's several helpful packages to load\n",
    "\n",
    "import numpy as np # linear algebra\n",
    "import pandas as pd # data processing, CSV file I/O (e.g. pd.read_csv)\n",
    "\n",
    "# Input data files are available in the read-only \"../input/\" directory\n",
    "# For example, running this (by clicking run or pressing Shift+Enter) will list all files under the input directory\n",
    "\n",
    "import os\n",
    "for dirname, _, filenames in os.walk('/kaggle/input'):\n",
    "    for filename in filenames:\n",
    "        print(os.path.join(dirname, filename))\n",
    "\n",
    "# You can write up to 20GB to the current directory (/kaggle/working/) that gets preserved as output when you create a version using \"Save & Run All\" \n",
    "# You can also write temporary files to /kaggle/temp/, but they won't be saved outside of the current session"
   ]
  },
  {
   "cell_type": "code",
   "execution_count": 2,
   "id": "083a9355",
   "metadata": {
    "execution": {
     "iopub.execute_input": "2024-06-15T05:20:53.957127Z",
     "iopub.status.busy": "2024-06-15T05:20:53.956717Z",
     "iopub.status.idle": "2024-06-15T05:21:09.700927Z",
     "shell.execute_reply": "2024-06-15T05:21:09.700109Z"
    },
    "papermill": {
     "duration": 15.759057,
     "end_time": "2024-06-15T05:21:09.703053",
     "exception": false,
     "start_time": "2024-06-15T05:20:53.943996",
     "status": "completed"
    },
    "tags": []
   },
   "outputs": [
    {
     "name": "stderr",
     "output_type": "stream",
     "text": [
      "2024-06-15 05:20:55.574216: E external/local_xla/xla/stream_executor/cuda/cuda_dnn.cc:9261] Unable to register cuDNN factory: Attempting to register factory for plugin cuDNN when one has already been registered\n",
      "2024-06-15 05:20:55.574329: E external/local_xla/xla/stream_executor/cuda/cuda_fft.cc:607] Unable to register cuFFT factory: Attempting to register factory for plugin cuFFT when one has already been registered\n",
      "2024-06-15 05:20:55.691496: E external/local_xla/xla/stream_executor/cuda/cuda_blas.cc:1515] Unable to register cuBLAS factory: Attempting to register factory for plugin cuBLAS when one has already been registered\n"
     ]
    },
    {
     "name": "stdout",
     "output_type": "stream",
     "text": [
      "Downloading data from https://storage.googleapis.com/tensorflow/tf-keras-datasets/train-labels-idx1-ubyte.gz\n",
      "\u001b[1m29515/29515\u001b[0m \u001b[32m━━━━━━━━━━━━━━━━━━━━\u001b[0m\u001b[37m\u001b[0m \u001b[1m0s\u001b[0m 0us/step\n",
      "Downloading data from https://storage.googleapis.com/tensorflow/tf-keras-datasets/train-images-idx3-ubyte.gz\n",
      "\u001b[1m26421880/26421880\u001b[0m \u001b[32m━━━━━━━━━━━━━━━━━━━━\u001b[0m\u001b[37m\u001b[0m \u001b[1m2s\u001b[0m 0us/step\n",
      "Downloading data from https://storage.googleapis.com/tensorflow/tf-keras-datasets/t10k-labels-idx1-ubyte.gz\n",
      "\u001b[1m5148/5148\u001b[0m \u001b[32m━━━━━━━━━━━━━━━━━━━━\u001b[0m\u001b[37m\u001b[0m \u001b[1m0s\u001b[0m 1us/step\n",
      "Downloading data from https://storage.googleapis.com/tensorflow/tf-keras-datasets/t10k-images-idx3-ubyte.gz\n",
      "\u001b[1m4422102/4422102\u001b[0m \u001b[32m━━━━━━━━━━━━━━━━━━━━\u001b[0m\u001b[37m\u001b[0m \u001b[1m1s\u001b[0m 0us/step\n"
     ]
    },
    {
     "data": {
      "text/plain": [
       "tuple"
      ]
     },
     "execution_count": 2,
     "metadata": {},
     "output_type": "execute_result"
    }
   ],
   "source": [
    "import tensorflow as tf\n",
    "fashion_mnist = tf.keras.datasets.fashion_mnist.load_data()\n",
    "type(fashion_mnist)"
   ]
  },
  {
   "cell_type": "code",
   "execution_count": 3,
   "id": "8b9cb020",
   "metadata": {
    "execution": {
     "iopub.execute_input": "2024-06-15T05:21:09.738435Z",
     "iopub.status.busy": "2024-06-15T05:21:09.737622Z",
     "iopub.status.idle": "2024-06-15T05:21:09.742689Z",
     "shell.execute_reply": "2024-06-15T05:21:09.741853Z"
    },
    "papermill": {
     "duration": 0.024547,
     "end_time": "2024-06-15T05:21:09.744492",
     "exception": false,
     "start_time": "2024-06-15T05:21:09.719945",
     "status": "completed"
    },
    "tags": []
   },
   "outputs": [],
   "source": [
    "(X_train_full, y_train_full), (X_test, y_test) = fashion_mnist\n",
    "X_valid, y_valid = X_train_full[-5000:], y_train_full[-5000:]\n",
    "X_train, y_train = X_train_full[:-5000], y_train_full[:-5000]"
   ]
  },
  {
   "cell_type": "code",
   "execution_count": 4,
   "id": "02cd710a",
   "metadata": {
    "execution": {
     "iopub.execute_input": "2024-06-15T05:21:09.779950Z",
     "iopub.status.busy": "2024-06-15T05:21:09.779670Z",
     "iopub.status.idle": "2024-06-15T05:21:09.785188Z",
     "shell.execute_reply": "2024-06-15T05:21:09.784374Z"
    },
    "papermill": {
     "duration": 0.025846,
     "end_time": "2024-06-15T05:21:09.787232",
     "exception": false,
     "start_time": "2024-06-15T05:21:09.761386",
     "status": "completed"
    },
    "tags": []
   },
   "outputs": [
    {
     "data": {
      "text/plain": [
       "(55000, 28, 28)"
      ]
     },
     "execution_count": 4,
     "metadata": {},
     "output_type": "execute_result"
    }
   ],
   "source": [
    "X_train.shape"
   ]
  },
  {
   "cell_type": "code",
   "execution_count": 5,
   "id": "c2cf0cb6",
   "metadata": {
    "execution": {
     "iopub.execute_input": "2024-06-15T05:21:09.821521Z",
     "iopub.status.busy": "2024-06-15T05:21:09.821247Z",
     "iopub.status.idle": "2024-06-15T05:21:09.826880Z",
     "shell.execute_reply": "2024-06-15T05:21:09.826001Z"
    },
    "papermill": {
     "duration": 0.024952,
     "end_time": "2024-06-15T05:21:09.828873",
     "exception": false,
     "start_time": "2024-06-15T05:21:09.803921",
     "status": "completed"
    },
    "tags": []
   },
   "outputs": [
    {
     "data": {
      "text/plain": [
       "dtype('uint8')"
      ]
     },
     "execution_count": 5,
     "metadata": {},
     "output_type": "execute_result"
    }
   ],
   "source": [
    "X_train.dtype"
   ]
  },
  {
   "cell_type": "code",
   "execution_count": 6,
   "id": "991a4fb8",
   "metadata": {
    "execution": {
     "iopub.execute_input": "2024-06-15T05:21:09.863589Z",
     "iopub.status.busy": "2024-06-15T05:21:09.863271Z",
     "iopub.status.idle": "2024-06-15T05:21:09.870387Z",
     "shell.execute_reply": "2024-06-15T05:21:09.869573Z"
    },
    "papermill": {
     "duration": 0.026791,
     "end_time": "2024-06-15T05:21:09.872259",
     "exception": false,
     "start_time": "2024-06-15T05:21:09.845468",
     "status": "completed"
    },
    "tags": []
   },
   "outputs": [
    {
     "data": {
      "text/plain": [
       "array([0, 1, 2, 3, 4, 5, 6, 7, 8, 9], dtype=uint8)"
      ]
     },
     "execution_count": 6,
     "metadata": {},
     "output_type": "execute_result"
    }
   ],
   "source": [
    "np.unique(y_train)"
   ]
  },
  {
   "cell_type": "code",
   "execution_count": 7,
   "id": "7d3d05b5",
   "metadata": {
    "execution": {
     "iopub.execute_input": "2024-06-15T05:21:09.907213Z",
     "iopub.status.busy": "2024-06-15T05:21:09.906917Z",
     "iopub.status.idle": "2024-06-15T05:21:09.912484Z",
     "shell.execute_reply": "2024-06-15T05:21:09.911680Z"
    },
    "papermill": {
     "duration": 0.025325,
     "end_time": "2024-06-15T05:21:09.914391",
     "exception": false,
     "start_time": "2024-06-15T05:21:09.889066",
     "status": "completed"
    },
    "tags": []
   },
   "outputs": [
    {
     "data": {
      "text/plain": [
       "9"
      ]
     },
     "execution_count": 7,
     "metadata": {},
     "output_type": "execute_result"
    }
   ],
   "source": [
    "y_train[0]"
   ]
  },
  {
   "cell_type": "code",
   "execution_count": 8,
   "id": "4107f11e",
   "metadata": {
    "execution": {
     "iopub.execute_input": "2024-06-15T05:21:09.951695Z",
     "iopub.status.busy": "2024-06-15T05:21:09.950774Z",
     "iopub.status.idle": "2024-06-15T05:21:10.090356Z",
     "shell.execute_reply": "2024-06-15T05:21:10.089576Z"
    },
    "papermill": {
     "duration": 0.160152,
     "end_time": "2024-06-15T05:21:10.092794",
     "exception": false,
     "start_time": "2024-06-15T05:21:09.932642",
     "status": "completed"
    },
    "tags": []
   },
   "outputs": [],
   "source": [
    "# Let's scale the pixel intensities down to the 0-1 range and convert them to floats, by dividing by 255:\n",
    "\n",
    "X_train, X_valid, X_test = X_train / 255., X_valid / 255., X_test / 255."
   ]
  },
  {
   "cell_type": "code",
   "execution_count": 9,
   "id": "fdff5e8a",
   "metadata": {
    "execution": {
     "iopub.execute_input": "2024-06-15T05:21:10.129008Z",
     "iopub.status.busy": "2024-06-15T05:21:10.128679Z",
     "iopub.status.idle": "2024-06-15T05:21:10.133283Z",
     "shell.execute_reply": "2024-06-15T05:21:10.132375Z"
    },
    "papermill": {
     "duration": 0.025108,
     "end_time": "2024-06-15T05:21:10.135279",
     "exception": false,
     "start_time": "2024-06-15T05:21:10.110171",
     "status": "completed"
    },
    "tags": []
   },
   "outputs": [],
   "source": [
    "#Here are the corresponding class names:\n",
    "\n",
    "class_names = [\"T-shirt/top\", \"Trouser\", \"Pullover\", \"Dress\", \"Coat\",\n",
    "               \"Sandal\", \"Shirt\", \"Sneaker\", \"Bag\", \"Ankle boot\"]"
   ]
  },
  {
   "cell_type": "code",
   "execution_count": 10,
   "id": "d033e081",
   "metadata": {
    "execution": {
     "iopub.execute_input": "2024-06-15T05:21:10.171487Z",
     "iopub.status.busy": "2024-06-15T05:21:10.171157Z",
     "iopub.status.idle": "2024-06-15T05:21:10.850045Z",
     "shell.execute_reply": "2024-06-15T05:21:10.849295Z"
    },
    "papermill": {
     "duration": 0.699463,
     "end_time": "2024-06-15T05:21:10.852318",
     "exception": false,
     "start_time": "2024-06-15T05:21:10.152855",
     "status": "completed"
    },
    "tags": []
   },
   "outputs": [],
   "source": [
    "# Creating the model using the sequential API\n",
    "\n",
    "tf.random.set_seed(42)\n",
    "model = tf.keras.Sequential() # using sequential model\n",
    "model.add(tf.keras.layers.Input(shape = [28, 28])) # adding input layer specifying input size\n",
    "model.add(tf.keras.layers.Flatten()) # it will convert the input into 1d array\n",
    "model.add(tf.keras.layers.Dense(300, activation=\"relu\"))\n",
    "model.add(tf.keras.layers.Dense(100, activation=\"relu\"))\n",
    "model.add(tf.keras.layers.Dense(10, activation=\"softmax\"))"
   ]
  },
  {
   "cell_type": "code",
   "execution_count": 11,
   "id": "18fc1031",
   "metadata": {
    "execution": {
     "iopub.execute_input": "2024-06-15T05:21:10.888612Z",
     "iopub.status.busy": "2024-06-15T05:21:10.887786Z",
     "iopub.status.idle": "2024-06-15T05:21:10.906225Z",
     "shell.execute_reply": "2024-06-15T05:21:10.905375Z"
    },
    "papermill": {
     "duration": 0.038338,
     "end_time": "2024-06-15T05:21:10.908128",
     "exception": false,
     "start_time": "2024-06-15T05:21:10.869790",
     "status": "completed"
    },
    "tags": []
   },
   "outputs": [
    {
     "data": {
      "text/html": [
       "<pre style=\"white-space:pre;overflow-x:auto;line-height:normal;font-family:Menlo,'DejaVu Sans Mono',consolas,'Courier New',monospace\"><span style=\"font-weight: bold\">Model: \"sequential\"</span>\n",
       "</pre>\n"
      ],
      "text/plain": [
       "\u001b[1mModel: \"sequential\"\u001b[0m\n"
      ]
     },
     "metadata": {},
     "output_type": "display_data"
    },
    {
     "data": {
      "text/html": [
       "<pre style=\"white-space:pre;overflow-x:auto;line-height:normal;font-family:Menlo,'DejaVu Sans Mono',consolas,'Courier New',monospace\">┏━━━━━━━━━━━━━━━━━━━━━━━━━━━━━━━━━┳━━━━━━━━━━━━━━━━━━━━━━━━┳━━━━━━━━━━━━━━━┓\n",
       "┃<span style=\"font-weight: bold\"> Layer (type)                    </span>┃<span style=\"font-weight: bold\"> Output Shape           </span>┃<span style=\"font-weight: bold\">       Param # </span>┃\n",
       "┡━━━━━━━━━━━━━━━━━━━━━━━━━━━━━━━━━╇━━━━━━━━━━━━━━━━━━━━━━━━╇━━━━━━━━━━━━━━━┩\n",
       "│ flatten (<span style=\"color: #0087ff; text-decoration-color: #0087ff\">Flatten</span>)               │ (<span style=\"color: #00d7ff; text-decoration-color: #00d7ff\">None</span>, <span style=\"color: #00af00; text-decoration-color: #00af00\">784</span>)            │             <span style=\"color: #00af00; text-decoration-color: #00af00\">0</span> │\n",
       "├─────────────────────────────────┼────────────────────────┼───────────────┤\n",
       "│ dense (<span style=\"color: #0087ff; text-decoration-color: #0087ff\">Dense</span>)                   │ (<span style=\"color: #00d7ff; text-decoration-color: #00d7ff\">None</span>, <span style=\"color: #00af00; text-decoration-color: #00af00\">300</span>)            │       <span style=\"color: #00af00; text-decoration-color: #00af00\">235,500</span> │\n",
       "├─────────────────────────────────┼────────────────────────┼───────────────┤\n",
       "│ dense_1 (<span style=\"color: #0087ff; text-decoration-color: #0087ff\">Dense</span>)                 │ (<span style=\"color: #00d7ff; text-decoration-color: #00d7ff\">None</span>, <span style=\"color: #00af00; text-decoration-color: #00af00\">100</span>)            │        <span style=\"color: #00af00; text-decoration-color: #00af00\">30,100</span> │\n",
       "├─────────────────────────────────┼────────────────────────┼───────────────┤\n",
       "│ dense_2 (<span style=\"color: #0087ff; text-decoration-color: #0087ff\">Dense</span>)                 │ (<span style=\"color: #00d7ff; text-decoration-color: #00d7ff\">None</span>, <span style=\"color: #00af00; text-decoration-color: #00af00\">10</span>)             │         <span style=\"color: #00af00; text-decoration-color: #00af00\">1,010</span> │\n",
       "└─────────────────────────────────┴────────────────────────┴───────────────┘\n",
       "</pre>\n"
      ],
      "text/plain": [
       "┏━━━━━━━━━━━━━━━━━━━━━━━━━━━━━━━━━┳━━━━━━━━━━━━━━━━━━━━━━━━┳━━━━━━━━━━━━━━━┓\n",
       "┃\u001b[1m \u001b[0m\u001b[1mLayer (type)                   \u001b[0m\u001b[1m \u001b[0m┃\u001b[1m \u001b[0m\u001b[1mOutput Shape          \u001b[0m\u001b[1m \u001b[0m┃\u001b[1m \u001b[0m\u001b[1m      Param #\u001b[0m\u001b[1m \u001b[0m┃\n",
       "┡━━━━━━━━━━━━━━━━━━━━━━━━━━━━━━━━━╇━━━━━━━━━━━━━━━━━━━━━━━━╇━━━━━━━━━━━━━━━┩\n",
       "│ flatten (\u001b[38;5;33mFlatten\u001b[0m)               │ (\u001b[38;5;45mNone\u001b[0m, \u001b[38;5;34m784\u001b[0m)            │             \u001b[38;5;34m0\u001b[0m │\n",
       "├─────────────────────────────────┼────────────────────────┼───────────────┤\n",
       "│ dense (\u001b[38;5;33mDense\u001b[0m)                   │ (\u001b[38;5;45mNone\u001b[0m, \u001b[38;5;34m300\u001b[0m)            │       \u001b[38;5;34m235,500\u001b[0m │\n",
       "├─────────────────────────────────┼────────────────────────┼───────────────┤\n",
       "│ dense_1 (\u001b[38;5;33mDense\u001b[0m)                 │ (\u001b[38;5;45mNone\u001b[0m, \u001b[38;5;34m100\u001b[0m)            │        \u001b[38;5;34m30,100\u001b[0m │\n",
       "├─────────────────────────────────┼────────────────────────┼───────────────┤\n",
       "│ dense_2 (\u001b[38;5;33mDense\u001b[0m)                 │ (\u001b[38;5;45mNone\u001b[0m, \u001b[38;5;34m10\u001b[0m)             │         \u001b[38;5;34m1,010\u001b[0m │\n",
       "└─────────────────────────────────┴────────────────────────┴───────────────┘\n"
      ]
     },
     "metadata": {},
     "output_type": "display_data"
    },
    {
     "data": {
      "text/html": [
       "<pre style=\"white-space:pre;overflow-x:auto;line-height:normal;font-family:Menlo,'DejaVu Sans Mono',consolas,'Courier New',monospace\"><span style=\"font-weight: bold\"> Total params: </span><span style=\"color: #00af00; text-decoration-color: #00af00\">266,610</span> (1.02 MB)\n",
       "</pre>\n"
      ],
      "text/plain": [
       "\u001b[1m Total params: \u001b[0m\u001b[38;5;34m266,610\u001b[0m (1.02 MB)\n"
      ]
     },
     "metadata": {},
     "output_type": "display_data"
    },
    {
     "data": {
      "text/html": [
       "<pre style=\"white-space:pre;overflow-x:auto;line-height:normal;font-family:Menlo,'DejaVu Sans Mono',consolas,'Courier New',monospace\"><span style=\"font-weight: bold\"> Trainable params: </span><span style=\"color: #00af00; text-decoration-color: #00af00\">266,610</span> (1.02 MB)\n",
       "</pre>\n"
      ],
      "text/plain": [
       "\u001b[1m Trainable params: \u001b[0m\u001b[38;5;34m266,610\u001b[0m (1.02 MB)\n"
      ]
     },
     "metadata": {},
     "output_type": "display_data"
    },
    {
     "data": {
      "text/html": [
       "<pre style=\"white-space:pre;overflow-x:auto;line-height:normal;font-family:Menlo,'DejaVu Sans Mono',consolas,'Courier New',monospace\"><span style=\"font-weight: bold\"> Non-trainable params: </span><span style=\"color: #00af00; text-decoration-color: #00af00\">0</span> (0.00 B)\n",
       "</pre>\n"
      ],
      "text/plain": [
       "\u001b[1m Non-trainable params: \u001b[0m\u001b[38;5;34m0\u001b[0m (0.00 B)\n"
      ]
     },
     "metadata": {},
     "output_type": "display_data"
    }
   ],
   "source": [
    "model.summary()"
   ]
  },
  {
   "cell_type": "code",
   "execution_count": 12,
   "id": "0db8daad",
   "metadata": {
    "execution": {
     "iopub.execute_input": "2024-06-15T05:21:10.945155Z",
     "iopub.status.busy": "2024-06-15T05:21:10.944417Z",
     "iopub.status.idle": "2024-06-15T05:21:10.950008Z",
     "shell.execute_reply": "2024-06-15T05:21:10.949187Z"
    },
    "papermill": {
     "duration": 0.026227,
     "end_time": "2024-06-15T05:21:10.952059",
     "exception": false,
     "start_time": "2024-06-15T05:21:10.925832",
     "status": "completed"
    },
    "tags": []
   },
   "outputs": [
    {
     "data": {
      "text/plain": [
       "[<Flatten name=flatten, built=True>,\n",
       " <Dense name=dense, built=True>,\n",
       " <Dense name=dense_1, built=True>,\n",
       " <Dense name=dense_2, built=True>]"
      ]
     },
     "execution_count": 12,
     "metadata": {},
     "output_type": "execute_result"
    }
   ],
   "source": [
    "model.layers"
   ]
  },
  {
   "cell_type": "code",
   "execution_count": 13,
   "id": "a05d2c60",
   "metadata": {
    "execution": {
     "iopub.execute_input": "2024-06-15T05:21:10.989507Z",
     "iopub.status.busy": "2024-06-15T05:21:10.988813Z",
     "iopub.status.idle": "2024-06-15T05:21:10.994414Z",
     "shell.execute_reply": "2024-06-15T05:21:10.993585Z"
    },
    "papermill": {
     "duration": 0.026462,
     "end_time": "2024-06-15T05:21:10.996283",
     "exception": false,
     "start_time": "2024-06-15T05:21:10.969821",
     "status": "completed"
    },
    "tags": []
   },
   "outputs": [
    {
     "data": {
      "text/plain": [
       "'dense'"
      ]
     },
     "execution_count": 13,
     "metadata": {},
     "output_type": "execute_result"
    }
   ],
   "source": [
    "hidden1 = model.get_layer(\"dense\")\n",
    "hidden1.name"
   ]
  },
  {
   "cell_type": "code",
   "execution_count": 14,
   "id": "82eb482f",
   "metadata": {
    "execution": {
     "iopub.execute_input": "2024-06-15T05:21:11.032828Z",
     "iopub.status.busy": "2024-06-15T05:21:11.032526Z",
     "iopub.status.idle": "2024-06-15T05:21:11.044362Z",
     "shell.execute_reply": "2024-06-15T05:21:11.043490Z"
    },
    "papermill": {
     "duration": 0.032453,
     "end_time": "2024-06-15T05:21:11.046308",
     "exception": false,
     "start_time": "2024-06-15T05:21:11.013855",
     "status": "completed"
    },
    "tags": []
   },
   "outputs": [
    {
     "data": {
      "text/plain": [
       "array([[ 0.05739152,  0.00887273,  0.04877106, ..., -0.03485174,\n",
       "        -0.05337121,  0.02290916],\n",
       "       [ 0.01157194,  0.02112556, -0.06685875, ...,  0.05842575,\n",
       "        -0.02721214,  0.03198934],\n",
       "       [ 0.02168585, -0.01126058, -0.01573211, ..., -0.06072019,\n",
       "         0.07071109,  0.06164694],\n",
       "       ...,\n",
       "       [ 0.05506718,  0.05858292, -0.00825483, ...,  0.02393039,\n",
       "        -0.06003764, -0.01623535],\n",
       "       [-0.01268491, -0.02567306,  0.0485451 , ...,  0.03724683,\n",
       "        -0.04829546,  0.07397503],\n",
       "       [-0.00545719,  0.0241949 ,  0.03745569, ...,  0.04960056,\n",
       "        -0.02926286, -0.02642903]], dtype=float32)"
      ]
     },
     "execution_count": 14,
     "metadata": {},
     "output_type": "execute_result"
    }
   ],
   "source": [
    "weights, biases = hidden1.get_weights()\n",
    "weights"
   ]
  },
  {
   "cell_type": "code",
   "execution_count": 15,
   "id": "4ecf3462",
   "metadata": {
    "execution": {
     "iopub.execute_input": "2024-06-15T05:21:11.083822Z",
     "iopub.status.busy": "2024-06-15T05:21:11.083117Z",
     "iopub.status.idle": "2024-06-15T05:21:11.091393Z",
     "shell.execute_reply": "2024-06-15T05:21:11.090558Z"
    },
    "papermill": {
     "duration": 0.029232,
     "end_time": "2024-06-15T05:21:11.093301",
     "exception": false,
     "start_time": "2024-06-15T05:21:11.064069",
     "status": "completed"
    },
    "tags": []
   },
   "outputs": [
    {
     "data": {
      "text/plain": [
       "array([0., 0., 0., 0., 0., 0., 0., 0., 0., 0., 0., 0., 0., 0., 0., 0., 0.,\n",
       "       0., 0., 0., 0., 0., 0., 0., 0., 0., 0., 0., 0., 0., 0., 0., 0., 0.,\n",
       "       0., 0., 0., 0., 0., 0., 0., 0., 0., 0., 0., 0., 0., 0., 0., 0., 0.,\n",
       "       0., 0., 0., 0., 0., 0., 0., 0., 0., 0., 0., 0., 0., 0., 0., 0., 0.,\n",
       "       0., 0., 0., 0., 0., 0., 0., 0., 0., 0., 0., 0., 0., 0., 0., 0., 0.,\n",
       "       0., 0., 0., 0., 0., 0., 0., 0., 0., 0., 0., 0., 0., 0., 0., 0., 0.,\n",
       "       0., 0., 0., 0., 0., 0., 0., 0., 0., 0., 0., 0., 0., 0., 0., 0., 0.,\n",
       "       0., 0., 0., 0., 0., 0., 0., 0., 0., 0., 0., 0., 0., 0., 0., 0., 0.,\n",
       "       0., 0., 0., 0., 0., 0., 0., 0., 0., 0., 0., 0., 0., 0., 0., 0., 0.,\n",
       "       0., 0., 0., 0., 0., 0., 0., 0., 0., 0., 0., 0., 0., 0., 0., 0., 0.,\n",
       "       0., 0., 0., 0., 0., 0., 0., 0., 0., 0., 0., 0., 0., 0., 0., 0., 0.,\n",
       "       0., 0., 0., 0., 0., 0., 0., 0., 0., 0., 0., 0., 0., 0., 0., 0., 0.,\n",
       "       0., 0., 0., 0., 0., 0., 0., 0., 0., 0., 0., 0., 0., 0., 0., 0., 0.,\n",
       "       0., 0., 0., 0., 0., 0., 0., 0., 0., 0., 0., 0., 0., 0., 0., 0., 0.,\n",
       "       0., 0., 0., 0., 0., 0., 0., 0., 0., 0., 0., 0., 0., 0., 0., 0., 0.,\n",
       "       0., 0., 0., 0., 0., 0., 0., 0., 0., 0., 0., 0., 0., 0., 0., 0., 0.,\n",
       "       0., 0., 0., 0., 0., 0., 0., 0., 0., 0., 0., 0., 0., 0., 0., 0., 0.,\n",
       "       0., 0., 0., 0., 0., 0., 0., 0., 0., 0., 0.], dtype=float32)"
      ]
     },
     "execution_count": 15,
     "metadata": {},
     "output_type": "execute_result"
    }
   ],
   "source": [
    "biases"
   ]
  },
  {
   "cell_type": "code",
   "execution_count": 16,
   "id": "7ab189eb",
   "metadata": {
    "execution": {
     "iopub.execute_input": "2024-06-15T05:21:11.131623Z",
     "iopub.status.busy": "2024-06-15T05:21:11.130858Z",
     "iopub.status.idle": "2024-06-15T05:21:11.136580Z",
     "shell.execute_reply": "2024-06-15T05:21:11.135669Z"
    },
    "papermill": {
     "duration": 0.026933,
     "end_time": "2024-06-15T05:21:11.138656",
     "exception": false,
     "start_time": "2024-06-15T05:21:11.111723",
     "status": "completed"
    },
    "tags": []
   },
   "outputs": [
    {
     "data": {
      "text/plain": [
       "(784, 300)"
      ]
     },
     "execution_count": 16,
     "metadata": {},
     "output_type": "execute_result"
    }
   ],
   "source": [
    "weights.shape"
   ]
  },
  {
   "cell_type": "code",
   "execution_count": 17,
   "id": "945febf9",
   "metadata": {
    "execution": {
     "iopub.execute_input": "2024-06-15T05:21:11.176595Z",
     "iopub.status.busy": "2024-06-15T05:21:11.176210Z",
     "iopub.status.idle": "2024-06-15T05:21:11.181914Z",
     "shell.execute_reply": "2024-06-15T05:21:11.180981Z"
    },
    "papermill": {
     "duration": 0.026953,
     "end_time": "2024-06-15T05:21:11.183856",
     "exception": false,
     "start_time": "2024-06-15T05:21:11.156903",
     "status": "completed"
    },
    "tags": []
   },
   "outputs": [
    {
     "data": {
      "text/plain": [
       "(300,)"
      ]
     },
     "execution_count": 17,
     "metadata": {},
     "output_type": "execute_result"
    }
   ],
   "source": [
    "biases.shape"
   ]
  },
  {
   "cell_type": "code",
   "execution_count": 18,
   "id": "09d48dc8",
   "metadata": {
    "execution": {
     "iopub.execute_input": "2024-06-15T05:21:11.222798Z",
     "iopub.status.busy": "2024-06-15T05:21:11.222468Z",
     "iopub.status.idle": "2024-06-15T05:21:11.226177Z",
     "shell.execute_reply": "2024-06-15T05:21:11.225367Z"
    },
    "papermill": {
     "duration": 0.02525,
     "end_time": "2024-06-15T05:21:11.228101",
     "exception": false,
     "start_time": "2024-06-15T05:21:11.202851",
     "status": "completed"
    },
    "tags": []
   },
   "outputs": [],
   "source": [
    "# we can also set the parameters of any layer using set_weights()"
   ]
  },
  {
   "cell_type": "code",
   "execution_count": 19,
   "id": "ae09126e",
   "metadata": {
    "execution": {
     "iopub.execute_input": "2024-06-15T05:21:11.274554Z",
     "iopub.status.busy": "2024-06-15T05:21:11.274230Z",
     "iopub.status.idle": "2024-06-15T05:21:11.288924Z",
     "shell.execute_reply": "2024-06-15T05:21:11.288099Z"
    },
    "papermill": {
     "duration": 0.042348,
     "end_time": "2024-06-15T05:21:11.291009",
     "exception": false,
     "start_time": "2024-06-15T05:21:11.248661",
     "status": "completed"
    },
    "tags": []
   },
   "outputs": [],
   "source": [
    "# compiling the model by specifying the loss function and optimizer\n",
    "\n",
    "model.compile(loss=\"sparse_categorical_crossentropy\", # used when sparse labels and classes are exclusive\n",
    "             optimizer=\"sgd\", # stocastic GD, i.e., backpropagation is being used for training with default learning rate of 0.01\n",
    "             metrics=[\"accuracy\"])\n",
    "# we can also specify any extra metrics to compute during training and evaluation\n",
    "\n",
    "\n"
   ]
  },
  {
   "cell_type": "code",
   "execution_count": 20,
   "id": "773f8bcb",
   "metadata": {
    "execution": {
     "iopub.execute_input": "2024-06-15T05:21:11.334270Z",
     "iopub.status.busy": "2024-06-15T05:21:11.333685Z",
     "iopub.status.idle": "2024-06-15T05:22:32.752482Z",
     "shell.execute_reply": "2024-06-15T05:22:32.751605Z"
    },
    "papermill": {
     "duration": 81.443765,
     "end_time": "2024-06-15T05:22:32.754605",
     "exception": false,
     "start_time": "2024-06-15T05:21:11.310840",
     "status": "completed"
    },
    "tags": []
   },
   "outputs": [
    {
     "name": "stdout",
     "output_type": "stream",
     "text": [
      "Epoch 1/30\n",
      "\u001b[1m 114/1719\u001b[0m \u001b[32m━\u001b[0m\u001b[37m━━━━━━━━━━━━━━━━━━━\u001b[0m \u001b[1m2s\u001b[0m 1ms/step - accuracy: 0.3726 - loss: 1.9238"
     ]
    },
    {
     "name": "stderr",
     "output_type": "stream",
     "text": [
      "WARNING: All log messages before absl::InitializeLog() is called are written to STDERR\n",
      "I0000 00:00:1718428873.444783      68 device_compiler.h:186] Compiled cluster using XLA!  This line is logged at most once for the lifetime of the process.\n"
     ]
    },
    {
     "name": "stdout",
     "output_type": "stream",
     "text": [
      "\u001b[1m1719/1719\u001b[0m \u001b[32m━━━━━━━━━━━━━━━━━━━━\u001b[0m\u001b[37m\u001b[0m \u001b[1m5s\u001b[0m 2ms/step - accuracy: 0.6841 - loss: 0.9925 - val_accuracy: 0.8286 - val_loss: 0.5045\n",
      "Epoch 2/30\n",
      "\u001b[1m1719/1719\u001b[0m \u001b[32m━━━━━━━━━━━━━━━━━━━━\u001b[0m\u001b[37m\u001b[0m \u001b[1m3s\u001b[0m 1ms/step - accuracy: 0.8274 - loss: 0.5039 - val_accuracy: 0.8394 - val_loss: 0.4526\n",
      "Epoch 3/30\n",
      "\u001b[1m1719/1719\u001b[0m \u001b[32m━━━━━━━━━━━━━━━━━━━━\u001b[0m\u001b[37m\u001b[0m \u001b[1m3s\u001b[0m 1ms/step - accuracy: 0.8440 - loss: 0.4501 - val_accuracy: 0.8488 - val_loss: 0.4302\n",
      "Epoch 4/30\n",
      "\u001b[1m1719/1719\u001b[0m \u001b[32m━━━━━━━━━━━━━━━━━━━━\u001b[0m\u001b[37m\u001b[0m \u001b[1m2s\u001b[0m 1ms/step - accuracy: 0.8545 - loss: 0.4197 - val_accuracy: 0.8514 - val_loss: 0.4155\n",
      "Epoch 5/30\n",
      "\u001b[1m1719/1719\u001b[0m \u001b[32m━━━━━━━━━━━━━━━━━━━━\u001b[0m\u001b[37m\u001b[0m \u001b[1m2s\u001b[0m 1ms/step - accuracy: 0.8607 - loss: 0.3979 - val_accuracy: 0.8554 - val_loss: 0.4040\n",
      "Epoch 6/30\n",
      "\u001b[1m1719/1719\u001b[0m \u001b[32m━━━━━━━━━━━━━━━━━━━━\u001b[0m\u001b[37m\u001b[0m \u001b[1m2s\u001b[0m 1ms/step - accuracy: 0.8664 - loss: 0.3812 - val_accuracy: 0.8586 - val_loss: 0.3933\n",
      "Epoch 7/30\n",
      "\u001b[1m1719/1719\u001b[0m \u001b[32m━━━━━━━━━━━━━━━━━━━━\u001b[0m\u001b[37m\u001b[0m \u001b[1m3s\u001b[0m 1ms/step - accuracy: 0.8712 - loss: 0.3669 - val_accuracy: 0.8604 - val_loss: 0.3863\n",
      "Epoch 8/30\n",
      "\u001b[1m1719/1719\u001b[0m \u001b[32m━━━━━━━━━━━━━━━━━━━━\u001b[0m\u001b[37m\u001b[0m \u001b[1m3s\u001b[0m 1ms/step - accuracy: 0.8747 - loss: 0.3543 - val_accuracy: 0.8630 - val_loss: 0.3802\n",
      "Epoch 9/30\n",
      "\u001b[1m1719/1719\u001b[0m \u001b[32m━━━━━━━━━━━━━━━━━━━━\u001b[0m\u001b[37m\u001b[0m \u001b[1m3s\u001b[0m 1ms/step - accuracy: 0.8786 - loss: 0.3434 - val_accuracy: 0.8636 - val_loss: 0.3754\n",
      "Epoch 10/30\n",
      "\u001b[1m1719/1719\u001b[0m \u001b[32m━━━━━━━━━━━━━━━━━━━━\u001b[0m\u001b[37m\u001b[0m \u001b[1m3s\u001b[0m 1ms/step - accuracy: 0.8826 - loss: 0.3334 - val_accuracy: 0.8656 - val_loss: 0.3719\n",
      "Epoch 11/30\n",
      "\u001b[1m1719/1719\u001b[0m \u001b[32m━━━━━━━━━━━━━━━━━━━━\u001b[0m\u001b[37m\u001b[0m \u001b[1m3s\u001b[0m 1ms/step - accuracy: 0.8853 - loss: 0.3243 - val_accuracy: 0.8668 - val_loss: 0.3679\n",
      "Epoch 12/30\n",
      "\u001b[1m1719/1719\u001b[0m \u001b[32m━━━━━━━━━━━━━━━━━━━━\u001b[0m\u001b[37m\u001b[0m \u001b[1m3s\u001b[0m 1ms/step - accuracy: 0.8879 - loss: 0.3160 - val_accuracy: 0.8664 - val_loss: 0.3658\n",
      "Epoch 13/30\n",
      "\u001b[1m1719/1719\u001b[0m \u001b[32m━━━━━━━━━━━━━━━━━━━━\u001b[0m\u001b[37m\u001b[0m \u001b[1m2s\u001b[0m 1ms/step - accuracy: 0.8901 - loss: 0.3083 - val_accuracy: 0.8680 - val_loss: 0.3627\n",
      "Epoch 14/30\n",
      "\u001b[1m1719/1719\u001b[0m \u001b[32m━━━━━━━━━━━━━━━━━━━━\u001b[0m\u001b[37m\u001b[0m \u001b[1m3s\u001b[0m 1ms/step - accuracy: 0.8922 - loss: 0.3013 - val_accuracy: 0.8698 - val_loss: 0.3600\n",
      "Epoch 15/30\n",
      "\u001b[1m1719/1719\u001b[0m \u001b[32m━━━━━━━━━━━━━━━━━━━━\u001b[0m\u001b[37m\u001b[0m \u001b[1m2s\u001b[0m 1ms/step - accuracy: 0.8948 - loss: 0.2945 - val_accuracy: 0.8702 - val_loss: 0.3587\n",
      "Epoch 16/30\n",
      "\u001b[1m1719/1719\u001b[0m \u001b[32m━━━━━━━━━━━━━━━━━━━━\u001b[0m\u001b[37m\u001b[0m \u001b[1m2s\u001b[0m 1ms/step - accuracy: 0.8976 - loss: 0.2883 - val_accuracy: 0.8702 - val_loss: 0.3576\n",
      "Epoch 17/30\n",
      "\u001b[1m1719/1719\u001b[0m \u001b[32m━━━━━━━━━━━━━━━━━━━━\u001b[0m\u001b[37m\u001b[0m \u001b[1m2s\u001b[0m 1ms/step - accuracy: 0.8997 - loss: 0.2822 - val_accuracy: 0.8700 - val_loss: 0.3555\n",
      "Epoch 18/30\n",
      "\u001b[1m1719/1719\u001b[0m \u001b[32m━━━━━━━━━━━━━━━━━━━━\u001b[0m\u001b[37m\u001b[0m \u001b[1m2s\u001b[0m 1ms/step - accuracy: 0.9016 - loss: 0.2764 - val_accuracy: 0.8712 - val_loss: 0.3535\n",
      "Epoch 19/30\n",
      "\u001b[1m1719/1719\u001b[0m \u001b[32m━━━━━━━━━━━━━━━━━━━━\u001b[0m\u001b[37m\u001b[0m \u001b[1m3s\u001b[0m 1ms/step - accuracy: 0.9030 - loss: 0.2708 - val_accuracy: 0.8708 - val_loss: 0.3548\n",
      "Epoch 20/30\n",
      "\u001b[1m1719/1719\u001b[0m \u001b[32m━━━━━━━━━━━━━━━━━━━━\u001b[0m\u001b[37m\u001b[0m \u001b[1m5s\u001b[0m 1ms/step - accuracy: 0.9046 - loss: 0.2656 - val_accuracy: 0.8708 - val_loss: 0.3547\n",
      "Epoch 21/30\n",
      "\u001b[1m1719/1719\u001b[0m \u001b[32m━━━━━━━━━━━━━━━━━━━━\u001b[0m\u001b[37m\u001b[0m \u001b[1m3s\u001b[0m 2ms/step - accuracy: 0.9069 - loss: 0.2605 - val_accuracy: 0.8718 - val_loss: 0.3514\n",
      "Epoch 22/30\n",
      "\u001b[1m1719/1719\u001b[0m \u001b[32m━━━━━━━━━━━━━━━━━━━━\u001b[0m\u001b[37m\u001b[0m \u001b[1m3s\u001b[0m 2ms/step - accuracy: 0.9089 - loss: 0.2554 - val_accuracy: 0.8720 - val_loss: 0.3525\n",
      "Epoch 23/30\n",
      "\u001b[1m1719/1719\u001b[0m \u001b[32m━━━━━━━━━━━━━━━━━━━━\u001b[0m\u001b[37m\u001b[0m \u001b[1m3s\u001b[0m 1ms/step - accuracy: 0.9112 - loss: 0.2507 - val_accuracy: 0.8712 - val_loss: 0.3515\n",
      "Epoch 24/30\n",
      "\u001b[1m1719/1719\u001b[0m \u001b[32m━━━━━━━━━━━━━━━━━━━━\u001b[0m\u001b[37m\u001b[0m \u001b[1m3s\u001b[0m 1ms/step - accuracy: 0.9132 - loss: 0.2460 - val_accuracy: 0.8722 - val_loss: 0.3530\n",
      "Epoch 25/30\n",
      "\u001b[1m1719/1719\u001b[0m \u001b[32m━━━━━━━━━━━━━━━━━━━━\u001b[0m\u001b[37m\u001b[0m \u001b[1m3s\u001b[0m 1ms/step - accuracy: 0.9150 - loss: 0.2416 - val_accuracy: 0.8726 - val_loss: 0.3537\n",
      "Epoch 26/30\n",
      "\u001b[1m1719/1719\u001b[0m \u001b[32m━━━━━━━━━━━━━━━━━━━━\u001b[0m\u001b[37m\u001b[0m \u001b[1m2s\u001b[0m 1ms/step - accuracy: 0.9167 - loss: 0.2372 - val_accuracy: 0.8728 - val_loss: 0.3517\n",
      "Epoch 27/30\n",
      "\u001b[1m1719/1719\u001b[0m \u001b[32m━━━━━━━━━━━━━━━━━━━━\u001b[0m\u001b[37m\u001b[0m \u001b[1m2s\u001b[0m 1ms/step - accuracy: 0.9183 - loss: 0.2331 - val_accuracy: 0.8726 - val_loss: 0.3540\n",
      "Epoch 28/30\n",
      "\u001b[1m1719/1719\u001b[0m \u001b[32m━━━━━━━━━━━━━━━━━━━━\u001b[0m\u001b[37m\u001b[0m \u001b[1m2s\u001b[0m 1ms/step - accuracy: 0.9196 - loss: 0.2291 - val_accuracy: 0.8746 - val_loss: 0.3495\n",
      "Epoch 29/30\n",
      "\u001b[1m1719/1719\u001b[0m \u001b[32m━━━━━━━━━━━━━━━━━━━━\u001b[0m\u001b[37m\u001b[0m \u001b[1m2s\u001b[0m 1ms/step - accuracy: 0.9207 - loss: 0.2250 - val_accuracy: 0.8762 - val_loss: 0.3490\n",
      "Epoch 30/30\n",
      "\u001b[1m1719/1719\u001b[0m \u001b[32m━━━━━━━━━━━━━━━━━━━━\u001b[0m\u001b[37m\u001b[0m \u001b[1m2s\u001b[0m 1ms/step - accuracy: 0.9224 - loss: 0.2212 - val_accuracy: 0.8756 - val_loss: 0.3503\n"
     ]
    }
   ],
   "source": [
    "# training and evaluating the model\n",
    "\n",
    "history = model.fit(X_train, y_train, epochs=30,\n",
    "                   validation_data=(X_valid, y_valid))"
   ]
  },
  {
   "cell_type": "code",
   "execution_count": 21,
   "id": "9a1ebd21",
   "metadata": {
    "execution": {
     "iopub.execute_input": "2024-06-15T05:22:33.018482Z",
     "iopub.status.busy": "2024-06-15T05:22:33.017764Z",
     "iopub.status.idle": "2024-06-15T05:22:33.357474Z",
     "shell.execute_reply": "2024-06-15T05:22:33.356581Z"
    },
    "papermill": {
     "duration": 0.473678,
     "end_time": "2024-06-15T05:22:33.359641",
     "exception": false,
     "start_time": "2024-06-15T05:22:32.885963",
     "status": "completed"
    },
    "tags": []
   },
   "outputs": [
    {
     "data": {
      "image/png": "[encoded data removed]",
      "text/plain": [
       "<Figure size 800x500 with 1 Axes>"
      ]
     },
     "metadata": {},
     "output_type": "display_data"
    }
   ],
   "source": [
    "import matplotlib.pyplot as plt\n",
    "import pandas as pd\n",
    "pd.DataFrame(history.history).plot(\n",
    "    figsize=(8, 5), xlim=[0, 29], ylim=[0, 1], grid=True, xlabel=\"Epoch\",\n",
    "    style=[\"r--\", \"r--.\", \"b-\", \"b-*\"])\n",
    "plt.show()"
   ]
  },
  {
   "cell_type": "code",
   "execution_count": 22,
   "id": "22dda8cc",
   "metadata": {
    "execution": {
     "iopub.execute_input": "2024-06-15T05:22:33.642713Z",
     "iopub.status.busy": "2024-06-15T05:22:33.642328Z",
     "iopub.status.idle": "2024-06-15T05:22:34.575995Z",
     "shell.execute_reply": "2024-06-15T05:22:34.575106Z"
    },
    "papermill": {
     "duration": 1.07782,
     "end_time": "2024-06-15T05:22:34.578027",
     "exception": false,
     "start_time": "2024-06-15T05:22:33.500207",
     "status": "completed"
    },
    "tags": []
   },
   "outputs": [
    {
     "name": "stdout",
     "output_type": "stream",
     "text": [
      "\u001b[1m313/313\u001b[0m \u001b[32m━━━━━━━━━━━━━━━━━━━━\u001b[0m\u001b[37m\u001b[0m \u001b[1m1s\u001b[0m 2ms/step - accuracy: 0.8726 - loss: 0.3702\n"
     ]
    },
    {
     "data": {
      "text/plain": [
       "[0.36862877011299133, 0.8725000023841858]"
      ]
     },
     "execution_count": 22,
     "metadata": {},
     "output_type": "execute_result"
    }
   ],
   "source": [
    "model.evaluate(X_test, y_test)"
   ]
  },
  {
   "cell_type": "code",
   "execution_count": 23,
   "id": "cd41e0cf",
   "metadata": {
    "execution": {
     "iopub.execute_input": "2024-06-15T05:22:34.849989Z",
     "iopub.status.busy": "2024-06-15T05:22:34.849632Z",
     "iopub.status.idle": "2024-06-15T05:22:35.143051Z",
     "shell.execute_reply": "2024-06-15T05:22:35.142095Z"
    },
    "papermill": {
     "duration": 0.432588,
     "end_time": "2024-06-15T05:22:35.145143",
     "exception": false,
     "start_time": "2024-06-15T05:22:34.712555",
     "status": "completed"
    },
    "tags": []
   },
   "outputs": [
    {
     "name": "stdout",
     "output_type": "stream",
     "text": [
      "\u001b[1m1/1\u001b[0m \u001b[32m━━━━━━━━━━━━━━━━━━━━\u001b[0m\u001b[37m\u001b[0m \u001b[1m0s\u001b[0m 242ms/step\n"
     ]
    },
    {
     "data": {
      "text/plain": [
       "array([[0.  , 0.  , 0.  , 0.  , 0.  , 0.19, 0.  , 0.02, 0.  , 0.79],\n",
       "       [0.  , 0.  , 1.  , 0.  , 0.  , 0.  , 0.  , 0.  , 0.  , 0.  ],\n",
       "       [0.  , 1.  , 0.  , 0.  , 0.  , 0.  , 0.  , 0.  , 0.  , 0.  ]],\n",
       "      dtype=float32)"
      ]
     },
     "execution_count": 23,
     "metadata": {},
     "output_type": "execute_result"
    }
   ],
   "source": [
    "# Using the model to make predictions\n",
    "\n",
    "X_new = X_test[:3] # first 3 instances of test set\n",
    "y_proba = model.predict(X_new) # for each instance, it gives one probability per class\n",
    "y_proba.round(2) "
   ]
  },
  {
   "cell_type": "code",
   "execution_count": 24,
   "id": "15801f91",
   "metadata": {
    "execution": {
     "iopub.execute_input": "2024-06-15T05:22:35.415618Z",
     "iopub.status.busy": "2024-06-15T05:22:35.415237Z",
     "iopub.status.idle": "2024-06-15T05:22:35.421319Z",
     "shell.execute_reply": "2024-06-15T05:22:35.420492Z"
    },
    "papermill": {
     "duration": 0.141273,
     "end_time": "2024-06-15T05:22:35.423309",
     "exception": false,
     "start_time": "2024-06-15T05:22:35.282036",
     "status": "completed"
    },
    "tags": []
   },
   "outputs": [
    {
     "data": {
      "text/plain": [
       "array([9, 2, 1])"
      ]
     },
     "execution_count": 24,
     "metadata": {},
     "output_type": "execute_result"
    }
   ],
   "source": [
    "y_pred = y_proba.argmax(axis=-1) # argmax will give the class with highest probability for each instance\n",
    "y_pred"
   ]
  },
  {
   "cell_type": "code",
   "execution_count": 25,
   "id": "37efc0e1",
   "metadata": {
    "execution": {
     "iopub.execute_input": "2024-06-15T05:22:35.694389Z",
     "iopub.status.busy": "2024-06-15T05:22:35.694036Z",
     "iopub.status.idle": "2024-06-15T05:22:35.700080Z",
     "shell.execute_reply": "2024-06-15T05:22:35.699254Z"
    },
    "papermill": {
     "duration": 0.143829,
     "end_time": "2024-06-15T05:22:35.702043",
     "exception": false,
     "start_time": "2024-06-15T05:22:35.558214",
     "status": "completed"
    },
    "tags": []
   },
   "outputs": [
    {
     "data": {
      "text/plain": [
       "array(['Ankle boot', 'Pullover', 'Trouser'], dtype='<U11')"
      ]
     },
     "execution_count": 25,
     "metadata": {},
     "output_type": "execute_result"
    }
   ],
   "source": [
    "np.array(class_names)[y_pred] # corresponding class names"
   ]
  },
  {
   "cell_type": "code",
   "execution_count": 26,
   "id": "ba082f1b",
   "metadata": {
    "execution": {
     "iopub.execute_input": "2024-06-15T05:22:35.972638Z",
     "iopub.status.busy": "2024-06-15T05:22:35.972257Z",
     "iopub.status.idle": "2024-06-15T05:22:35.978400Z",
     "shell.execute_reply": "2024-06-15T05:22:35.977592Z"
    },
    "papermill": {
     "duration": 0.141934,
     "end_time": "2024-06-15T05:22:35.980569",
     "exception": false,
     "start_time": "2024-06-15T05:22:35.838635",
     "status": "completed"
    },
    "tags": []
   },
   "outputs": [
    {
     "data": {
      "text/plain": [
       "array([9, 2, 1], dtype=uint8)"
      ]
     },
     "execution_count": 26,
     "metadata": {},
     "output_type": "execute_result"
    }
   ],
   "source": [
    "y_new = y_test[:3]\n",
    "y_new # actual classes"
   ]
  },
  {
   "cell_type": "code",
   "execution_count": 27,
   "id": "6d7b28e3",
   "metadata": {
    "execution": {
     "iopub.execute_input": "2024-06-15T05:22:36.247560Z",
     "iopub.status.busy": "2024-06-15T05:22:36.247186Z",
     "iopub.status.idle": "2024-06-15T05:22:36.251253Z",
     "shell.execute_reply": "2024-06-15T05:22:36.250427Z"
    },
    "papermill": {
     "duration": 0.139969,
     "end_time": "2024-06-15T05:22:36.253050",
     "exception": false,
     "start_time": "2024-06-15T05:22:36.113081",
     "status": "completed"
    },
    "tags": []
   },
   "outputs": [],
   "source": [
    "# it is making correct prediction for all the 3 instances selected"
   ]
  },
  {
   "cell_type": "code",
   "execution_count": 28,
   "id": "fdd3ceb9",
   "metadata": {
    "execution": {
     "iopub.execute_input": "2024-06-15T05:22:36.519344Z",
     "iopub.status.busy": "2024-06-15T05:22:36.518988Z",
     "iopub.status.idle": "2024-06-15T05:22:36.614878Z",
     "shell.execute_reply": "2024-06-15T05:22:36.614096Z"
    },
    "papermill": {
     "duration": 0.231176,
     "end_time": "2024-06-15T05:22:36.617071",
     "exception": false,
     "start_time": "2024-06-15T05:22:36.385895",
     "status": "completed"
    },
    "tags": []
   },
   "outputs": [],
   "source": [
    "# Saving and Restoring a Model\n",
    "import shutil\n",
    "\n",
    "shutil.rmtree(\"my_keras_model.keras\", ignore_errors=True) # delete the directory, in case it already exists\n",
    "model.save(\"my_keras_model.keras\")\n",
    "model = tf.keras.models.load_model(\"my_keras_model.keras\")"
   ]
  },
  {
   "cell_type": "code",
   "execution_count": 29,
   "id": "910bfd2d",
   "metadata": {
    "execution": {
     "iopub.execute_input": "2024-06-15T05:22:36.888074Z",
     "iopub.status.busy": "2024-06-15T05:22:36.887717Z",
     "iopub.status.idle": "2024-06-15T05:22:36.916097Z",
     "shell.execute_reply": "2024-06-15T05:22:36.915349Z"
    },
    "papermill": {
     "duration": 0.167229,
     "end_time": "2024-06-15T05:22:36.918030",
     "exception": false,
     "start_time": "2024-06-15T05:22:36.750801",
     "status": "completed"
    },
    "tags": []
   },
   "outputs": [],
   "source": [
    "model.save_weights(\"my_weights.weights.h5\")\n",
    "model.load_weights(\"my_weights.weights.h5\")"
   ]
  },
  {
   "cell_type": "code",
   "execution_count": 30,
   "id": "22fc01bf",
   "metadata": {
    "execution": {
     "iopub.execute_input": "2024-06-15T05:22:37.185685Z",
     "iopub.status.busy": "2024-06-15T05:22:37.185287Z",
     "iopub.status.idle": "2024-06-15T05:22:37.191037Z",
     "shell.execute_reply": "2024-06-15T05:22:37.190154Z"
    },
    "papermill": {
     "duration": 0.141785,
     "end_time": "2024-06-15T05:22:37.193052",
     "exception": false,
     "start_time": "2024-06-15T05:22:37.051267",
     "status": "completed"
    },
    "tags": []
   },
   "outputs": [
    {
     "name": "stdout",
     "output_type": "stream",
     "text": [
      "my_weights.weights.h5\n"
     ]
    }
   ],
   "source": [
    "# show the list of my_weights.* files\n",
    "from pathlib import Path\n",
    "for path in sorted(Path().glob(\"my_weights.*\")):\n",
    "    print(path)"
   ]
  },
  {
   "cell_type": "code",
   "execution_count": 31,
   "id": "fff51fd6",
   "metadata": {
    "execution": {
     "iopub.execute_input": "2024-06-15T05:22:37.460312Z",
     "iopub.status.busy": "2024-06-15T05:22:37.459958Z",
     "iopub.status.idle": "2024-06-15T05:23:53.745597Z",
     "shell.execute_reply": "2024-06-15T05:23:53.744809Z"
    },
    "papermill": {
     "duration": 76.421714,
     "end_time": "2024-06-15T05:23:53.747572",
     "exception": false,
     "start_time": "2024-06-15T05:22:37.325858",
     "status": "completed"
    },
    "tags": []
   },
   "outputs": [
    {
     "name": "stdout",
     "output_type": "stream",
     "text": [
      "Epoch 1/30\n",
      "\u001b[1m1719/1719\u001b[0m \u001b[32m━━━━━━━━━━━━━━━━━━━━\u001b[0m\u001b[37m\u001b[0m \u001b[1m4s\u001b[0m 2ms/step - accuracy: 0.9238 - loss: 0.2174 - val_accuracy: 0.8746 - val_loss: 0.3499\n",
      "Epoch 2/30\n",
      "\u001b[1m1719/1719\u001b[0m \u001b[32m━━━━━━━━━━━━━━━━━━━━\u001b[0m\u001b[37m\u001b[0m \u001b[1m2s\u001b[0m 1ms/step - accuracy: 0.9253 - loss: 0.2136 - val_accuracy: 0.8750 - val_loss: 0.3527\n",
      "Epoch 3/30\n",
      "\u001b[1m1719/1719\u001b[0m \u001b[32m━━━━━━━━━━━━━━━━━━━━\u001b[0m\u001b[37m\u001b[0m \u001b[1m2s\u001b[0m 1ms/step - accuracy: 0.9266 - loss: 0.2100 - val_accuracy: 0.8748 - val_loss: 0.3531\n",
      "Epoch 4/30\n",
      "\u001b[1m1719/1719\u001b[0m \u001b[32m━━━━━━━━━━━━━━━━━━━━\u001b[0m\u001b[37m\u001b[0m \u001b[1m2s\u001b[0m 1ms/step - accuracy: 0.9274 - loss: 0.2065 - val_accuracy: 0.8746 - val_loss: 0.3517\n",
      "Epoch 5/30\n",
      "\u001b[1m1719/1719\u001b[0m \u001b[32m━━━━━━━━━━━━━━━━━━━━\u001b[0m\u001b[37m\u001b[0m \u001b[1m3s\u001b[0m 1ms/step - accuracy: 0.9292 - loss: 0.2031 - val_accuracy: 0.8752 - val_loss: 0.3515\n",
      "Epoch 6/30\n",
      "\u001b[1m1719/1719\u001b[0m \u001b[32m━━━━━━━━━━━━━━━━━━━━\u001b[0m\u001b[37m\u001b[0m \u001b[1m2s\u001b[0m 1ms/step - accuracy: 0.9308 - loss: 0.1998 - val_accuracy: 0.8748 - val_loss: 0.3541\n",
      "Epoch 7/30\n",
      "\u001b[1m1719/1719\u001b[0m \u001b[32m━━━━━━━━━━━━━━━━━━━━\u001b[0m\u001b[37m\u001b[0m \u001b[1m2s\u001b[0m 1ms/step - accuracy: 0.9316 - loss: 0.1963 - val_accuracy: 0.8738 - val_loss: 0.3609\n",
      "Epoch 8/30\n",
      "\u001b[1m1719/1719\u001b[0m \u001b[32m━━━━━━━━━━━━━━━━━━━━\u001b[0m\u001b[37m\u001b[0m \u001b[1m2s\u001b[0m 1ms/step - accuracy: 0.9325 - loss: 0.1934 - val_accuracy: 0.8736 - val_loss: 0.3604\n",
      "Epoch 9/30\n",
      "\u001b[1m1719/1719\u001b[0m \u001b[32m━━━━━━━━━━━━━━━━━━━━\u001b[0m\u001b[37m\u001b[0m \u001b[1m3s\u001b[0m 1ms/step - accuracy: 0.9334 - loss: 0.1903 - val_accuracy: 0.8746 - val_loss: 0.3616\n",
      "Epoch 10/30\n",
      "\u001b[1m1719/1719\u001b[0m \u001b[32m━━━━━━━━━━━━━━━━━━━━\u001b[0m\u001b[37m\u001b[0m \u001b[1m2s\u001b[0m 1ms/step - accuracy: 0.9347 - loss: 0.1871 - val_accuracy: 0.8740 - val_loss: 0.3637\n",
      "Epoch 11/30\n",
      "\u001b[1m1719/1719\u001b[0m \u001b[32m━━━━━━━━━━━━━━━━━━━━\u001b[0m\u001b[37m\u001b[0m \u001b[1m3s\u001b[0m 2ms/step - accuracy: 0.9359 - loss: 0.1840 - val_accuracy: 0.8754 - val_loss: 0.3615\n",
      "Epoch 12/30\n",
      "\u001b[1m1719/1719\u001b[0m \u001b[32m━━━━━━━━━━━━━━━━━━━━\u001b[0m\u001b[37m\u001b[0m \u001b[1m2s\u001b[0m 1ms/step - accuracy: 0.9375 - loss: 0.1811 - val_accuracy: 0.8756 - val_loss: 0.3608\n",
      "Epoch 13/30\n",
      "\u001b[1m1719/1719\u001b[0m \u001b[32m━━━━━━━━━━━━━━━━━━━━\u001b[0m\u001b[37m\u001b[0m \u001b[1m3s\u001b[0m 1ms/step - accuracy: 0.9384 - loss: 0.1780 - val_accuracy: 0.8750 - val_loss: 0.3643\n",
      "Epoch 14/30\n",
      "\u001b[1m1719/1719\u001b[0m \u001b[32m━━━━━━━━━━━━━━━━━━━━\u001b[0m\u001b[37m\u001b[0m \u001b[1m2s\u001b[0m 1ms/step - accuracy: 0.9396 - loss: 0.1750 - val_accuracy: 0.8760 - val_loss: 0.3682\n",
      "Epoch 15/30\n",
      "\u001b[1m1719/1719\u001b[0m \u001b[32m━━━━━━━━━━━━━━━━━━━━\u001b[0m\u001b[37m\u001b[0m \u001b[1m2s\u001b[0m 1ms/step - accuracy: 0.9404 - loss: 0.1723 - val_accuracy: 0.8766 - val_loss: 0.3669\n",
      "Epoch 16/30\n",
      "\u001b[1m1719/1719\u001b[0m \u001b[32m━━━━━━━━━━━━━━━━━━━━\u001b[0m\u001b[37m\u001b[0m \u001b[1m2s\u001b[0m 1ms/step - accuracy: 0.9416 - loss: 0.1695 - val_accuracy: 0.8772 - val_loss: 0.3669\n",
      "Epoch 17/30\n",
      "\u001b[1m1719/1719\u001b[0m \u001b[32m━━━━━━━━━━━━━━━━━━━━\u001b[0m\u001b[37m\u001b[0m \u001b[1m2s\u001b[0m 1ms/step - accuracy: 0.9425 - loss: 0.1666 - val_accuracy: 0.8766 - val_loss: 0.3718\n",
      "Epoch 18/30\n",
      "\u001b[1m1719/1719\u001b[0m \u001b[32m━━━━━━━━━━━━━━━━━━━━\u001b[0m\u001b[37m\u001b[0m \u001b[1m2s\u001b[0m 1ms/step - accuracy: 0.9438 - loss: 0.1637 - val_accuracy: 0.8774 - val_loss: 0.3721\n",
      "Epoch 19/30\n",
      "\u001b[1m1719/1719\u001b[0m \u001b[32m━━━━━━━━━━━━━━━━━━━━\u001b[0m\u001b[37m\u001b[0m \u001b[1m2s\u001b[0m 1ms/step - accuracy: 0.9451 - loss: 0.1608 - val_accuracy: 0.8778 - val_loss: 0.3767\n",
      "Epoch 20/30\n",
      "\u001b[1m1719/1719\u001b[0m \u001b[32m━━━━━━━━━━━━━━━━━━━━\u001b[0m\u001b[37m\u001b[0m \u001b[1m2s\u001b[0m 1ms/step - accuracy: 0.9462 - loss: 0.1582 - val_accuracy: 0.8792 - val_loss: 0.3756\n",
      "Epoch 21/30\n",
      "\u001b[1m1719/1719\u001b[0m \u001b[32m━━━━━━━━━━━━━━━━━━━━\u001b[0m\u001b[37m\u001b[0m \u001b[1m2s\u001b[0m 1ms/step - accuracy: 0.9471 - loss: 0.1551 - val_accuracy: 0.8802 - val_loss: 0.3777\n",
      "Epoch 22/30\n",
      "\u001b[1m1719/1719\u001b[0m \u001b[32m━━━━━━━━━━━━━━━━━━━━\u001b[0m\u001b[37m\u001b[0m \u001b[1m2s\u001b[0m 1ms/step - accuracy: 0.9479 - loss: 0.1526 - val_accuracy: 0.8784 - val_loss: 0.3817\n",
      "Epoch 23/30\n",
      "\u001b[1m1719/1719\u001b[0m \u001b[32m━━━━━━━━━━━━━━━━━━━━\u001b[0m\u001b[37m\u001b[0m \u001b[1m2s\u001b[0m 1ms/step - accuracy: 0.9490 - loss: 0.1499 - val_accuracy: 0.8792 - val_loss: 0.3820\n",
      "Epoch 24/30\n",
      "\u001b[1m1719/1719\u001b[0m \u001b[32m━━━━━━━━━━━━━━━━━━━━\u001b[0m\u001b[37m\u001b[0m \u001b[1m3s\u001b[0m 2ms/step - accuracy: 0.9504 - loss: 0.1472 - val_accuracy: 0.8788 - val_loss: 0.3797\n",
      "Epoch 25/30\n",
      "\u001b[1m1719/1719\u001b[0m \u001b[32m━━━━━━━━━━━━━━━━━━━━\u001b[0m\u001b[37m\u001b[0m \u001b[1m2s\u001b[0m 1ms/step - accuracy: 0.9515 - loss: 0.1448 - val_accuracy: 0.8788 - val_loss: 0.3820\n",
      "Epoch 26/30\n",
      "\u001b[1m1719/1719\u001b[0m \u001b[32m━━━━━━━━━━━━━━━━━━━━\u001b[0m\u001b[37m\u001b[0m \u001b[1m2s\u001b[0m 1ms/step - accuracy: 0.9526 - loss: 0.1423 - val_accuracy: 0.8778 - val_loss: 0.3839\n",
      "Epoch 27/30\n",
      "\u001b[1m1719/1719\u001b[0m \u001b[32m━━━━━━━━━━━━━━━━━━━━\u001b[0m\u001b[37m\u001b[0m \u001b[1m2s\u001b[0m 1ms/step - accuracy: 0.9535 - loss: 0.1396 - val_accuracy: 0.8790 - val_loss: 0.3854\n",
      "Epoch 28/30\n",
      "\u001b[1m1719/1719\u001b[0m \u001b[32m━━━━━━━━━━━━━━━━━━━━\u001b[0m\u001b[37m\u001b[0m \u001b[1m2s\u001b[0m 1ms/step - accuracy: 0.9544 - loss: 0.1369 - val_accuracy: 0.8780 - val_loss: 0.3873\n",
      "Epoch 29/30\n",
      "\u001b[1m1719/1719\u001b[0m \u001b[32m━━━━━━━━━━━━━━━━━━━━\u001b[0m\u001b[37m\u001b[0m \u001b[1m3s\u001b[0m 1ms/step - accuracy: 0.9554 - loss: 0.1343 - val_accuracy: 0.8784 - val_loss: 0.3869\n",
      "Epoch 30/30\n",
      "\u001b[1m1719/1719\u001b[0m \u001b[32m━━━━━━━━━━━━━━━━━━━━\u001b[0m\u001b[37m\u001b[0m \u001b[1m3s\u001b[0m 1ms/step - accuracy: 0.9560 - loss: 0.1320 - val_accuracy: 0.8784 - val_loss: 0.3895\n"
     ]
    }
   ],
   "source": [
    "# Using Callbacks\n",
    "\n",
    "# The fit() method accepts a callbacks argument that lets you specify a list of objects\n",
    "# that Keras will call at the start and end of training, at the start and end of each epoch,\n",
    "# and even before and after processing each batch. \n",
    "\n",
    "shutil.rmtree(\"my_checkpoints\", ignore_errors=True)  # delete the directory, in case it already exists\n",
    "checkpoint_cb = tf.keras.callbacks.ModelCheckpoint(\"my_checkpoints.weights.h5\",\n",
    "                                                   save_weights_only=True)\n",
    "# the ModelCheckpoint callback saves checkpoints of your model at regular intervals during training, \n",
    "# by default at the end of each epoch\n",
    "history = model.fit(\n",
    "    X_train, y_train, epochs=30,\n",
    "    validation_data=(X_valid, y_valid),\n",
    "    callbacks=[checkpoint_cb])"
   ]
  },
  {
   "cell_type": "code",
   "execution_count": 32,
   "id": "4336b9c3",
   "metadata": {
    "execution": {
     "iopub.execute_input": "2024-06-15T05:23:54.290839Z",
     "iopub.status.busy": "2024-06-15T05:23:54.290443Z",
     "iopub.status.idle": "2024-06-15T05:24:27.198919Z",
     "shell.execute_reply": "2024-06-15T05:24:27.198130Z"
    },
    "papermill": {
     "duration": 33.162299,
     "end_time": "2024-06-15T05:24:27.201124",
     "exception": false,
     "start_time": "2024-06-15T05:23:54.038825",
     "status": "completed"
    },
    "tags": []
   },
   "outputs": [
    {
     "name": "stdout",
     "output_type": "stream",
     "text": [
      "Epoch 1/100\n",
      "\u001b[1m1719/1719\u001b[0m \u001b[32m━━━━━━━━━━━━━━━━━━━━\u001b[0m\u001b[37m\u001b[0m \u001b[1m3s\u001b[0m 1ms/step - accuracy: 0.9569 - loss: 0.1290 - val_accuracy: 0.8786 - val_loss: 0.3944\n",
      "Epoch 2/100\n",
      "\u001b[1m1719/1719\u001b[0m \u001b[32m━━━━━━━━━━━━━━━━━━━━\u001b[0m\u001b[37m\u001b[0m \u001b[1m2s\u001b[0m 1ms/step - accuracy: 0.9582 - loss: 0.1268 - val_accuracy: 0.8790 - val_loss: 0.3959\n",
      "Epoch 3/100\n",
      "\u001b[1m1719/1719\u001b[0m \u001b[32m━━━━━━━━━━━━━━━━━━━━\u001b[0m\u001b[37m\u001b[0m \u001b[1m2s\u001b[0m 1ms/step - accuracy: 0.9588 - loss: 0.1241 - val_accuracy: 0.8800 - val_loss: 0.3911\n",
      "Epoch 4/100\n",
      "\u001b[1m1719/1719\u001b[0m \u001b[32m━━━━━━━━━━━━━━━━━━━━\u001b[0m\u001b[37m\u001b[0m \u001b[1m2s\u001b[0m 1ms/step - accuracy: 0.9605 - loss: 0.1220 - val_accuracy: 0.8792 - val_loss: 0.3972\n",
      "Epoch 5/100\n",
      "\u001b[1m1719/1719\u001b[0m \u001b[32m━━━━━━━━━━━━━━━━━━━━\u001b[0m\u001b[37m\u001b[0m \u001b[1m2s\u001b[0m 1ms/step - accuracy: 0.9612 - loss: 0.1195 - val_accuracy: 0.8810 - val_loss: 0.3988\n",
      "Epoch 6/100\n",
      "\u001b[1m1719/1719\u001b[0m \u001b[32m━━━━━━━━━━━━━━━━━━━━\u001b[0m\u001b[37m\u001b[0m \u001b[1m3s\u001b[0m 2ms/step - accuracy: 0.9620 - loss: 0.1171 - val_accuracy: 0.8796 - val_loss: 0.4042\n",
      "Epoch 7/100\n",
      "\u001b[1m1719/1719\u001b[0m \u001b[32m━━━━━━━━━━━━━━━━━━━━\u001b[0m\u001b[37m\u001b[0m \u001b[1m2s\u001b[0m 1ms/step - accuracy: 0.9627 - loss: 0.1149 - val_accuracy: 0.8824 - val_loss: 0.4035\n",
      "Epoch 8/100\n",
      "\u001b[1m1719/1719\u001b[0m \u001b[32m━━━━━━━━━━━━━━━━━━━━\u001b[0m\u001b[37m\u001b[0m \u001b[1m2s\u001b[0m 1ms/step - accuracy: 0.9636 - loss: 0.1126 - val_accuracy: 0.8822 - val_loss: 0.4033\n",
      "Epoch 9/100\n",
      "\u001b[1m1719/1719\u001b[0m \u001b[32m━━━━━━━━━━━━━━━━━━━━\u001b[0m\u001b[37m\u001b[0m \u001b[1m2s\u001b[0m 1ms/step - accuracy: 0.9649 - loss: 0.1104 - val_accuracy: 0.8820 - val_loss: 0.4029\n",
      "Epoch 10/100\n",
      "\u001b[1m1719/1719\u001b[0m \u001b[32m━━━━━━━━━━━━━━━━━━━━\u001b[0m\u001b[37m\u001b[0m \u001b[1m2s\u001b[0m 1ms/step - accuracy: 0.9654 - loss: 0.1080 - val_accuracy: 0.8818 - val_loss: 0.4052\n",
      "Epoch 11/100\n",
      "\u001b[1m1719/1719\u001b[0m \u001b[32m━━━━━━━━━━━━━━━━━━━━\u001b[0m\u001b[37m\u001b[0m \u001b[1m2s\u001b[0m 1ms/step - accuracy: 0.9668 - loss: 0.1059 - val_accuracy: 0.8830 - val_loss: 0.4080\n",
      "Epoch 12/100\n",
      "\u001b[1m1719/1719\u001b[0m \u001b[32m━━━━━━━━━━━━━━━━━━━━\u001b[0m\u001b[37m\u001b[0m \u001b[1m3s\u001b[0m 1ms/step - accuracy: 0.9675 - loss: 0.1036 - val_accuracy: 0.8828 - val_loss: 0.4089\n",
      "Epoch 13/100\n",
      "\u001b[1m1719/1719\u001b[0m \u001b[32m━━━━━━━━━━━━━━━━━━━━\u001b[0m\u001b[37m\u001b[0m \u001b[1m3s\u001b[0m 1ms/step - accuracy: 0.9687 - loss: 0.1016 - val_accuracy: 0.8820 - val_loss: 0.4137\n"
     ]
    }
   ],
   "source": [
    "# EarlyStopping callback \n",
    "\n",
    "# It will interrupt training when it measures no progress on the validation set for\n",
    "# a number of epochs (defined by the patience argument), and it will optionally roll\n",
    "# back to the best model.\n",
    "\n",
    "early_stopping_cb = tf.keras.callbacks.EarlyStopping(patience=10,\n",
    "     restore_best_weights=True)\n",
    "history = model.fit(X_train, y_train, epochs=100,\n",
    "     validation_data=(X_valid, y_valid),\n",
    "     callbacks=[checkpoint_cb, early_stopping_cb])\n"
   ]
  },
  {
   "cell_type": "code",
   "execution_count": 33,
   "id": "847a41ac",
   "metadata": {
    "execution": {
     "iopub.execute_input": "2024-06-15T05:24:27.797225Z",
     "iopub.status.busy": "2024-06-15T05:24:27.796839Z",
     "iopub.status.idle": "2024-06-15T05:24:27.801234Z",
     "shell.execute_reply": "2024-06-15T05:24:27.800307Z"
    },
    "papermill": {
     "duration": 0.30489,
     "end_time": "2024-06-15T05:24:27.803202",
     "exception": false,
     "start_time": "2024-06-15T05:24:27.498312",
     "status": "completed"
    },
    "tags": []
   },
   "outputs": [],
   "source": [
    "# Fine-Tuning Neural Network Hyperparameters"
   ]
  },
  {
   "cell_type": "code",
   "execution_count": 34,
   "id": "dd43bcd7",
   "metadata": {
    "execution": {
     "iopub.execute_input": "2024-06-15T05:24:28.391484Z",
     "iopub.status.busy": "2024-06-15T05:24:28.391123Z",
     "iopub.status.idle": "2024-06-15T05:27:27.075916Z",
     "shell.execute_reply": "2024-06-15T05:27:27.074881Z"
    },
    "papermill": {
     "duration": 178.981345,
     "end_time": "2024-06-15T05:27:27.078010",
     "exception": false,
     "start_time": "2024-06-15T05:24:28.096665",
     "status": "completed"
    },
    "tags": []
   },
   "outputs": [
    {
     "name": "stdout",
     "output_type": "stream",
     "text": [
      "Trial 5 Complete [00h 00m 33s]\n",
      "val_accuracy: 0.7480000257492065\n",
      "\n",
      "Best val_accuracy So Far: 0.8578000068664551\n",
      "Total elapsed time: 00h 02m 43s\n"
     ]
    }
   ],
   "source": [
    "# RandomizedSearchCV\n",
    "\n",
    "tf.keras.backend.clear_session()\n",
    "tf.random.set_seed(42)\n",
    "\n",
    "%pip install -q -U keras_tuner\n",
    "    \n",
    "\n",
    "import keras_tuner as kt\n",
    "\n",
    "def build_model(hp):\n",
    "    n_hidden = hp.Int(\"n_hidden\", min_value=0, max_value=8, default=2) # no of hidden layers\n",
    "    n_neurons = hp.Int(\"n_neurons\", min_value=16, max_value=256) # no of neurons in each layer\n",
    "    learning_rate = hp.Float(\"learning_rate\", min_value=1e-4, max_value=1e-2,\n",
    "                             sampling=\"log\")\n",
    "    optimizer = hp.Choice(\"optimizer\", values=[\"sgd\", \"adam\"])\n",
    "    if optimizer == \"sgd\":\n",
    "        optimizer = tf.keras.optimizers.SGD(learning_rate=learning_rate)\n",
    "    else:\n",
    "        optimizer = tf.keras.optimizers.Adam(learning_rate=learning_rate)\n",
    "\n",
    "    model = tf.keras.Sequential()\n",
    "    model.add(tf.keras.layers.Flatten())\n",
    "    for _ in range(n_hidden):\n",
    "        model.add(tf.keras.layers.Dense(n_neurons, activation=\"relu\"))\n",
    "    model.add(tf.keras.layers.Dense(10, activation=\"softmax\"))\n",
    "    model.compile(loss=\"sparse_categorical_crossentropy\", optimizer=optimizer,\n",
    "                  metrics=[\"accuracy\"])\n",
    "    return model\n",
    "\n",
    "\n",
    "random_search_tuner = kt.RandomSearch(\n",
    "    build_model, objective=\"val_accuracy\", max_trials=5, overwrite=True,\n",
    "    directory=\"my_fashion_mnist\", project_name=\"my_rnd_search\", seed=42)\n",
    "random_search_tuner.search(X_train, y_train, epochs=10,\n",
    "                           validation_data=(X_valid, y_valid))"
   ]
  },
  {
   "cell_type": "code",
   "execution_count": 35,
   "id": "f9c45d67",
   "metadata": {
    "execution": {
     "iopub.execute_input": "2024-06-15T05:27:27.670527Z",
     "iopub.status.busy": "2024-06-15T05:27:27.670149Z",
     "iopub.status.idle": "2024-06-15T05:27:29.400473Z",
     "shell.execute_reply": "2024-06-15T05:27:29.399592Z"
    },
    "papermill": {
     "duration": 2.030293,
     "end_time": "2024-06-15T05:27:29.402581",
     "exception": false,
     "start_time": "2024-06-15T05:27:27.372288",
     "status": "completed"
    },
    "tags": []
   },
   "outputs": [
    {
     "name": "stderr",
     "output_type": "stream",
     "text": [
      "/opt/conda/lib/python3.10/site-packages/keras/src/saving/saving_lib.py:415: UserWarning: Skipping variable loading for optimizer 'adam', because it has 2 variables whereas the saved optimizer has 22 variables. \n",
      "  saveable.load_own_variables(weights_store.get(inner_path))\n"
     ]
    },
    {
     "data": {
      "text/plain": [
       "{'n_hidden': 4,\n",
       " 'n_neurons': 74,\n",
       " 'learning_rate': 0.00905127409782462,\n",
       " 'optimizer': 'adam'}"
      ]
     },
     "execution_count": 35,
     "metadata": {},
     "output_type": "execute_result"
    }
   ],
   "source": [
    "top3_models = random_search_tuner.get_best_models(num_models=3)\n",
    "best_model = top3_models[0]\n",
    "\n",
    "top3_params = random_search_tuner.get_best_hyperparameters(num_trials=3)\n",
    "top3_params[0].values  # best hyperparameter values"
   ]
  },
  {
   "cell_type": "code",
   "execution_count": 36,
   "id": "0613ed00",
   "metadata": {
    "execution": {
     "iopub.execute_input": "2024-06-15T05:27:30.089992Z",
     "iopub.status.busy": "2024-06-15T05:27:30.089665Z",
     "iopub.status.idle": "2024-06-15T05:27:30.094680Z",
     "shell.execute_reply": "2024-06-15T05:27:30.093752Z"
    },
    "papermill": {
     "duration": 0.305583,
     "end_time": "2024-06-15T05:27:30.097005",
     "exception": false,
     "start_time": "2024-06-15T05:27:29.791422",
     "status": "completed"
    },
    "tags": []
   },
   "outputs": [
    {
     "name": "stdout",
     "output_type": "stream",
     "text": [
      "Trial 2 summary\n",
      "Hyperparameters:\n",
      "n_hidden: 4\n",
      "n_neurons: 74\n",
      "learning_rate: 0.00905127409782462\n",
      "optimizer: adam\n",
      "Score: 0.8578000068664551\n"
     ]
    }
   ],
   "source": [
    "best_trial = random_search_tuner.oracle.get_best_trials(num_trials=1)[0]\n",
    "best_trial.summary()"
   ]
  },
  {
   "cell_type": "code",
   "execution_count": 37,
   "id": "08d275fa",
   "metadata": {
    "execution": {
     "iopub.execute_input": "2024-06-15T05:27:30.688219Z",
     "iopub.status.busy": "2024-06-15T05:27:30.687465Z",
     "iopub.status.idle": "2024-06-15T05:27:30.693582Z",
     "shell.execute_reply": "2024-06-15T05:27:30.692764Z"
    },
    "papermill": {
     "duration": 0.304624,
     "end_time": "2024-06-15T05:27:30.695661",
     "exception": false,
     "start_time": "2024-06-15T05:27:30.391037",
     "status": "completed"
    },
    "tags": []
   },
   "outputs": [
    {
     "data": {
      "text/plain": [
       "0.8578000068664551"
      ]
     },
     "execution_count": 37,
     "metadata": {},
     "output_type": "execute_result"
    }
   ],
   "source": [
    "best_trial.metrics.get_last_value(\"val_accuracy\")"
   ]
  },
  {
   "cell_type": "code",
   "execution_count": 38,
   "id": "bb8cdb7b",
   "metadata": {
    "execution": {
     "iopub.execute_input": "2024-06-15T05:27:31.290292Z",
     "iopub.status.busy": "2024-06-15T05:27:31.289446Z",
     "iopub.status.idle": "2024-06-15T05:28:04.485026Z",
     "shell.execute_reply": "2024-06-15T05:28:04.484111Z"
    },
    "papermill": {
     "duration": 33.494657,
     "end_time": "2024-06-15T05:28:04.487028",
     "exception": false,
     "start_time": "2024-06-15T05:27:30.992371",
     "status": "completed"
    },
    "tags": []
   },
   "outputs": [
    {
     "name": "stdout",
     "output_type": "stream",
     "text": [
      "Epoch 1/10\n",
      "\u001b[1m1875/1875\u001b[0m \u001b[32m━━━━━━━━━━━━━━━━━━━━\u001b[0m\u001b[37m\u001b[0m \u001b[1m5s\u001b[0m 2ms/step - accuracy: 0.6085 - loss: 5.4586\n",
      "Epoch 2/10\n",
      "\u001b[1m1875/1875\u001b[0m \u001b[32m━━━━━━━━━━━━━━━━━━━━\u001b[0m\u001b[37m\u001b[0m \u001b[1m3s\u001b[0m 2ms/step - accuracy: 0.2701 - loss: 1.9019\n",
      "Epoch 3/10\n",
      "\u001b[1m1875/1875\u001b[0m \u001b[32m━━━━━━━━━━━━━━━━━━━━\u001b[0m\u001b[37m\u001b[0m \u001b[1m3s\u001b[0m 2ms/step - accuracy: 0.2173 - loss: 1.7778\n",
      "Epoch 4/10\n",
      "\u001b[1m1875/1875\u001b[0m \u001b[32m━━━━━━━━━━━━━━━━━━━━\u001b[0m\u001b[37m\u001b[0m \u001b[1m3s\u001b[0m 2ms/step - accuracy: 0.1676 - loss: 2.3079\n",
      "Epoch 5/10\n",
      "\u001b[1m1875/1875\u001b[0m \u001b[32m━━━━━━━━━━━━━━━━━━━━\u001b[0m\u001b[37m\u001b[0m \u001b[1m3s\u001b[0m 2ms/step - accuracy: 0.1872 - loss: 2.1940\n",
      "Epoch 6/10\n",
      "\u001b[1m1875/1875\u001b[0m \u001b[32m━━━━━━━━━━━━━━━━━━━━\u001b[0m\u001b[37m\u001b[0m \u001b[1m3s\u001b[0m 2ms/step - accuracy: 0.1941 - loss: 2.0410\n",
      "Epoch 7/10\n",
      "\u001b[1m1875/1875\u001b[0m \u001b[32m━━━━━━━━━━━━━━━━━━━━\u001b[0m\u001b[37m\u001b[0m \u001b[1m3s\u001b[0m 2ms/step - accuracy: 0.1937 - loss: 2.0367\n",
      "Epoch 8/10\n",
      "\u001b[1m1875/1875\u001b[0m \u001b[32m━━━━━━━━━━━━━━━━━━━━\u001b[0m\u001b[37m\u001b[0m \u001b[1m3s\u001b[0m 2ms/step - accuracy: 0.1932 - loss: 2.0357\n",
      "Epoch 9/10\n",
      "\u001b[1m1875/1875\u001b[0m \u001b[32m━━━━━━━━━━━━━━━━━━━━\u001b[0m\u001b[37m\u001b[0m \u001b[1m3s\u001b[0m 2ms/step - accuracy: 0.1935 - loss: 2.0353\n",
      "Epoch 10/10\n",
      "\u001b[1m1875/1875\u001b[0m \u001b[32m━━━━━━━━━━━━━━━━━━━━\u001b[0m\u001b[37m\u001b[0m \u001b[1m3s\u001b[0m 2ms/step - accuracy: 0.1932 - loss: 2.0350\n",
      "\u001b[1m313/313\u001b[0m \u001b[32m━━━━━━━━━━━━━━━━━━━━\u001b[0m\u001b[37m\u001b[0m \u001b[1m1s\u001b[0m 2ms/step - accuracy: 0.1914 - loss: 2.0477\n"
     ]
    }
   ],
   "source": [
    "best_model.fit(X_train_full, y_train_full, epochs=10)\n",
    "test_loss, test_accuracy = best_model.evaluate(X_test, y_test)"
   ]
  },
  {
   "cell_type": "code",
   "execution_count": 39,
   "id": "78eee87c",
   "metadata": {
    "execution": {
     "iopub.execute_input": "2024-06-15T05:28:05.234287Z",
     "iopub.status.busy": "2024-06-15T05:28:05.233907Z",
     "iopub.status.idle": "2024-06-15T05:28:05.240272Z",
     "shell.execute_reply": "2024-06-15T05:28:05.239379Z"
    },
    "papermill": {
     "duration": 0.40741,
     "end_time": "2024-06-15T05:28:05.242282",
     "exception": false,
     "start_time": "2024-06-15T05:28:04.834872",
     "status": "completed"
    },
    "tags": []
   },
   "outputs": [],
   "source": [
    "# if you want to fine-tune data preprocessing hyperparameters, or model.fit() arguments, e.g., batch size\n",
    "# use kt.HyperModel class and define 2 methods, build() and fit()\n",
    "# build() will simply call build_model() defined above\n",
    "# fit() takes a HperParameters object and a compiled model, as well as all model.fit() arguments, and fits the model and returns history\n",
    "\n",
    "class MyClassificationHyperModel(kt.HyperModel):\n",
    "    def build(self, hp):\n",
    "        return build_model(hp)\n",
    "\n",
    "    def fit(self, hp, model, X, y, **kwargs):\n",
    "        if hp.Boolean(\"normalize\"):\n",
    "            # if true then standarize the training data\n",
    "            norm_layer = tf.keras.layers.Normalization()\n",
    "            X = norm_layer(X)\n",
    "        return model.fit(X, y, **kwargs)"
   ]
  },
  {
   "cell_type": "code",
   "execution_count": 40,
   "id": "693f9e0a",
   "metadata": {
    "execution": {
     "iopub.execute_input": "2024-06-15T05:28:05.931940Z",
     "iopub.status.busy": "2024-06-15T05:28:05.931618Z",
     "iopub.status.idle": "2024-06-15T05:28:05.948563Z",
     "shell.execute_reply": "2024-06-15T05:28:05.947796Z"
    },
    "papermill": {
     "duration": 0.364734,
     "end_time": "2024-06-15T05:28:05.950455",
     "exception": false,
     "start_time": "2024-06-15T05:28:05.585721",
     "status": "completed"
    },
    "tags": []
   },
   "outputs": [],
   "source": [
    "# pass instance of this class instead of build_model to the tuner\n",
    "\n",
    "hyperband_tuner = kt.Hyperband(\n",
    "    MyClassificationHyperModel(), objective=\"val_accuracy\", seed=42,\n",
    "    max_epochs=10, factor=3, hyperband_iterations=2,\n",
    "    overwrite=True, directory=\"my_fashion_mnist\", project_name=\"hyperband\")"
   ]
  },
  {
   "cell_type": "code",
   "execution_count": 41,
   "id": "70711b18",
   "metadata": {
    "execution": {
     "iopub.execute_input": "2024-06-15T05:28:06.633212Z",
     "iopub.status.busy": "2024-06-15T05:28:06.632500Z",
     "iopub.status.idle": "2024-06-15T05:28:19.661680Z",
     "shell.execute_reply": "2024-06-15T05:28:19.660468Z"
    },
    "papermill": {
     "duration": 13.372129,
     "end_time": "2024-06-15T05:28:19.663935",
     "exception": false,
     "start_time": "2024-06-15T05:28:06.291806",
     "status": "completed"
    },
    "tags": []
   },
   "outputs": [
    {
     "name": "stderr",
     "output_type": "stream",
     "text": [
      "/opt/conda/lib/python3.10/pty.py:89: RuntimeWarning: os.fork() was called. os.fork() is incompatible with multithreaded code, and JAX is multithreaded, so this will likely lead to a deadlock.\n",
      "  pid, fd = os.forkpty()\n"
     ]
    },
    {
     "name": "stdout",
     "output_type": "stream",
     "text": [
      "Note: you may need to restart the kernel to use updated packages.\n"
     ]
    }
   ],
   "source": [
    "%pip install -q -U tensorboard-plugin-profile\n",
    "\n",
    "shutil.rmtree(\"my_logs\", ignore_errors=True)\n",
    "\n",
    "from pathlib import Path\n",
    "from time import strftime\n",
    "\n",
    "def get_run_logdir(root_logdir=\"my_logs\"):\n",
    "    return Path(root_logdir) / strftime(\"run_%Y_%m_%d_%H_%M_%S\")\n",
    "\n",
    "run_logdir = get_run_logdir()"
   ]
  },
  {
   "cell_type": "code",
   "execution_count": 42,
   "id": "acd67183",
   "metadata": {
    "execution": {
     "iopub.execute_input": "2024-06-15T05:28:20.398935Z",
     "iopub.status.busy": "2024-06-15T05:28:20.398512Z",
     "iopub.status.idle": "2024-06-15T05:49:05.580524Z",
     "shell.execute_reply": "2024-06-15T05:49:05.579341Z"
    },
    "papermill": {
     "duration": 1245.577081,
     "end_time": "2024-06-15T05:49:05.582711",
     "exception": false,
     "start_time": "2024-06-15T05:28:20.005630",
     "status": "completed"
    },
    "tags": []
   },
   "outputs": [
    {
     "name": "stdout",
     "output_type": "stream",
     "text": [
      "Trial 60 Complete [00h 00m 46s]\n",
      "val_accuracy: 0.8406000137329102\n",
      "\n",
      "Best val_accuracy So Far: 0.8733999729156494\n",
      "Total elapsed time: 00h 20m 45s\n"
     ]
    }
   ],
   "source": [
    "root_logdir = Path(hyperband_tuner.project_dir) / \"tensorboard\"\n",
    "tensorboard_cb = tf.keras.callbacks.TensorBoard(root_logdir)\n",
    "early_stopping_cb = tf.keras.callbacks.EarlyStopping(patience=2)\n",
    "hyperband_tuner.search(X_train, y_train, epochs=10,\n",
    "                       validation_data=(X_valid, y_valid),\n",
    "                       callbacks=[early_stopping_cb, tensorboard_cb])"
   ]
  },
  {
   "cell_type": "code",
   "execution_count": 43,
   "id": "0eff4cf4",
   "metadata": {
    "execution": {
     "iopub.execute_input": "2024-06-15T05:49:06.294213Z",
     "iopub.status.busy": "2024-06-15T05:49:06.293873Z",
     "iopub.status.idle": "2024-06-15T05:49:12.827453Z",
     "shell.execute_reply": "2024-06-15T05:49:12.826613Z"
    },
    "papermill": {
     "duration": 6.890959,
     "end_time": "2024-06-15T05:49:12.829606",
     "exception": false,
     "start_time": "2024-06-15T05:49:05.938647",
     "status": "completed"
    },
    "tags": []
   },
   "outputs": [
    {
     "data": {
      "text/html": [
       "\n",
       "      <iframe id=\"tensorboard-frame-e25bab050df58608\" width=\"100%\" height=\"800\" frameborder=\"0\">\n",
       "      </iframe>\n",
       "      <script>\n",
       "        (function() {\n",
       "          const frame = document.getElementById(\"tensorboard-frame-e25bab050df58608\");\n",
       "          const url = new URL(\"/\", window.location);\n",
       "          const port = 6006;\n",
       "          if (port) {\n",
       "            url.port = port;\n",
       "          }\n",
       "          frame.src = url;\n",
       "        })();\n",
       "      </script>\n",
       "    "
      ],
      "text/plain": [
       "<IPython.core.display.HTML object>"
      ]
     },
     "metadata": {},
     "output_type": "display_data"
    }
   ],
   "source": [
    "# Load TensorBoard extension\n",
    "%load_ext tensorboard\n",
    "\n",
    "# Start TensorBoard\n",
    "%tensorboard --logdir {root_logdir}"
   ]
  },
  {
   "cell_type": "code",
   "execution_count": 44,
   "id": "eb0b9eed",
   "metadata": {
    "execution": {
     "iopub.execute_input": "2024-06-15T05:49:13.530271Z",
     "iopub.status.busy": "2024-06-15T05:49:13.529643Z",
     "iopub.status.idle": "2024-06-15T05:49:13.536435Z",
     "shell.execute_reply": "2024-06-15T05:49:13.535585Z"
    },
    "papermill": {
     "duration": 0.361721,
     "end_time": "2024-06-15T05:49:13.538447",
     "exception": false,
     "start_time": "2024-06-15T05:49:13.176726",
     "status": "completed"
    },
    "tags": []
   },
   "outputs": [
    {
     "data": {
      "text/html": [
       "<a href=\"http://localhost:6006/\">http://localhost:6006/</a>"
      ],
      "text/plain": [
       "<IPython.core.display.HTML object>"
      ]
     },
     "metadata": {},
     "output_type": "display_data"
    }
   ],
   "source": [
    "import sys\n",
    "if \"google.colab\" in sys.modules:\n",
    "    from google.colab import output\n",
    "\n",
    "    output.serve_kernel_port_as_window(6006)\n",
    "else:\n",
    "    from IPython.display import display, HTML\n",
    "\n",
    "    display(HTML('<a href=\"http://localhost:6006/\">http://localhost:6006/</a>'))"
   ]
  },
  {
   "cell_type": "code",
   "execution_count": null,
   "id": "ecad8d9e",
   "metadata": {
    "papermill": {
     "duration": 0.350611,
     "end_time": "2024-06-15T05:49:14.305777",
     "exception": false,
     "start_time": "2024-06-15T05:49:13.955166",
     "status": "completed"
    },
    "tags": []
   },
   "outputs": [],
   "source": []
  }
 ],
 "metadata": {
  "kaggle": {
   "accelerator": "gpu",
   "dataSources": [],
   "dockerImageVersionId": 30732,
   "isGpuEnabled": true,
   "isInternetEnabled": true,
   "language": "python",
   "sourceType": "notebook"
  },
  "kernelspec": {
   "display_name": "Python 3",
   "language": "python",
   "name": "python3"
  },
  "language_info": {
   "codemirror_mode": {
    "name": "ipython",
    "version": 3
   },
   "file_extension": ".py",
   "mimetype": "text/x-python",
   "name": "python",
   "nbconvert_exporter": "python",
   "pygments_lexer": "ipython3",
   "version": "3.10.13"
  },
  "papermill": {
   "default_parameters": {},
   "duration": 1706.995727,
   "end_time": "2024-06-15T05:49:17.490740",
   "environment_variables": {},
   "exception": null,
   "input_path": "__notebook__.ipynb",
   "output_path": "__notebook__.ipynb",
   "parameters": {},
   "start_time": "2024-06-15T05:20:50.495013",
   "version": "2.5.0"
  }
 },
 "nbformat": 4,
 "nbformat_minor": 5
}
