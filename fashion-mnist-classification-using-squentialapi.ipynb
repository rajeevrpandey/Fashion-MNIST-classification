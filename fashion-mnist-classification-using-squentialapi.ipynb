{
 "cells": [
  {
   "cell_type": "code",
   "execution_count": 1,
   "id": "cd9e9274",
   "metadata": {
    "_cell_guid": "b1076dfc-b9ad-4769-8c92-a6c4dae69d19",
    "_uuid": "8f2839f25d086af736a60e9eeb907d3b93b6e0e5",
    "execution": {
     "iopub.execute_input": "2024-06-08T06:19:49.197801Z",
     "iopub.status.busy": "2024-06-08T06:19:49.197384Z",
     "iopub.status.idle": "2024-06-08T06:19:50.172922Z",
     "shell.execute_reply": "2024-06-08T06:19:50.171775Z"
    },
    "papermill": {
     "duration": 0.987932,
     "end_time": "2024-06-08T06:19:50.176091",
     "exception": false,
     "start_time": "2024-06-08T06:19:49.188159",
     "status": "completed"
    },
    "tags": []
   },
   "outputs": [],
   "source": [
    "# This Python 3 environment comes with many helpful analytics libraries installed\n",
    "# It is defined by the kaggle/python Docker image: https://github.com/kaggle/docker-python\n",
    "# For example, here's several helpful packages to load\n",
    "\n",
    "import numpy as np # linear algebra\n",
    "import pandas as pd # data processing, CSV file I/O (e.g. pd.read_csv)\n",
    "\n",
    "# Input data files are available in the read-only \"../input/\" directory\n",
    "# For example, running this (by clicking run or pressing Shift+Enter) will list all files under the input directory\n",
    "\n",
    "import os\n",
    "for dirname, _, filenames in os.walk('/kaggle/input'):\n",
    "    for filename in filenames:\n",
    "        print(os.path.join(dirname, filename))\n",
    "\n",
    "# You can write up to 20GB to the current directory (/kaggle/working/) that gets preserved as output when you create a version using \"Save & Run All\" \n",
    "# You can also write temporary files to /kaggle/temp/, but they won't be saved outside of the current session"
   ]
  },
  {
   "cell_type": "code",
   "execution_count": 2,
   "id": "59ab965f",
   "metadata": {
    "execution": {
     "iopub.execute_input": "2024-06-08T06:19:50.193934Z",
     "iopub.status.busy": "2024-06-08T06:19:50.193379Z",
     "iopub.status.idle": "2024-06-08T06:20:05.648213Z",
     "shell.execute_reply": "2024-06-08T06:20:05.646883Z"
    },
    "papermill": {
     "duration": 15.466392,
     "end_time": "2024-06-08T06:20:05.651024",
     "exception": false,
     "start_time": "2024-06-08T06:19:50.184632",
     "status": "completed"
    },
    "tags": []
   },
   "outputs": [
    {
     "name": "stderr",
     "output_type": "stream",
     "text": [
      "2024-06-08 06:19:52.444008: E external/local_xla/xla/stream_executor/cuda/cuda_dnn.cc:9261] Unable to register cuDNN factory: Attempting to register factory for plugin cuDNN when one has already been registered\n",
      "2024-06-08 06:19:52.444149: E external/local_xla/xla/stream_executor/cuda/cuda_fft.cc:607] Unable to register cuFFT factory: Attempting to register factory for plugin cuFFT when one has already been registered\n",
      "2024-06-08 06:19:52.593998: E external/local_xla/xla/stream_executor/cuda/cuda_blas.cc:1515] Unable to register cuBLAS factory: Attempting to register factory for plugin cuBLAS when one has already been registered\n"
     ]
    },
    {
     "name": "stdout",
     "output_type": "stream",
     "text": [
      "Downloading data from https://storage.googleapis.com/tensorflow/tf-keras-datasets/train-labels-idx1-ubyte.gz\n",
      "\u001b[1m29515/29515\u001b[0m \u001b[32m━━━━━━━━━━━━━━━━━━━━\u001b[0m\u001b[37m\u001b[0m \u001b[1m0s\u001b[0m 0us/step\n",
      "Downloading data from https://storage.googleapis.com/tensorflow/tf-keras-datasets/train-images-idx3-ubyte.gz\n",
      "\u001b[1m26421880/26421880\u001b[0m \u001b[32m━━━━━━━━━━━━━━━━━━━━\u001b[0m\u001b[37m\u001b[0m \u001b[1m0s\u001b[0m 0us/step\n",
      "Downloading data from https://storage.googleapis.com/tensorflow/tf-keras-datasets/t10k-labels-idx1-ubyte.gz\n",
      "\u001b[1m5148/5148\u001b[0m \u001b[32m━━━━━━━━━━━━━━━━━━━━\u001b[0m\u001b[37m\u001b[0m \u001b[1m0s\u001b[0m 1us/step\n",
      "Downloading data from https://storage.googleapis.com/tensorflow/tf-keras-datasets/t10k-images-idx3-ubyte.gz\n",
      "\u001b[1m4422102/4422102\u001b[0m \u001b[32m━━━━━━━━━━━━━━━━━━━━\u001b[0m\u001b[37m\u001b[0m \u001b[1m0s\u001b[0m 0us/step\n"
     ]
    },
    {
     "data": {
      "text/plain": [
       "tuple"
      ]
     },
     "execution_count": 2,
     "metadata": {},
     "output_type": "execute_result"
    }
   ],
   "source": [
    "import tensorflow as tf\n",
    "fashion_mnist = tf.keras.datasets.fashion_mnist.load_data()\n",
    "type(fashion_mnist)"
   ]
  },
  {
   "cell_type": "code",
   "execution_count": 3,
   "id": "ba4de9ac",
   "metadata": {
    "execution": {
     "iopub.execute_input": "2024-06-08T06:20:05.670691Z",
     "iopub.status.busy": "2024-06-08T06:20:05.669954Z",
     "iopub.status.idle": "2024-06-08T06:20:05.676694Z",
     "shell.execute_reply": "2024-06-08T06:20:05.675521Z"
    },
    "papermill": {
     "duration": 0.01941,
     "end_time": "2024-06-08T06:20:05.679267",
     "exception": false,
     "start_time": "2024-06-08T06:20:05.659857",
     "status": "completed"
    },
    "tags": []
   },
   "outputs": [],
   "source": [
    "(X_train_full, y_train_full), (X_test, y_test) = fashion_mnist\n",
    "X_valid, y_valid = X_train_full[-5000:], y_train_full[-5000:]\n",
    "X_train, y_train = X_train_full[:-5000], y_train_full[:-5000]"
   ]
  },
  {
   "cell_type": "code",
   "execution_count": 4,
   "id": "e98fad23",
   "metadata": {
    "execution": {
     "iopub.execute_input": "2024-06-08T06:20:05.698604Z",
     "iopub.status.busy": "2024-06-08T06:20:05.698182Z",
     "iopub.status.idle": "2024-06-08T06:20:05.705916Z",
     "shell.execute_reply": "2024-06-08T06:20:05.704620Z"
    },
    "papermill": {
     "duration": 0.020175,
     "end_time": "2024-06-08T06:20:05.708287",
     "exception": false,
     "start_time": "2024-06-08T06:20:05.688112",
     "status": "completed"
    },
    "tags": []
   },
   "outputs": [
    {
     "data": {
      "text/plain": [
       "(55000, 28, 28)"
      ]
     },
     "execution_count": 4,
     "metadata": {},
     "output_type": "execute_result"
    }
   ],
   "source": [
    "X_train.shape"
   ]
  },
  {
   "cell_type": "code",
   "execution_count": 5,
   "id": "27d2119d",
   "metadata": {
    "execution": {
     "iopub.execute_input": "2024-06-08T06:20:05.727551Z",
     "iopub.status.busy": "2024-06-08T06:20:05.727112Z",
     "iopub.status.idle": "2024-06-08T06:20:05.734271Z",
     "shell.execute_reply": "2024-06-08T06:20:05.733168Z"
    },
    "papermill": {
     "duration": 0.019526,
     "end_time": "2024-06-08T06:20:05.736568",
     "exception": false,
     "start_time": "2024-06-08T06:20:05.717042",
     "status": "completed"
    },
    "tags": []
   },
   "outputs": [
    {
     "data": {
      "text/plain": [
       "dtype('uint8')"
      ]
     },
     "execution_count": 5,
     "metadata": {},
     "output_type": "execute_result"
    }
   ],
   "source": [
    "X_train.dtype"
   ]
  },
  {
   "cell_type": "code",
   "execution_count": 6,
   "id": "074c112b",
   "metadata": {
    "execution": {
     "iopub.execute_input": "2024-06-08T06:20:05.755947Z",
     "iopub.status.busy": "2024-06-08T06:20:05.755533Z",
     "iopub.status.idle": "2024-06-08T06:20:05.764151Z",
     "shell.execute_reply": "2024-06-08T06:20:05.763000Z"
    },
    "papermill": {
     "duration": 0.021341,
     "end_time": "2024-06-08T06:20:05.766795",
     "exception": false,
     "start_time": "2024-06-08T06:20:05.745454",
     "status": "completed"
    },
    "tags": []
   },
   "outputs": [
    {
     "data": {
      "text/plain": [
       "array([0, 1, 2, 3, 4, 5, 6, 7, 8, 9], dtype=uint8)"
      ]
     },
     "execution_count": 6,
     "metadata": {},
     "output_type": "execute_result"
    }
   ],
   "source": [
    "np.unique(y_train)"
   ]
  },
  {
   "cell_type": "code",
   "execution_count": 7,
   "id": "5f74e120",
   "metadata": {
    "execution": {
     "iopub.execute_input": "2024-06-08T06:20:05.787569Z",
     "iopub.status.busy": "2024-06-08T06:20:05.787122Z",
     "iopub.status.idle": "2024-06-08T06:20:05.794180Z",
     "shell.execute_reply": "2024-06-08T06:20:05.793103Z"
    },
    "papermill": {
     "duration": 0.020786,
     "end_time": "2024-06-08T06:20:05.796835",
     "exception": false,
     "start_time": "2024-06-08T06:20:05.776049",
     "status": "completed"
    },
    "tags": []
   },
   "outputs": [
    {
     "data": {
      "text/plain": [
       "9"
      ]
     },
     "execution_count": 7,
     "metadata": {},
     "output_type": "execute_result"
    }
   ],
   "source": [
    "y_train[0]"
   ]
  },
  {
   "cell_type": "code",
   "execution_count": 8,
   "id": "14ebe312",
   "metadata": {
    "execution": {
     "iopub.execute_input": "2024-06-08T06:20:05.817445Z",
     "iopub.status.busy": "2024-06-08T06:20:05.817009Z",
     "iopub.status.idle": "2024-06-08T06:20:06.020096Z",
     "shell.execute_reply": "2024-06-08T06:20:06.018934Z"
    },
    "papermill": {
     "duration": 0.21673,
     "end_time": "2024-06-08T06:20:06.023041",
     "exception": false,
     "start_time": "2024-06-08T06:20:05.806311",
     "status": "completed"
    },
    "tags": []
   },
   "outputs": [],
   "source": [
    "# Let's scale the pixel intensities down to the 0-1 range and convert them to floats, by dividing by 255:\n",
    "\n",
    "X_train, X_valid, X_test = X_train / 255., X_valid / 255., X_test / 255."
   ]
  },
  {
   "cell_type": "code",
   "execution_count": 9,
   "id": "d536a483",
   "metadata": {
    "execution": {
     "iopub.execute_input": "2024-06-08T06:20:06.043231Z",
     "iopub.status.busy": "2024-06-08T06:20:06.042828Z",
     "iopub.status.idle": "2024-06-08T06:20:06.048141Z",
     "shell.execute_reply": "2024-06-08T06:20:06.046985Z"
    },
    "papermill": {
     "duration": 0.018105,
     "end_time": "2024-06-08T06:20:06.050475",
     "exception": false,
     "start_time": "2024-06-08T06:20:06.032370",
     "status": "completed"
    },
    "tags": []
   },
   "outputs": [],
   "source": [
    "#Here are the corresponding class names:\n",
    "\n",
    "class_names = [\"T-shirt/top\", \"Trouser\", \"Pullover\", \"Dress\", \"Coat\",\n",
    "               \"Sandal\", \"Shirt\", \"Sneaker\", \"Bag\", \"Ankle boot\"]"
   ]
  },
  {
   "cell_type": "code",
   "execution_count": 10,
   "id": "12efc1b4",
   "metadata": {
    "execution": {
     "iopub.execute_input": "2024-06-08T06:20:06.070674Z",
     "iopub.status.busy": "2024-06-08T06:20:06.070270Z",
     "iopub.status.idle": "2024-06-08T06:20:06.175216Z",
     "shell.execute_reply": "2024-06-08T06:20:06.173999Z"
    },
    "papermill": {
     "duration": 0.118217,
     "end_time": "2024-06-08T06:20:06.178013",
     "exception": false,
     "start_time": "2024-06-08T06:20:06.059796",
     "status": "completed"
    },
    "tags": []
   },
   "outputs": [],
   "source": [
    "# Creating the model using the sequential API\n",
    "\n",
    "tf.random.set_seed(42)\n",
    "model = tf.keras.Sequential() # using sequential model\n",
    "model.add(tf.keras.layers.Input(shape = [28, 28])) # adding input layer specifying input size\n",
    "model.add(tf.keras.layers.Flatten()) # it will convert the input into 1d array\n",
    "model.add(tf.keras.layers.Dense(300, activation=\"relu\"))\n",
    "model.add(tf.keras.layers.Dense(100, activation=\"relu\"))\n",
    "model.add(tf.keras.layers.Dense(10, activation=\"softmax\"))"
   ]
  },
  {
   "cell_type": "code",
   "execution_count": 11,
   "id": "f0e27328",
   "metadata": {
    "execution": {
     "iopub.execute_input": "2024-06-08T06:20:06.198374Z",
     "iopub.status.busy": "2024-06-08T06:20:06.197959Z",
     "iopub.status.idle": "2024-06-08T06:20:06.221339Z",
     "shell.execute_reply": "2024-06-08T06:20:06.220253Z"
    },
    "papermill": {
     "duration": 0.036515,
     "end_time": "2024-06-08T06:20:06.223999",
     "exception": false,
     "start_time": "2024-06-08T06:20:06.187484",
     "status": "completed"
    },
    "tags": []
   },
   "outputs": [
    {
     "data": {
      "text/html": [
       "<pre style=\"white-space:pre;overflow-x:auto;line-height:normal;font-family:Menlo,'DejaVu Sans Mono',consolas,'Courier New',monospace\"><span style=\"font-weight: bold\">Model: \"sequential\"</span>\n",
       "</pre>\n"
      ],
      "text/plain": [
       "\u001b[1mModel: \"sequential\"\u001b[0m\n"
      ]
     },
     "metadata": {},
     "output_type": "display_data"
    },
    {
     "data": {
      "text/html": [
       "<pre style=\"white-space:pre;overflow-x:auto;line-height:normal;font-family:Menlo,'DejaVu Sans Mono',consolas,'Courier New',monospace\">┏━━━━━━━━━━━━━━━━━━━━━━━━━━━━━━━━━┳━━━━━━━━━━━━━━━━━━━━━━━━┳━━━━━━━━━━━━━━━┓\n",
       "┃<span style=\"font-weight: bold\"> Layer (type)                    </span>┃<span style=\"font-weight: bold\"> Output Shape           </span>┃<span style=\"font-weight: bold\">       Param # </span>┃\n",
       "┡━━━━━━━━━━━━━━━━━━━━━━━━━━━━━━━━━╇━━━━━━━━━━━━━━━━━━━━━━━━╇━━━━━━━━━━━━━━━┩\n",
       "│ flatten (<span style=\"color: #0087ff; text-decoration-color: #0087ff\">Flatten</span>)               │ (<span style=\"color: #00d7ff; text-decoration-color: #00d7ff\">None</span>, <span style=\"color: #00af00; text-decoration-color: #00af00\">784</span>)            │             <span style=\"color: #00af00; text-decoration-color: #00af00\">0</span> │\n",
       "├─────────────────────────────────┼────────────────────────┼───────────────┤\n",
       "│ dense (<span style=\"color: #0087ff; text-decoration-color: #0087ff\">Dense</span>)                   │ (<span style=\"color: #00d7ff; text-decoration-color: #00d7ff\">None</span>, <span style=\"color: #00af00; text-decoration-color: #00af00\">300</span>)            │       <span style=\"color: #00af00; text-decoration-color: #00af00\">235,500</span> │\n",
       "├─────────────────────────────────┼────────────────────────┼───────────────┤\n",
       "│ dense_1 (<span style=\"color: #0087ff; text-decoration-color: #0087ff\">Dense</span>)                 │ (<span style=\"color: #00d7ff; text-decoration-color: #00d7ff\">None</span>, <span style=\"color: #00af00; text-decoration-color: #00af00\">100</span>)            │        <span style=\"color: #00af00; text-decoration-color: #00af00\">30,100</span> │\n",
       "├─────────────────────────────────┼────────────────────────┼───────────────┤\n",
       "│ dense_2 (<span style=\"color: #0087ff; text-decoration-color: #0087ff\">Dense</span>)                 │ (<span style=\"color: #00d7ff; text-decoration-color: #00d7ff\">None</span>, <span style=\"color: #00af00; text-decoration-color: #00af00\">10</span>)             │         <span style=\"color: #00af00; text-decoration-color: #00af00\">1,010</span> │\n",
       "└─────────────────────────────────┴────────────────────────┴───────────────┘\n",
       "</pre>\n"
      ],
      "text/plain": [
       "┏━━━━━━━━━━━━━━━━━━━━━━━━━━━━━━━━━┳━━━━━━━━━━━━━━━━━━━━━━━━┳━━━━━━━━━━━━━━━┓\n",
       "┃\u001b[1m \u001b[0m\u001b[1mLayer (type)                   \u001b[0m\u001b[1m \u001b[0m┃\u001b[1m \u001b[0m\u001b[1mOutput Shape          \u001b[0m\u001b[1m \u001b[0m┃\u001b[1m \u001b[0m\u001b[1m      Param #\u001b[0m\u001b[1m \u001b[0m┃\n",
       "┡━━━━━━━━━━━━━━━━━━━━━━━━━━━━━━━━━╇━━━━━━━━━━━━━━━━━━━━━━━━╇━━━━━━━━━━━━━━━┩\n",
       "│ flatten (\u001b[38;5;33mFlatten\u001b[0m)               │ (\u001b[38;5;45mNone\u001b[0m, \u001b[38;5;34m784\u001b[0m)            │             \u001b[38;5;34m0\u001b[0m │\n",
       "├─────────────────────────────────┼────────────────────────┼───────────────┤\n",
       "│ dense (\u001b[38;5;33mDense\u001b[0m)                   │ (\u001b[38;5;45mNone\u001b[0m, \u001b[38;5;34m300\u001b[0m)            │       \u001b[38;5;34m235,500\u001b[0m │\n",
       "├─────────────────────────────────┼────────────────────────┼───────────────┤\n",
       "│ dense_1 (\u001b[38;5;33mDense\u001b[0m)                 │ (\u001b[38;5;45mNone\u001b[0m, \u001b[38;5;34m100\u001b[0m)            │        \u001b[38;5;34m30,100\u001b[0m │\n",
       "├─────────────────────────────────┼────────────────────────┼───────────────┤\n",
       "│ dense_2 (\u001b[38;5;33mDense\u001b[0m)                 │ (\u001b[38;5;45mNone\u001b[0m, \u001b[38;5;34m10\u001b[0m)             │         \u001b[38;5;34m1,010\u001b[0m │\n",
       "└─────────────────────────────────┴────────────────────────┴───────────────┘\n"
      ]
     },
     "metadata": {},
     "output_type": "display_data"
    },
    {
     "data": {
      "text/html": [
       "<pre style=\"white-space:pre;overflow-x:auto;line-height:normal;font-family:Menlo,'DejaVu Sans Mono',consolas,'Courier New',monospace\"><span style=\"font-weight: bold\"> Total params: </span><span style=\"color: #00af00; text-decoration-color: #00af00\">266,610</span> (1.02 MB)\n",
       "</pre>\n"
      ],
      "text/plain": [
       "\u001b[1m Total params: \u001b[0m\u001b[38;5;34m266,610\u001b[0m (1.02 MB)\n"
      ]
     },
     "metadata": {},
     "output_type": "display_data"
    },
    {
     "data": {
      "text/html": [
       "<pre style=\"white-space:pre;overflow-x:auto;line-height:normal;font-family:Menlo,'DejaVu Sans Mono',consolas,'Courier New',monospace\"><span style=\"font-weight: bold\"> Trainable params: </span><span style=\"color: #00af00; text-decoration-color: #00af00\">266,610</span> (1.02 MB)\n",
       "</pre>\n"
      ],
      "text/plain": [
       "\u001b[1m Trainable params: \u001b[0m\u001b[38;5;34m266,610\u001b[0m (1.02 MB)\n"
      ]
     },
     "metadata": {},
     "output_type": "display_data"
    },
    {
     "data": {
      "text/html": [
       "<pre style=\"white-space:pre;overflow-x:auto;line-height:normal;font-family:Menlo,'DejaVu Sans Mono',consolas,'Courier New',monospace\"><span style=\"font-weight: bold\"> Non-trainable params: </span><span style=\"color: #00af00; text-decoration-color: #00af00\">0</span> (0.00 B)\n",
       "</pre>\n"
      ],
      "text/plain": [
       "\u001b[1m Non-trainable params: \u001b[0m\u001b[38;5;34m0\u001b[0m (0.00 B)\n"
      ]
     },
     "metadata": {},
     "output_type": "display_data"
    }
   ],
   "source": [
    "model.summary()"
   ]
  },
  {
   "cell_type": "code",
   "execution_count": 12,
   "id": "dab04a6d",
   "metadata": {
    "execution": {
     "iopub.execute_input": "2024-06-08T06:20:06.246118Z",
     "iopub.status.busy": "2024-06-08T06:20:06.245728Z",
     "iopub.status.idle": "2024-06-08T06:20:06.253004Z",
     "shell.execute_reply": "2024-06-08T06:20:06.251884Z"
    },
    "papermill": {
     "duration": 0.020888,
     "end_time": "2024-06-08T06:20:06.255259",
     "exception": false,
     "start_time": "2024-06-08T06:20:06.234371",
     "status": "completed"
    },
    "tags": []
   },
   "outputs": [
    {
     "data": {
      "text/plain": [
       "[<Flatten name=flatten, built=True>,\n",
       " <Dense name=dense, built=True>,\n",
       " <Dense name=dense_1, built=True>,\n",
       " <Dense name=dense_2, built=True>]"
      ]
     },
     "execution_count": 12,
     "metadata": {},
     "output_type": "execute_result"
    }
   ],
   "source": [
    "model.layers"
   ]
  },
  {
   "cell_type": "code",
   "execution_count": 13,
   "id": "a0a00b53",
   "metadata": {
    "execution": {
     "iopub.execute_input": "2024-06-08T06:20:06.277593Z",
     "iopub.status.busy": "2024-06-08T06:20:06.277210Z",
     "iopub.status.idle": "2024-06-08T06:20:06.284332Z",
     "shell.execute_reply": "2024-06-08T06:20:06.283219Z"
    },
    "papermill": {
     "duration": 0.021102,
     "end_time": "2024-06-08T06:20:06.286678",
     "exception": false,
     "start_time": "2024-06-08T06:20:06.265576",
     "status": "completed"
    },
    "tags": []
   },
   "outputs": [
    {
     "data": {
      "text/plain": [
       "'dense'"
      ]
     },
     "execution_count": 13,
     "metadata": {},
     "output_type": "execute_result"
    }
   ],
   "source": [
    "hidden1 = model.get_layer(\"dense\")\n",
    "hidden1.name"
   ]
  },
  {
   "cell_type": "code",
   "execution_count": 14,
   "id": "acb78344",
   "metadata": {
    "execution": {
     "iopub.execute_input": "2024-06-08T06:20:06.310223Z",
     "iopub.status.busy": "2024-06-08T06:20:06.309122Z",
     "iopub.status.idle": "2024-06-08T06:20:06.323242Z",
     "shell.execute_reply": "2024-06-08T06:20:06.322103Z"
    },
    "papermill": {
     "duration": 0.028821,
     "end_time": "2024-06-08T06:20:06.326005",
     "exception": false,
     "start_time": "2024-06-08T06:20:06.297184",
     "status": "completed"
    },
    "tags": []
   },
   "outputs": [
    {
     "data": {
      "text/plain": [
       "array([[ 0.02938935, -0.0362378 ,  0.02680124, ...,  0.06636395,\n",
       "        -0.03058707,  0.05234073],\n",
       "       [ 0.06041393, -0.0096227 , -0.06221715, ..., -0.00115271,\n",
       "        -0.06804803,  0.00776739],\n",
       "       [ 0.06540757,  0.0454541 , -0.00283809, ...,  0.04553231,\n",
       "         0.07318187, -0.04473398],\n",
       "       ...,\n",
       "       [-0.06322413,  0.01858459,  0.03825761, ..., -0.05558162,\n",
       "        -0.01304992,  0.02695916],\n",
       "       [ 0.04899462,  0.05841662, -0.00644436, ...,  0.05176817,\n",
       "         0.00548513, -0.00582509],\n",
       "       [-0.03776084, -0.06641393, -0.06289087, ...,  0.01359589,\n",
       "        -0.00684777, -0.02140753]], dtype=float32)"
      ]
     },
     "execution_count": 14,
     "metadata": {},
     "output_type": "execute_result"
    }
   ],
   "source": [
    "weights, biases = hidden1.get_weights()\n",
    "weights"
   ]
  },
  {
   "cell_type": "code",
   "execution_count": 15,
   "id": "556957b7",
   "metadata": {
    "execution": {
     "iopub.execute_input": "2024-06-08T06:20:06.349320Z",
     "iopub.status.busy": "2024-06-08T06:20:06.348832Z",
     "iopub.status.idle": "2024-06-08T06:20:06.359270Z",
     "shell.execute_reply": "2024-06-08T06:20:06.358107Z"
    },
    "papermill": {
     "duration": 0.024796,
     "end_time": "2024-06-08T06:20:06.361629",
     "exception": false,
     "start_time": "2024-06-08T06:20:06.336833",
     "status": "completed"
    },
    "tags": []
   },
   "outputs": [
    {
     "data": {
      "text/plain": [
       "array([0., 0., 0., 0., 0., 0., 0., 0., 0., 0., 0., 0., 0., 0., 0., 0., 0.,\n",
       "       0., 0., 0., 0., 0., 0., 0., 0., 0., 0., 0., 0., 0., 0., 0., 0., 0.,\n",
       "       0., 0., 0., 0., 0., 0., 0., 0., 0., 0., 0., 0., 0., 0., 0., 0., 0.,\n",
       "       0., 0., 0., 0., 0., 0., 0., 0., 0., 0., 0., 0., 0., 0., 0., 0., 0.,\n",
       "       0., 0., 0., 0., 0., 0., 0., 0., 0., 0., 0., 0., 0., 0., 0., 0., 0.,\n",
       "       0., 0., 0., 0., 0., 0., 0., 0., 0., 0., 0., 0., 0., 0., 0., 0., 0.,\n",
       "       0., 0., 0., 0., 0., 0., 0., 0., 0., 0., 0., 0., 0., 0., 0., 0., 0.,\n",
       "       0., 0., 0., 0., 0., 0., 0., 0., 0., 0., 0., 0., 0., 0., 0., 0., 0.,\n",
       "       0., 0., 0., 0., 0., 0., 0., 0., 0., 0., 0., 0., 0., 0., 0., 0., 0.,\n",
       "       0., 0., 0., 0., 0., 0., 0., 0., 0., 0., 0., 0., 0., 0., 0., 0., 0.,\n",
       "       0., 0., 0., 0., 0., 0., 0., 0., 0., 0., 0., 0., 0., 0., 0., 0., 0.,\n",
       "       0., 0., 0., 0., 0., 0., 0., 0., 0., 0., 0., 0., 0., 0., 0., 0., 0.,\n",
       "       0., 0., 0., 0., 0., 0., 0., 0., 0., 0., 0., 0., 0., 0., 0., 0., 0.,\n",
       "       0., 0., 0., 0., 0., 0., 0., 0., 0., 0., 0., 0., 0., 0., 0., 0., 0.,\n",
       "       0., 0., 0., 0., 0., 0., 0., 0., 0., 0., 0., 0., 0., 0., 0., 0., 0.,\n",
       "       0., 0., 0., 0., 0., 0., 0., 0., 0., 0., 0., 0., 0., 0., 0., 0., 0.,\n",
       "       0., 0., 0., 0., 0., 0., 0., 0., 0., 0., 0., 0., 0., 0., 0., 0., 0.,\n",
       "       0., 0., 0., 0., 0., 0., 0., 0., 0., 0., 0.], dtype=float32)"
      ]
     },
     "execution_count": 15,
     "metadata": {},
     "output_type": "execute_result"
    }
   ],
   "source": [
    "biases"
   ]
  },
  {
   "cell_type": "code",
   "execution_count": 16,
   "id": "1a3ff894",
   "metadata": {
    "execution": {
     "iopub.execute_input": "2024-06-08T06:20:06.385508Z",
     "iopub.status.busy": "2024-06-08T06:20:06.385068Z",
     "iopub.status.idle": "2024-06-08T06:20:06.392301Z",
     "shell.execute_reply": "2024-06-08T06:20:06.391168Z"
    },
    "papermill": {
     "duration": 0.021713,
     "end_time": "2024-06-08T06:20:06.394734",
     "exception": false,
     "start_time": "2024-06-08T06:20:06.373021",
     "status": "completed"
    },
    "tags": []
   },
   "outputs": [
    {
     "data": {
      "text/plain": [
       "(784, 300)"
      ]
     },
     "execution_count": 16,
     "metadata": {},
     "output_type": "execute_result"
    }
   ],
   "source": [
    "weights.shape"
   ]
  },
  {
   "cell_type": "code",
   "execution_count": 17,
   "id": "ba76a000",
   "metadata": {
    "execution": {
     "iopub.execute_input": "2024-06-08T06:20:06.418700Z",
     "iopub.status.busy": "2024-06-08T06:20:06.418261Z",
     "iopub.status.idle": "2024-06-08T06:20:06.426581Z",
     "shell.execute_reply": "2024-06-08T06:20:06.424642Z"
    },
    "papermill": {
     "duration": 0.023636,
     "end_time": "2024-06-08T06:20:06.429378",
     "exception": false,
     "start_time": "2024-06-08T06:20:06.405742",
     "status": "completed"
    },
    "tags": []
   },
   "outputs": [
    {
     "data": {
      "text/plain": [
       "(300,)"
      ]
     },
     "execution_count": 17,
     "metadata": {},
     "output_type": "execute_result"
    }
   ],
   "source": [
    "biases.shape"
   ]
  },
  {
   "cell_type": "code",
   "execution_count": 18,
   "id": "fe29a586",
   "metadata": {
    "execution": {
     "iopub.execute_input": "2024-06-08T06:20:06.454581Z",
     "iopub.status.busy": "2024-06-08T06:20:06.453692Z",
     "iopub.status.idle": "2024-06-08T06:20:06.458652Z",
     "shell.execute_reply": "2024-06-08T06:20:06.457532Z"
    },
    "papermill": {
     "duration": 0.020254,
     "end_time": "2024-06-08T06:20:06.461089",
     "exception": false,
     "start_time": "2024-06-08T06:20:06.440835",
     "status": "completed"
    },
    "tags": []
   },
   "outputs": [],
   "source": [
    "# we can also set the parameters of any layer using set_weights()"
   ]
  },
  {
   "cell_type": "code",
   "execution_count": 19,
   "id": "1a65c308",
   "metadata": {
    "execution": {
     "iopub.execute_input": "2024-06-08T06:20:06.485270Z",
     "iopub.status.busy": "2024-06-08T06:20:06.484361Z",
     "iopub.status.idle": "2024-06-08T06:20:06.501222Z",
     "shell.execute_reply": "2024-06-08T06:20:06.500051Z"
    },
    "papermill": {
     "duration": 0.031807,
     "end_time": "2024-06-08T06:20:06.503946",
     "exception": false,
     "start_time": "2024-06-08T06:20:06.472139",
     "status": "completed"
    },
    "tags": []
   },
   "outputs": [],
   "source": [
    "# compiling the model by specifying the loss function and optimizer\n",
    "\n",
    "model.compile(loss=\"sparse_categorical_crossentropy\", # used when sparse labels and classes are exclusive\n",
    "             optimizer=\"sgd\", # stocastic GD, i.e., backpropagation is being used for training with default learning rate of 0.01\n",
    "             metrics=[\"accuracy\"])\n",
    "# we can also specify any extra metrics to compute during training and evaluation\n",
    "\n",
    "\n"
   ]
  },
  {
   "cell_type": "code",
   "execution_count": null,
   "id": "125cff9f",
   "metadata": {
    "papermill": {
     "duration": 0.010968,
     "end_time": "2024-06-08T06:20:06.526309",
     "exception": false,
     "start_time": "2024-06-08T06:20:06.515341",
     "status": "completed"
    },
    "tags": []
   },
   "outputs": [],
   "source": []
  }
 ],
 "metadata": {
  "kaggle": {
   "accelerator": "none",
   "dataSources": [],
   "dockerImageVersionId": 30732,
   "isGpuEnabled": false,
   "isInternetEnabled": true,
   "language": "python",
   "sourceType": "notebook"
  },
  "kernelspec": {
   "display_name": "Python 3",
   "language": "python",
   "name": "python3"
  },
  "language_info": {
   "codemirror_mode": {
    "name": "ipython",
    "version": 3
   },
   "file_extension": ".py",
   "mimetype": "text/x-python",
   "name": "python",
   "nbconvert_exporter": "python",
   "pygments_lexer": "ipython3",
   "version": "3.10.13"
  },
  "papermill": {
   "default_parameters": {},
   "duration": 21.98311,
   "end_time": "2024-06-08T06:20:07.962675",
   "environment_variables": {},
   "exception": null,
   "input_path": "__notebook__.ipynb",
   "output_path": "__notebook__.ipynb",
   "parameters": {},
   "start_time": "2024-06-08T06:19:45.979565",
   "version": "2.5.0"
  }
 },
 "nbformat": 4,
 "nbformat_minor": 5
}
